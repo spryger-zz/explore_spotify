{
 "cells": [
  {
   "cell_type": "markdown",
   "id": "b80803c6-6af2-403b-a1b7-c8b9b5c0ee1d",
   "metadata": {},
   "source": [
    "## questions I'm curious about"
   ]
  },
  {
   "cell_type": "markdown",
   "id": "53e09d91-ccbe-462d-9d89-d681d9b09618",
   "metadata": {},
   "source": [
    "- am I listing to full albums?\n",
    "- what decade do i listen to most?\n",
    "- what are my most listened to genres?\n",
    "- what are my most listened to albums?\n",
    "- are songs I'm listening to on my playlists or in my library?\n",
    "- can I tell someones mood that day based on what they are listening to?"
   ]
  },
  {
   "cell_type": "markdown",
   "id": "d092c4bc-43b2-41af-b928-0222303e860d",
   "metadata": {},
   "source": [
    "## Info I want about every song"
   ]
  },
  {
   "cell_type": "markdown",
   "id": "6a3bf6b1-870d-49ce-b027-457ebbb8ce37",
   "metadata": {},
   "source": [
    "- Track ID\n",
    "- Track Name\n",
    "- Artists ID\n",
    "- Artist Name\n",
    "- Length Of Track\n",
    "- Genres List of Track\n",
    "- End Time of Stream\n",
    "- Time of Stream\n",
    "- % of Song Listened To\n",
    "- Is Explicit\n",
    "- Disc Number"
   ]
  },
  {
   "cell_type": "markdown",
   "id": "448089af-59ac-4e06-b1ed-76087cb69364",
   "metadata": {},
   "source": [
    "## Things I've done so far"
   ]
  },
  {
   "cell_type": "markdown",
   "id": "4fd9ac2b-60ec-4960-bcab-809e5ce4c1ff",
   "metadata": {},
   "source": [
    "- Spotipy authorization and scope.\n",
    "    - Scope defines what data you're allow to pull from that API request\n",
    "    - I set environment variables of my client and secret needed for at least some authorization\n",
    "    - Does all authorization require scope?\n",
    "- Spotify Data Request\n",
    "    - They only retain 1 years worth of streaming data\n",
    "- "
   ]
  },
  {
   "cell_type": "markdown",
   "id": "d9ef68c9-c069-47d0-8e1c-f49c9f3e9333",
   "metadata": {},
   "source": [
    "# Initialize"
   ]
  },
  {
   "cell_type": "code",
   "execution_count": 2,
   "id": "83e7eb0b-2385-4090-ba3a-37825ece9887",
   "metadata": {},
   "outputs": [],
   "source": [
    "import json\n",
    "import os\n",
    "import spotipy\n",
    "from spotipy.oauth2 import SpotifyClientCredentials,SpotifyOAuth\n",
    "import pandas as pd\n",
    "from datetime import date, datetime\n",
    "import time\n",
    "from dateutil import tz"
   ]
  },
  {
   "cell_type": "markdown",
   "id": "fa4c59b6-887d-4811-a3ea-6479a485485e",
   "metadata": {},
   "source": [
    "## Pick your auth version"
   ]
  },
  {
   "cell_type": "code",
   "execution_count": 3,
   "id": "3e97e327-32dc-4f9b-b671-6de30d88398e",
   "metadata": {},
   "outputs": [],
   "source": [
    "user_id = 'brian.cross741'\n",
    "auth_manager = SpotifyClientCredentials()\n",
    "sp = spotipy.Spotify(auth_manager=auth_manager)\n",
    "#sp = spotipy.Spotify(auth_manager=SpotifyOAuth(scope=scope))"
   ]
  },
  {
   "cell_type": "markdown",
   "id": "85010406-46e7-4da2-903d-df9076ba6de6",
   "metadata": {},
   "source": [
    "# Basic Functions"
   ]
  },
  {
   "cell_type": "code",
   "execution_count": 180,
   "id": "c14aa79d-37d5-4551-8a02-87760028be87",
   "metadata": {},
   "outputs": [],
   "source": [
    "# opens json files provided by spotify data retreival\n",
    "def get_json_from_file(spotify_file):\n",
    "    f = open('MyData/{}.json'.format(spotify_file), encoding=\"utf8\")\n",
    "    data = json.load(f)\n",
    "    f.close()\n",
    "    return data\n",
    "\n",
    "# # searches for any string and returns the artist_id for the top response item\n",
    "# def search_for_artist_id(name):\n",
    "#     result = sp.search(name)\n",
    "#     id = result['tracks']['items'][0]['artists'][0]['id']\n",
    "#     return id\n",
    "\n",
    "# # searches for any string and returns the track_id for the top response item\n",
    "# def search_for_track_id(name):\n",
    "#     result = sp.search(name)\n",
    "#     id = result['tracks']['items'][0]['id']\n",
    "#     return id\n",
    "\n",
    "# searches for any string and returns the track_id for the top response item\n",
    "# def search_for_track(track_name=None, artist_name=None):\n",
    "#     search_result = sp.search(q='track:{} artist:{}'.format(track_name,artist_name), type='track')\n",
    "#     subset = parse_track_result(search_result['tracks']['items'][0])    \n",
    "#     return subset\n",
    "\n",
    "\n",
    "def parse_episode_result(item):\n",
    "    subset = dict((k, item[k]) for k in ('id', 'name', 'duration_ms', 'explicit', 'type'))\n",
    "    return subset\n",
    "\n",
    "def search_for_track(track_name=None, artist_name=None):\n",
    "    try:\n",
    "        search_result = sp.search(q='''track:{} artist:{}'''.format(track_name,artist_name), type='track')\n",
    "        subset = parse_track_result(search_result['tracks']['items'][0])\n",
    "    except:\n",
    "        try:\n",
    "            search_result = sp.search(q='''episode:{}'''.format(track_name), type='episode')\n",
    "            subset = parse_episode_result(search_result['episodes']['items'][0])\n",
    "            subset['artist_name'] = artist_name\n",
    "        except:\n",
    "            subset = {'artist_name':artist_name, 'track_name':track_name}\n",
    "    return subset\n",
    "\n",
    "\n",
    "\n",
    "def get_artist_data(id):\n",
    "    result = sp.artist(id)\n",
    "    subset = dict((k, result[k]) for k in ('id', 'name', 'genres', 'popularity'))\n",
    "    subset['followers'] = result['followers']['total']\n",
    "    return subset\n",
    "\n",
    "def get_track_data(id):\n",
    "    result = sp.track(id)\n",
    "    subset = dict((k, result[k]) for k in ('id', 'name', 'duration_ms', 'popularity', 'disc_number', 'track_number', 'explicit', 'type'))\n",
    "    subset['album_id'] = result['album']['id']\n",
    "    subset['artist_id'] = result['artists'][0]['id']\n",
    "    subset['artist_count'] = len(result['artists'])\n",
    "    return subset\n",
    "\n",
    "def get_album_data(id):\n",
    "    result = sp.album(id)\n",
    "    subset = dict((k, result[k]) for k in ('id', 'name', 'album_type', 'release_date', 'release_date_precision', 'popularity', 'total_tracks', 'genres', 'label', 'type'))\n",
    "    return subset\n",
    "    "
   ]
  },
  {
   "cell_type": "markdown",
   "id": "59209f12-18f2-47ff-9f42-e7fbdd569bb9",
   "metadata": {},
   "source": [
    "# Recently Played Functions"
   ]
  },
  {
   "cell_type": "code",
   "execution_count": 236,
   "id": "fc3bf240-f10a-4886-91a8-0c29286ceb0d",
   "metadata": {},
   "outputs": [],
   "source": [
    "\n",
    "###\n",
    "# opens all the recently palyed files and finds the most recent timestamp, converting it to local time\n",
    "# returns unix timestamp and a datetime for the most recently played track in the logs\n",
    "###\n",
    "def get_most_recent_timestamp():\n",
    "    # folder containing saved files of recently played\n",
    "    path = 'recently_played/'\n",
    "    recently_played_files = os.listdir(path)\n",
    "\n",
    "    total_max_played = ''\n",
    "    total_max_played_unix = 0\n",
    "    for i in recently_played_files:\n",
    "        current_max_played = pd.read_csv(path+i)['played_at'].max()\n",
    "        utc = datetime.strptime(current_max_played, \"%Y-%m-%dT%H:%M:%S.%fZ\")\n",
    "        current_max_played_unix = int(time.mktime(utc.timetuple())*1000)\n",
    "    \n",
    "        if current_max_played_unix > total_max_played_unix:\n",
    "            total_max_played_unix = current_max_played_unix\n",
    "            total_max_played = utc\n",
    "    \n",
    "    from_zone = tz.tzutc()\n",
    "    to_zone = tz.tzlocal()\n",
    "    total_max_played = total_max_played.replace(tzinfo=from_zone)\n",
    "    local_total_max_played = total_max_played.astimezone(to_zone)\n",
    "    local_total_max_played_unix = int(time.mktime(local_total_max_played.timetuple())*1000)\n",
    "    return local_total_max_played_unix, local_total_max_played\n",
    "\n",
    "###\n",
    "# runs through the results of recently played and flattens the dictionary\n",
    "# returns a cleaned dictionary of recently played\n",
    "###\n",
    "def parse_track_result(item):\n",
    "    try:\n",
    "        result = item['track']\n",
    "    except:\n",
    "        result = item\n",
    "    subset = dict((k, result[k]) for k in ('id', 'name', 'duration_ms', 'popularity', 'disc_number', 'track_number', 'explicit', 'type'))\n",
    "    subset['album_id'] = result['album']['id']\n",
    "    subset['artist_id'] = result['artists'][0]['id']\n",
    "    subset['artist_count'] = len(result['artists'])\n",
    "    try:\n",
    "        subset['context'] = item['context']['uri']\n",
    "    except:\n",
    "        pass\n",
    "    try:\n",
    "        subset['played_at'] = item['played_at']\n",
    "    except:\n",
    "        pass\n",
    "    return subset\n",
    "\n",
    "###\n",
    "# intakes either None or a unix timestamp which will call all records occurring after it\n",
    "# returns a cleaned dictionary of recently played\n",
    "###\n",
    "def call_recently_played(after_timestamp_unix):\n",
    "    # set permissions, the scope is needed for the API to be allowed to grab this data.\n",
    "    scope = \"user-read-recently-played\"\n",
    "    sp = spotipy.Spotify(auth_manager=SpotifyOAuth(scope=scope))\n",
    "    \n",
    "    # call spotify\n",
    "    recently_played = sp.current_user_recently_played(limit=50, after=after_timestamp_unix)\n",
    "\n",
    "    # parse data and return a shorter, flattened dictionary with track data\n",
    "    recently_played_short = []\n",
    "    for i in recently_played['items']:\n",
    "        subset = parse_track_result(i)\n",
    "        recently_played_short.append(subset)\n",
    "    return recently_played_short\n",
    "\n",
    "###\n",
    "# runs through the recently played directory, finds the most recent timestamp, and calls recently played for the new, unsaved records\n",
    "# returns a cleaned dataframe of non-recorded recently played\n",
    "###\n",
    "def get_new_recently_played():\n",
    "    after_timestamp = get_most_recent_timestamp()[0]\n",
    "    recently_played = call_recently_played(after_timestamp+1000)\n",
    "    df = pd.DataFrame(data=recently_played)\n",
    "    return df\n",
    "\n",
    "###\n",
    "# intakes a dataframe and savesit as a log in the recently played folder\n",
    "# tells you the timestamp used to save\n",
    "###\n",
    "def save_new_recently_played(df):\n",
    "    dt_string = datetime.now().strftime(\"%Y%m%d_%H_%M_%S\")\n",
    "    if len(df) > 0:\n",
    "        df.to_csv(f'recently_played/recently_played_{dt_string}.csv', index=False)\n",
    "        print('saved file: {}'.format(dt_string))"
   ]
  },
  {
   "cell_type": "code",
   "execution_count": 215,
   "id": "cdecc62d-d08d-4aba-8664-e1ff7432d0cb",
   "metadata": {},
   "outputs": [
    {
     "data": {
      "text/plain": [
       "(1697539242000,\n",
       " datetime.datetime(2023, 10, 17, 6, 40, 42, 60000, tzinfo=tzlocal()))"
      ]
     },
     "execution_count": 215,
     "metadata": {},
     "output_type": "execute_result"
    }
   ],
   "source": [
    "get_most_recent_timestamp()"
   ]
  },
  {
   "cell_type": "code",
   "execution_count": 66,
   "id": "7e7da71a-db90-4dda-8c77-9c5bc8ad0864",
   "metadata": {},
   "outputs": [
    {
     "name": "stdout",
     "output_type": "stream",
     "text": [
      "BASIC ARTIST DATA\n",
      "{'id': '1J6XFH9yaFImOmbaAWAx48', 'name': 'R. Guru', 'genres': ['rain'], 'popularity': 53, 'followers': 460}\n",
      "-----------------------------\n",
      "BASIC TRACK DATA\n",
      "{'id': '7D5gkUVhkLbe5e8qG1NqcZ', 'name': 'Brighter', 'duration_ms': 281084, 'popularity': 60, 'disc_number': 1, 'track_number': 1, 'explicit': False, 'type': 'track', 'album_id': '4EAehCii5lZgeewct1LA5p', 'artist_id': '5Pb27ujIyYb33zBqVysBkj', 'artist_count': 1}\n",
      "-----------------------------\n",
      "BASIC ALBUM DATA\n",
      "{'id': '4EAehCii5lZgeewct1LA5p', 'name': 'Bloom', 'album_type': 'album', 'release_date': '2016-01-22', 'release_date_precision': 'day', 'popularity': 74, 'total_tracks': 11, 'genres': [], 'label': 'Sweat It Out', 'type': 'album'}\n"
     ]
    }
   ],
   "source": [
    "print('BASIC ARTIST DATA')    \n",
    "print(get_artist_data('1J6XFH9yaFImOmbaAWAx48'))\n",
    "print('-----------------------------')\n",
    "print('BASIC TRACK DATA')\n",
    "print(get_track_data('7D5gkUVhkLbe5e8qG1NqcZ'))\n",
    "print('-----------------------------')\n",
    "print('BASIC ALBUM DATA')\n",
    "print(get_album_data('4EAehCii5lZgeewct1LA5p'))"
   ]
  },
  {
   "cell_type": "markdown",
   "id": "933963bd-c146-480e-9dae-de86709b4345",
   "metadata": {},
   "source": [
    "### Save Recently Played"
   ]
  },
  {
   "cell_type": "code",
   "execution_count": 219,
   "id": "783b4102-d895-46a7-a052-f523607ce096",
   "metadata": {},
   "outputs": [
    {
     "data": {
      "text/plain": [
       "(1697539242000,\n",
       " datetime.datetime(2023, 10, 17, 6, 40, 42, 60000, tzinfo=tzlocal()))"
      ]
     },
     "execution_count": 219,
     "metadata": {},
     "output_type": "execute_result"
    }
   ],
   "source": [
    "get_most_recent_timestamp()"
   ]
  },
  {
   "cell_type": "code",
   "execution_count": 233,
   "id": "19e4612b-cc69-4703-9fed-48c9d680d488",
   "metadata": {},
   "outputs": [],
   "source": [
    "scope = \"user-read-recently-played\"\n",
    "# scope = 'user-read-playback-state'\n",
    "sp = spotipy.Spotify(auth_manager=SpotifyOAuth(scope=scope))\n",
    "recently_played = sp.current_user_recently_played(limit=50, after=get_most_recent_timestamp()[0]+10000)"
   ]
  },
  {
   "cell_type": "code",
   "execution_count": 234,
   "id": "addcb4a9-b4ab-498a-957a-a16cbcf03ffa",
   "metadata": {},
   "outputs": [
    {
     "data": {
      "text/plain": [
       "{'type': 'playlist',\n",
       " 'external_urls': {'spotify': 'https://open.spotify.com/playlist/37i9dQZF1EIePtuqoXzsC3'},\n",
       " 'href': 'https://api.spotify.com/v1/playlists/37i9dQZF1EIePtuqoXzsC3',\n",
       " 'uri': 'spotify:playlist:37i9dQZF1EIePtuqoXzsC3'}"
      ]
     },
     "execution_count": 234,
     "metadata": {},
     "output_type": "execute_result"
    }
   ],
   "source": [
    "recently_played['items'][0]['context']"
   ]
  },
  {
   "cell_type": "code",
   "execution_count": 218,
   "id": "a2a639c2-6718-4976-8601-0a5fd7967f58",
   "metadata": {
    "scrolled": true
   },
   "outputs": [
    {
     "data": {
      "text/plain": [
       "{'items': [{'track': {'album': {'album_type': 'single',\n",
       "     'artists': [{'external_urls': {'spotify': 'https://open.spotify.com/artist/1zO3MgzmcwZLLNUQqeU2XH'},\n",
       "       'href': 'https://api.spotify.com/v1/artists/1zO3MgzmcwZLLNUQqeU2XH',\n",
       "       'id': '1zO3MgzmcwZLLNUQqeU2XH',\n",
       "       'name': 'Hazlett',\n",
       "       'type': 'artist',\n",
       "       'uri': 'spotify:artist:1zO3MgzmcwZLLNUQqeU2XH'}],\n",
       "     'available_markets': ['AR',\n",
       "      'AU',\n",
       "      'AT',\n",
       "      'BE',\n",
       "      'BO',\n",
       "      'BR',\n",
       "      'BG',\n",
       "      'CA',\n",
       "      'CL',\n",
       "      'CO',\n",
       "      'CR',\n",
       "      'CY',\n",
       "      'CZ',\n",
       "      'DO',\n",
       "      'DE',\n",
       "      'EC',\n",
       "      'EE',\n",
       "      'SV',\n",
       "      'FR',\n",
       "      'GR',\n",
       "      'GT',\n",
       "      'HN',\n",
       "      'HK',\n",
       "      'HU',\n",
       "      'IE',\n",
       "      'IT',\n",
       "      'LV',\n",
       "      'LT',\n",
       "      'LU',\n",
       "      'MY',\n",
       "      'MT',\n",
       "      'MX',\n",
       "      'NL',\n",
       "      'NZ',\n",
       "      'NI',\n",
       "      'PA',\n",
       "      'PY',\n",
       "      'PE',\n",
       "      'PH',\n",
       "      'PL',\n",
       "      'PT',\n",
       "      'SG',\n",
       "      'SK',\n",
       "      'ES',\n",
       "      'CH',\n",
       "      'TW',\n",
       "      'TR',\n",
       "      'UY',\n",
       "      'US',\n",
       "      'GB',\n",
       "      'AD',\n",
       "      'LI',\n",
       "      'MC',\n",
       "      'ID',\n",
       "      'JP',\n",
       "      'TH',\n",
       "      'VN',\n",
       "      'RO',\n",
       "      'IL',\n",
       "      'ZA',\n",
       "      'SA',\n",
       "      'AE',\n",
       "      'BH',\n",
       "      'QA',\n",
       "      'OM',\n",
       "      'KW',\n",
       "      'EG',\n",
       "      'MA',\n",
       "      'DZ',\n",
       "      'TN',\n",
       "      'LB',\n",
       "      'JO',\n",
       "      'PS',\n",
       "      'IN',\n",
       "      'BY',\n",
       "      'KZ',\n",
       "      'MD',\n",
       "      'UA',\n",
       "      'AL',\n",
       "      'BA',\n",
       "      'HR',\n",
       "      'ME',\n",
       "      'MK',\n",
       "      'RS',\n",
       "      'SI',\n",
       "      'KR',\n",
       "      'BD',\n",
       "      'PK',\n",
       "      'LK',\n",
       "      'GH',\n",
       "      'KE',\n",
       "      'NG',\n",
       "      'TZ',\n",
       "      'UG',\n",
       "      'AG',\n",
       "      'AM',\n",
       "      'BS',\n",
       "      'BB',\n",
       "      'BZ',\n",
       "      'BT',\n",
       "      'BW',\n",
       "      'BF',\n",
       "      'CV',\n",
       "      'CW',\n",
       "      'DM',\n",
       "      'FJ',\n",
       "      'GM',\n",
       "      'GE',\n",
       "      'GD',\n",
       "      'GW',\n",
       "      'GY',\n",
       "      'HT',\n",
       "      'JM',\n",
       "      'KI',\n",
       "      'LS',\n",
       "      'LR',\n",
       "      'MW',\n",
       "      'MV',\n",
       "      'ML',\n",
       "      'MH',\n",
       "      'FM',\n",
       "      'NA',\n",
       "      'NR',\n",
       "      'NE',\n",
       "      'PW',\n",
       "      'PG',\n",
       "      'WS',\n",
       "      'SM',\n",
       "      'ST',\n",
       "      'SN',\n",
       "      'SC',\n",
       "      'SL',\n",
       "      'SB',\n",
       "      'KN',\n",
       "      'LC',\n",
       "      'VC',\n",
       "      'SR',\n",
       "      'TL',\n",
       "      'TO',\n",
       "      'TT',\n",
       "      'TV',\n",
       "      'VU',\n",
       "      'AZ',\n",
       "      'BN',\n",
       "      'BI',\n",
       "      'KH',\n",
       "      'CM',\n",
       "      'TD',\n",
       "      'KM',\n",
       "      'GQ',\n",
       "      'SZ',\n",
       "      'GA',\n",
       "      'GN',\n",
       "      'KG',\n",
       "      'LA',\n",
       "      'MO',\n",
       "      'MR',\n",
       "      'MN',\n",
       "      'NP',\n",
       "      'RW',\n",
       "      'TG',\n",
       "      'UZ',\n",
       "      'ZW',\n",
       "      'BJ',\n",
       "      'MG',\n",
       "      'MU',\n",
       "      'MZ',\n",
       "      'AO',\n",
       "      'CI',\n",
       "      'DJ',\n",
       "      'ZM',\n",
       "      'CD',\n",
       "      'CG',\n",
       "      'IQ',\n",
       "      'LY',\n",
       "      'TJ',\n",
       "      'VE',\n",
       "      'ET',\n",
       "      'XK'],\n",
       "     'external_urls': {'spotify': 'https://open.spotify.com/album/372YURpTeI9L6fkMNH6Nx2'},\n",
       "     'href': 'https://api.spotify.com/v1/albums/372YURpTeI9L6fkMNH6Nx2',\n",
       "     'id': '372YURpTeI9L6fkMNH6Nx2',\n",
       "     'images': [{'height': 640,\n",
       "       'url': 'https://i.scdn.co/image/ab67616d0000b2734c137e1259f70c2df487268c',\n",
       "       'width': 640},\n",
       "      {'height': 300,\n",
       "       'url': 'https://i.scdn.co/image/ab67616d00001e024c137e1259f70c2df487268c',\n",
       "       'width': 300},\n",
       "      {'height': 64,\n",
       "       'url': 'https://i.scdn.co/image/ab67616d000048514c137e1259f70c2df487268c',\n",
       "       'width': 64}],\n",
       "     'name': 'Blame The Moon',\n",
       "     'release_date': '2023-07-21',\n",
       "     'release_date_precision': 'day',\n",
       "     'total_tracks': 1,\n",
       "     'type': 'album',\n",
       "     'uri': 'spotify:album:372YURpTeI9L6fkMNH6Nx2'},\n",
       "    'artists': [{'external_urls': {'spotify': 'https://open.spotify.com/artist/1zO3MgzmcwZLLNUQqeU2XH'},\n",
       "      'href': 'https://api.spotify.com/v1/artists/1zO3MgzmcwZLLNUQqeU2XH',\n",
       "      'id': '1zO3MgzmcwZLLNUQqeU2XH',\n",
       "      'name': 'Hazlett',\n",
       "      'type': 'artist',\n",
       "      'uri': 'spotify:artist:1zO3MgzmcwZLLNUQqeU2XH'}],\n",
       "    'available_markets': ['AR',\n",
       "     'AU',\n",
       "     'AT',\n",
       "     'BE',\n",
       "     'BO',\n",
       "     'BR',\n",
       "     'BG',\n",
       "     'CA',\n",
       "     'CL',\n",
       "     'CO',\n",
       "     'CR',\n",
       "     'CY',\n",
       "     'CZ',\n",
       "     'DO',\n",
       "     'DE',\n",
       "     'EC',\n",
       "     'EE',\n",
       "     'SV',\n",
       "     'FR',\n",
       "     'GR',\n",
       "     'GT',\n",
       "     'HN',\n",
       "     'HK',\n",
       "     'HU',\n",
       "     'IE',\n",
       "     'IT',\n",
       "     'LV',\n",
       "     'LT',\n",
       "     'LU',\n",
       "     'MY',\n",
       "     'MT',\n",
       "     'MX',\n",
       "     'NL',\n",
       "     'NZ',\n",
       "     'NI',\n",
       "     'PA',\n",
       "     'PY',\n",
       "     'PE',\n",
       "     'PH',\n",
       "     'PL',\n",
       "     'PT',\n",
       "     'SG',\n",
       "     'SK',\n",
       "     'ES',\n",
       "     'CH',\n",
       "     'TW',\n",
       "     'TR',\n",
       "     'UY',\n",
       "     'US',\n",
       "     'GB',\n",
       "     'AD',\n",
       "     'LI',\n",
       "     'MC',\n",
       "     'ID',\n",
       "     'JP',\n",
       "     'TH',\n",
       "     'VN',\n",
       "     'RO',\n",
       "     'IL',\n",
       "     'ZA',\n",
       "     'SA',\n",
       "     'AE',\n",
       "     'BH',\n",
       "     'QA',\n",
       "     'OM',\n",
       "     'KW',\n",
       "     'EG',\n",
       "     'MA',\n",
       "     'DZ',\n",
       "     'TN',\n",
       "     'LB',\n",
       "     'JO',\n",
       "     'PS',\n",
       "     'IN',\n",
       "     'BY',\n",
       "     'KZ',\n",
       "     'MD',\n",
       "     'UA',\n",
       "     'AL',\n",
       "     'BA',\n",
       "     'HR',\n",
       "     'ME',\n",
       "     'MK',\n",
       "     'RS',\n",
       "     'SI',\n",
       "     'KR',\n",
       "     'BD',\n",
       "     'PK',\n",
       "     'LK',\n",
       "     'GH',\n",
       "     'KE',\n",
       "     'NG',\n",
       "     'TZ',\n",
       "     'UG',\n",
       "     'AG',\n",
       "     'AM',\n",
       "     'BS',\n",
       "     'BB',\n",
       "     'BZ',\n",
       "     'BT',\n",
       "     'BW',\n",
       "     'BF',\n",
       "     'CV',\n",
       "     'CW',\n",
       "     'DM',\n",
       "     'FJ',\n",
       "     'GM',\n",
       "     'GE',\n",
       "     'GD',\n",
       "     'GW',\n",
       "     'GY',\n",
       "     'HT',\n",
       "     'JM',\n",
       "     'KI',\n",
       "     'LS',\n",
       "     'LR',\n",
       "     'MW',\n",
       "     'MV',\n",
       "     'ML',\n",
       "     'MH',\n",
       "     'FM',\n",
       "     'NA',\n",
       "     'NR',\n",
       "     'NE',\n",
       "     'PW',\n",
       "     'PG',\n",
       "     'WS',\n",
       "     'SM',\n",
       "     'ST',\n",
       "     'SN',\n",
       "     'SC',\n",
       "     'SL',\n",
       "     'SB',\n",
       "     'KN',\n",
       "     'LC',\n",
       "     'VC',\n",
       "     'SR',\n",
       "     'TL',\n",
       "     'TO',\n",
       "     'TT',\n",
       "     'TV',\n",
       "     'VU',\n",
       "     'AZ',\n",
       "     'BN',\n",
       "     'BI',\n",
       "     'KH',\n",
       "     'CM',\n",
       "     'TD',\n",
       "     'KM',\n",
       "     'GQ',\n",
       "     'SZ',\n",
       "     'GA',\n",
       "     'GN',\n",
       "     'KG',\n",
       "     'LA',\n",
       "     'MO',\n",
       "     'MR',\n",
       "     'MN',\n",
       "     'NP',\n",
       "     'RW',\n",
       "     'TG',\n",
       "     'UZ',\n",
       "     'ZW',\n",
       "     'BJ',\n",
       "     'MG',\n",
       "     'MU',\n",
       "     'MZ',\n",
       "     'AO',\n",
       "     'CI',\n",
       "     'DJ',\n",
       "     'ZM',\n",
       "     'CD',\n",
       "     'CG',\n",
       "     'IQ',\n",
       "     'LY',\n",
       "     'TJ',\n",
       "     'VE',\n",
       "     'ET',\n",
       "     'XK'],\n",
       "    'disc_number': 1,\n",
       "    'duration_ms': 223723,\n",
       "    'explicit': False,\n",
       "    'external_ids': {'isrc': 'SE5262300107'},\n",
       "    'external_urls': {'spotify': 'https://open.spotify.com/track/3p1kSUxsCux5Zf1CeKxpqh'},\n",
       "    'href': 'https://api.spotify.com/v1/tracks/3p1kSUxsCux5Zf1CeKxpqh',\n",
       "    'id': '3p1kSUxsCux5Zf1CeKxpqh',\n",
       "    'is_local': False,\n",
       "    'name': 'Blame The Moon',\n",
       "    'popularity': 67,\n",
       "    'preview_url': 'https://p.scdn.co/mp3-preview/f0987b13b0b305b8ec41eedace520be0560e2f44?cid=930c5cbd41d94bad90bbd8eacd556bc6',\n",
       "    'track_number': 1,\n",
       "    'type': 'track',\n",
       "    'uri': 'spotify:track:3p1kSUxsCux5Zf1CeKxpqh'},\n",
       "   'played_at': '2023-10-17T11:22:21.290Z',\n",
       "   'context': None}],\n",
       " 'next': 'https://api.spotify.com/v1/me/player/recently-played?after=1697541741290&limit=50',\n",
       " 'cursors': {'after': '1697541741290', 'before': '1697541741290'},\n",
       " 'limit': 50,\n",
       " 'href': 'https://api.spotify.com/v1/me/player/recently-played?after=1697539252000&limit=50'}"
      ]
     },
     "execution_count": 218,
     "metadata": {},
     "output_type": "execute_result"
    }
   ],
   "source": [
    "recently_played"
   ]
  },
  {
   "cell_type": "code",
   "execution_count": 255,
   "id": "f267ce28-2ca9-4514-af6d-00c09c04c110",
   "metadata": {},
   "outputs": [],
   "source": [
    "new_recently_played = get_new_recently_played()"
   ]
  },
  {
   "cell_type": "code",
   "execution_count": 256,
   "id": "59f6f8bf-b26a-4c3f-a11f-c270b94d1a16",
   "metadata": {},
   "outputs": [
    {
     "data": {
      "text/plain": [
       "8"
      ]
     },
     "execution_count": 256,
     "metadata": {},
     "output_type": "execute_result"
    }
   ],
   "source": [
    "len(new_recently_played)"
   ]
  },
  {
   "cell_type": "code",
   "execution_count": 257,
   "id": "2ae4877d-eb79-4410-98cb-10f3cc5ff724",
   "metadata": {},
   "outputs": [
    {
     "data": {
      "text/html": [
       "<div>\n",
       "<style scoped>\n",
       "    .dataframe tbody tr th:only-of-type {\n",
       "        vertical-align: middle;\n",
       "    }\n",
       "\n",
       "    .dataframe tbody tr th {\n",
       "        vertical-align: top;\n",
       "    }\n",
       "\n",
       "    .dataframe thead th {\n",
       "        text-align: right;\n",
       "    }\n",
       "</style>\n",
       "<table border=\"1\" class=\"dataframe\">\n",
       "  <thead>\n",
       "    <tr style=\"text-align: right;\">\n",
       "      <th></th>\n",
       "      <th>id</th>\n",
       "      <th>name</th>\n",
       "      <th>duration_ms</th>\n",
       "      <th>popularity</th>\n",
       "      <th>disc_number</th>\n",
       "      <th>track_number</th>\n",
       "      <th>explicit</th>\n",
       "      <th>type</th>\n",
       "      <th>album_id</th>\n",
       "      <th>artist_id</th>\n",
       "      <th>artist_count</th>\n",
       "      <th>context</th>\n",
       "      <th>played_at</th>\n",
       "    </tr>\n",
       "  </thead>\n",
       "  <tbody>\n",
       "    <tr>\n",
       "      <th>0</th>\n",
       "      <td>7aqfrAY2p9BUSiupwk3svU</td>\n",
       "      <td>First Person Shooter (feat. J. Cole)</td>\n",
       "      <td>247444</td>\n",
       "      <td>90</td>\n",
       "      <td>1</td>\n",
       "      <td>6</td>\n",
       "      <td>True</td>\n",
       "      <td>track</td>\n",
       "      <td>4czdORdCWP9umpbhFXK2fW</td>\n",
       "      <td>3TVXtAsR1Inumwj472S9r4</td>\n",
       "      <td>2</td>\n",
       "      <td>spotify:playlist:37i9dQZF1DX0XUsuxWHRQd</td>\n",
       "      <td>2023-10-18T11:39:01.795Z</td>\n",
       "    </tr>\n",
       "    <tr>\n",
       "      <th>1</th>\n",
       "      <td>6wsqVwoiVH2kde4k4KKAFU</td>\n",
       "      <td>I KNOW ?</td>\n",
       "      <td>211582</td>\n",
       "      <td>93</td>\n",
       "      <td>1</td>\n",
       "      <td>10</td>\n",
       "      <td>True</td>\n",
       "      <td>track</td>\n",
       "      <td>18NOKLkZETa4sWwLMIm0UZ</td>\n",
       "      <td>0Y5tJX1MQlPlqiwlOH1tJY</td>\n",
       "      <td>1</td>\n",
       "      <td>spotify:playlist:37i9dQZF1DX0XUsuxWHRQd</td>\n",
       "      <td>2023-10-18T11:34:54.078Z</td>\n",
       "    </tr>\n",
       "    <tr>\n",
       "      <th>2</th>\n",
       "      <td>5nDndZX9lrYjAS4d1aWFxM</td>\n",
       "      <td>Cowgirl - Remastered</td>\n",
       "      <td>509303</td>\n",
       "      <td>50</td>\n",
       "      <td>1</td>\n",
       "      <td>7</td>\n",
       "      <td>False</td>\n",
       "      <td>track</td>\n",
       "      <td>3WQpmFc7GonmzN40EjbbKY</td>\n",
       "      <td>1PXHzxRDiLnjqNrRn2Xbsa</td>\n",
       "      <td>1</td>\n",
       "      <td>spotify:playlist:37i9dQZF1EIePtuqoXzsC3</td>\n",
       "      <td>2023-10-18T11:26:37.391Z</td>\n",
       "    </tr>\n",
       "    <tr>\n",
       "      <th>3</th>\n",
       "      <td>3io0PEtfa1UTBUZn53lU1f</td>\n",
       "      <td>Fading to Black</td>\n",
       "      <td>209763</td>\n",
       "      <td>50</td>\n",
       "      <td>1</td>\n",
       "      <td>1</td>\n",
       "      <td>False</td>\n",
       "      <td>track</td>\n",
       "      <td>2Q2IpmlBCux7yndZHWJjrr</td>\n",
       "      <td>5lVNSw2GPci8kebrAQpZqU</td>\n",
       "      <td>1</td>\n",
       "      <td>spotify:playlist:37i9dQZF1EIePtuqoXzsC3</td>\n",
       "      <td>2023-10-18T11:18:07.646Z</td>\n",
       "    </tr>\n",
       "    <tr>\n",
       "      <th>4</th>\n",
       "      <td>39aowVnxyzMDZOmrgsN4MU</td>\n",
       "      <td>Deceiver - VIP</td>\n",
       "      <td>155845</td>\n",
       "      <td>53</td>\n",
       "      <td>1</td>\n",
       "      <td>1</td>\n",
       "      <td>False</td>\n",
       "      <td>track</td>\n",
       "      <td>0ZoupfyYTGUYKWTaZ8rymq</td>\n",
       "      <td>5Igpc9iLZ3YGtKeYfSrrOE</td>\n",
       "      <td>2</td>\n",
       "      <td>spotify:playlist:37i9dQZF1EIePtuqoXzsC3</td>\n",
       "      <td>2023-10-18T11:14:37.585Z</td>\n",
       "    </tr>\n",
       "  </tbody>\n",
       "</table>\n",
       "</div>"
      ],
      "text/plain": [
       "                       id                                  name  duration_ms  \\\n",
       "0  7aqfrAY2p9BUSiupwk3svU  First Person Shooter (feat. J. Cole)       247444   \n",
       "1  6wsqVwoiVH2kde4k4KKAFU                              I KNOW ?       211582   \n",
       "2  5nDndZX9lrYjAS4d1aWFxM                  Cowgirl - Remastered       509303   \n",
       "3  3io0PEtfa1UTBUZn53lU1f                       Fading to Black       209763   \n",
       "4  39aowVnxyzMDZOmrgsN4MU                        Deceiver - VIP       155845   \n",
       "\n",
       "   popularity  disc_number  track_number  explicit   type  \\\n",
       "0          90            1             6      True  track   \n",
       "1          93            1            10      True  track   \n",
       "2          50            1             7     False  track   \n",
       "3          50            1             1     False  track   \n",
       "4          53            1             1     False  track   \n",
       "\n",
       "                 album_id               artist_id  artist_count  \\\n",
       "0  4czdORdCWP9umpbhFXK2fW  3TVXtAsR1Inumwj472S9r4             2   \n",
       "1  18NOKLkZETa4sWwLMIm0UZ  0Y5tJX1MQlPlqiwlOH1tJY             1   \n",
       "2  3WQpmFc7GonmzN40EjbbKY  1PXHzxRDiLnjqNrRn2Xbsa             1   \n",
       "3  2Q2IpmlBCux7yndZHWJjrr  5lVNSw2GPci8kebrAQpZqU             1   \n",
       "4  0ZoupfyYTGUYKWTaZ8rymq  5Igpc9iLZ3YGtKeYfSrrOE             2   \n",
       "\n",
       "                                   context                 played_at  \n",
       "0  spotify:playlist:37i9dQZF1DX0XUsuxWHRQd  2023-10-18T11:39:01.795Z  \n",
       "1  spotify:playlist:37i9dQZF1DX0XUsuxWHRQd  2023-10-18T11:34:54.078Z  \n",
       "2  spotify:playlist:37i9dQZF1EIePtuqoXzsC3  2023-10-18T11:26:37.391Z  \n",
       "3  spotify:playlist:37i9dQZF1EIePtuqoXzsC3  2023-10-18T11:18:07.646Z  \n",
       "4  spotify:playlist:37i9dQZF1EIePtuqoXzsC3  2023-10-18T11:14:37.585Z  "
      ]
     },
     "execution_count": 257,
     "metadata": {},
     "output_type": "execute_result"
    }
   ],
   "source": [
    "new_recently_played.head()"
   ]
  },
  {
   "cell_type": "code",
   "execution_count": 258,
   "id": "d593136e-d9a0-4676-8ec7-ac536c8d5b3c",
   "metadata": {},
   "outputs": [
    {
     "name": "stdout",
     "output_type": "stream",
     "text": [
      "saved file: 20231018_07_40_25\n"
     ]
    }
   ],
   "source": [
    "save_new_recently_played(new_recently_played)"
   ]
  },
  {
   "cell_type": "markdown",
   "id": "f8a4c1c3-5c36-4d85-861b-824eb13e69c5",
   "metadata": {},
   "source": [
    "# Expand Streaming Data"
   ]
  },
  {
   "cell_type": "code",
   "execution_count": 131,
   "id": "f19a8ba4-8513-462b-b895-d9796689a1c6",
   "metadata": {},
   "outputs": [],
   "source": [
    "# search_result = sp.search(q='episode:{}'.format('MBMBaM 624: Reince Your Own Priebus'), type='episode')"
   ]
  },
  {
   "cell_type": "code",
   "execution_count": 16,
   "id": "b9c7de98-91cc-4d7b-beaf-904d321d3d11",
   "metadata": {},
   "outputs": [],
   "source": [
    "streaming_data = get_json_from_file('StreamingHistory0')"
   ]
  },
  {
   "cell_type": "code",
   "execution_count": 17,
   "id": "a2234d7e-b283-4dc1-ab4a-5835ed799d26",
   "metadata": {},
   "outputs": [
    {
     "data": {
      "text/plain": [
       "7886"
      ]
     },
     "execution_count": 17,
     "metadata": {},
     "output_type": "execute_result"
    }
   ],
   "source": [
    "len(streaming_data)"
   ]
  },
  {
   "cell_type": "markdown",
   "id": "dfeb844c-f07a-4217-957a-9cb869508b2c",
   "metadata": {},
   "source": [
    "### Searching to expand streaming data"
   ]
  },
  {
   "cell_type": "code",
   "execution_count": 181,
   "id": "e9c91966-07de-483b-ac10-5cbc778726d4",
   "metadata": {},
   "outputs": [
    {
     "name": "stdout",
     "output_type": "stream",
     "text": [
      "saving 5500\n",
      "saving 6000\n",
      "saving 6500\n",
      "saving 7000\n",
      "saving 7500\n",
      "0:13:28.306981\n"
     ]
    }
   ],
   "source": [
    "# honestly this is really sloppy and the iterating and saving part should be overhauled.\n",
    "\n",
    "result_list = []\n",
    "iteration = 5000\n",
    "start = datetime.now()\n",
    "for track in streaming_data[5000:]:\n",
    "    iteration += 1\n",
    "    artist_name = track['artistName']\n",
    "    track_name = track['trackName']\n",
    "    end_time = track['endTime']\n",
    "    ms_played = track['msPlayed']\n",
    "\n",
    "    # search spotify using the track and artist name\n",
    "    result = search_for_track(track_name=track_name, artist_name=artist_name)\n",
    "    result['duration_ms'] = ms_played\n",
    "    result['played_at'] = end_time\n",
    "    result_list.append(result)\n",
    "    if iteration % 500 == 0:\n",
    "        print('saving {}'.format(iteration))\n",
    "        df_streaming_data = pd.DataFrame(data=result_list)\n",
    "        df_streaming_data.to_csv('searched_history/raw_searches/streaming_data_searched_{}.csv'.format(iteration+1))\n",
    "    else:\n",
    "        pass\n",
    "end = datetime.now()\n",
    "print(end - start)\n",
    "df_streaming_data = pd.DataFrame(data=result_list)\n",
    "df_streaming_data.to_csv('searched_history/raw_searches/streaming_data_searched_{}.csv'.format(iteration+1))"
   ]
  },
  {
   "cell_type": "markdown",
   "id": "a808b6d1-af5f-4521-8cb0-8b591505f4b4",
   "metadata": {},
   "source": [
    "### Combining streaming data files into on"
   ]
  },
  {
   "cell_type": "code",
   "execution_count": 196,
   "id": "70622f37-4a87-45c0-b59d-31ffd684bb10",
   "metadata": {},
   "outputs": [
    {
     "name": "stdout",
     "output_type": "stream",
     "text": [
      "['streaming_data_searched_1000.csv', 'streaming_data_searched_1500.csv', 'streaming_data_searched_2000.csv', 'streaming_data_searched_2500.csv', 'streaming_data_searched_3000.csv', 'streaming_data_searched_3500.csv', 'streaming_data_searched_4000.csv', 'streaming_data_searched_4500.csv', 'streaming_data_searched_500.csv', 'streaming_data_searched_5000.csv', 'streaming_data_searched_5501.csv', 'streaming_data_searched_6001.csv', 'streaming_data_searched_6501.csv', 'streaming_data_searched_7001.csv', 'streaming_data_searched_7501.csv', 'streaming_data_searched_7887.csv']\n"
     ]
    }
   ],
   "source": [
    "path = \"searched_history\"\n",
    "dir_list = os.listdir(path)\n",
    "print(dir_list)\n",
    "\n",
    "stream_df = pd.DataFrame()\n",
    "\n",
    "for i in dir_list:\n",
    "    read_file = pd.read_csv(path+'/'+i)\n",
    "    read_file.drop('Unnamed: 0',axis=1,inplace=True)\n",
    "    stream_df = pd.concat([stream_df,read_file])\n",
    "stream_df.drop_duplicates(inplace=True)"
   ]
  },
  {
   "cell_type": "code",
   "execution_count": 211,
   "id": "06c140af-362f-47c6-b361-692a5d23bebd",
   "metadata": {},
   "outputs": [],
   "source": [
    "stream_tracks = stream_df[stream_df['type'] == 'track']\n",
    "stream_episodes = stream_df[stream_df['type'] == 'episode']\n",
    "stream_errors = stream_df[stream_df['type'].isnull()]"
   ]
  },
  {
   "cell_type": "code",
   "execution_count": 214,
   "id": "b3485e0b-88be-4457-90e3-efecd8a7ba54",
   "metadata": {},
   "outputs": [],
   "source": [
    "stream_tracks.to_csv('searched_history/streaming_history_tracks.csv',index=False)\n",
    "stream_episodes.to_csv('searched_history/streaming_history_episodes.csv',index=False)\n",
    "stream_errors.to_csv('searched_history/streaming_history_errors.csv',index=False)"
   ]
  },
  {
   "cell_type": "markdown",
   "id": "0d7b6ad1-fba7-4303-a708-c816787b294f",
   "metadata": {},
   "source": [
    "# Track Object"
   ]
  },
  {
   "cell_type": "code",
   "execution_count": 245,
   "id": "77688d4e-bbdc-48d3-b2b3-8143ca1fcf6a",
   "metadata": {},
   "outputs": [],
   "source": [
    "class track:\n",
    "    def __init__(self, id):\n",
    "        self.id = id\n",
    "\n",
    "    def __repr__(self):\n",
    "        return 'Track: {}'.format(self.id)\n",
    "\n",
    "    def get_track_data_from_id(id):\n",
    "        result = sp.track(id)\n",
    "        subset = dict((k, result[k]) for k in ('id', 'name', 'duration_ms', 'popularity', 'disc_number', 'track_number', 'explicit', 'type'))\n",
    "        subset['album_id'] = result['album']['id']\n",
    "        subset['artist_id'] = result['artists'][0]['id']\n",
    "        subset['artist_count'] = len(result['artists'])\n",
    "        return subset\n",
    "\n",
    "        \n",
    "    # id, name, duration_ms, popularity, disc_number, track_number, explicit, type\t\n",
    "    # artists\n",
    "    # album\n",
    "    # function to get artist info\n",
    "    # "
   ]
  },
  {
   "cell_type": "code",
   "execution_count": 250,
   "id": "3bb91049-c307-4976-9e0c-e889b87334a0",
   "metadata": {},
   "outputs": [],
   "source": [
    "result = sp.track('6JjSoJ2laV4ZbKNb9nybvh')"
   ]
  },
  {
   "cell_type": "code",
   "execution_count": 252,
   "id": "13de77dd-082c-4a97-a3e9-1421d98afe05",
   "metadata": {},
   "outputs": [
    {
     "data": {
      "text/plain": [
       "['album',\n",
       " 'artists',\n",
       " 'available_markets',\n",
       " 'disc_number',\n",
       " 'duration_ms',\n",
       " 'explicit',\n",
       " 'external_ids',\n",
       " 'external_urls',\n",
       " 'href',\n",
       " 'id',\n",
       " 'is_local',\n",
       " 'name',\n",
       " 'popularity',\n",
       " 'preview_url',\n",
       " 'track_number',\n",
       " 'type',\n",
       " 'uri']"
      ]
     },
     "execution_count": 252,
     "metadata": {},
     "output_type": "execute_result"
    }
   ],
   "source": [
    "list(result)"
   ]
  },
  {
   "cell_type": "code",
   "execution_count": 254,
   "id": "01e5c091-cbf6-4943-aaf1-cdef074db9d8",
   "metadata": {},
   "outputs": [
    {
     "data": {
      "text/plain": [
       "[{'external_urls': {'spotify': 'https://open.spotify.com/artist/7tm9Tuc70geXOOyKhtZHIj'},\n",
       "  'href': 'https://api.spotify.com/v1/artists/7tm9Tuc70geXOOyKhtZHIj',\n",
       "  'id': '7tm9Tuc70geXOOyKhtZHIj',\n",
       "  'name': 'Chris Lorenzo',\n",
       "  'type': 'artist',\n",
       "  'uri': 'spotify:artist:7tm9Tuc70geXOOyKhtZHIj'},\n",
       " {'external_urls': {'spotify': 'https://open.spotify.com/artist/1AHswQqsDNmu1xaE8KpBne'},\n",
       "  'href': 'https://api.spotify.com/v1/artists/1AHswQqsDNmu1xaE8KpBne',\n",
       "  'id': '1AHswQqsDNmu1xaE8KpBne',\n",
       "  'name': 'COBRAH',\n",
       "  'type': 'artist',\n",
       "  'uri': 'spotify:artist:1AHswQqsDNmu1xaE8KpBne'}]"
      ]
     },
     "execution_count": 254,
     "metadata": {},
     "output_type": "execute_result"
    }
   ],
   "source": [
    "result['artists']\n",
    "\n",
    "# result['album']['album_type']\n",
    "# result['album']['id']\n",
    "# result['album']['name']\n",
    "# result['album']['related_date']\n",
    "# result['album']['release_date_precision']\n",
    "# result['album']['total_tracks']\n",
    "# result['album']['type']"
   ]
  },
  {
   "cell_type": "markdown",
   "id": "8a871957-c10b-4a40-871b-7212452cceaf",
   "metadata": {},
   "source": [
    "# Issues"
   ]
  },
  {
   "cell_type": "markdown",
   "id": "c007ff40-a980-440c-979d-820e4fdbe93e",
   "metadata": {},
   "source": [
    "Recently played isn't returning records after a milisecond time stamp, I think it works more on a 12hr basis. Probably best to call this a couple or times per day"
   ]
  },
  {
   "cell_type": "markdown",
   "id": "a30cf430-07e0-436d-abda-67d0d95472fb",
   "metadata": {},
   "source": [
    "# Archive"
   ]
  },
  {
   "cell_type": "markdown",
   "id": "bfedd6ac-c21a-48cf-9efe-e4d240b60c81",
   "metadata": {},
   "source": [
    "### get all artists from streaming history"
   ]
  },
  {
   "cell_type": "code",
   "execution_count": 94,
   "id": "44f4caf9-0f97-47d6-bc5c-8ad55e144ac3",
   "metadata": {},
   "outputs": [],
   "source": [
    "result_list = []\n",
    "iteration = 0\n",
    "start = datetime.now()\n",
    "for track in streaming_data:\n",
    "    iteration += 1\n",
    "    artist_name = track['artistName']\n",
    "    # track_name = track['trackName']\n",
    "    # end_time = track['endTime']\n",
    "    # ms_played = track['msPlayed']\n",
    "    if artist_name not in result_list:\n",
    "        result_list.append(artist_name)"
   ]
  },
  {
   "cell_type": "code",
   "execution_count": null,
   "id": "5f3aaf0d-a204-43a7-b273-33c53297a863",
   "metadata": {},
   "outputs": [],
   "source": [
    "podcasts = ['My Brother, My Brother And Me',\n",
    " 'The Empty Bowl',\n",
    " 'Marketplace',\n",
    " 'The Always Sunny Podcast',\n",
    " 'The Besties',\n",
    " 'This Is Important',\n",
    " 'SmartLess',\n",
    " 'The Journal.',\n",
    " 'Whiskey Ginger with Andrew Santino',\n",
    " 'Code Switch']"
   ]
  },
  {
   "cell_type": "markdown",
   "id": "c09ad97e-2624-47fc-bd3f-88851e0708e2",
   "metadata": {},
   "source": [
    "### Parse items old"
   ]
  },
  {
   "cell_type": "code",
   "execution_count": null,
   "id": "9b5a9a65-bb68-456e-b626-3191dcc689ac",
   "metadata": {},
   "outputs": [],
   "source": [
    "###\n",
    "# runs through the results of recently played and flattens the dictionary\n",
    "# returns a cleaned dictionary of recently played\n",
    "###\n",
    "def parse_recently_played(recently_played_item):\n",
    "    result = recently_played_item['track']\n",
    "    subset = dict((k, result[k]) for k in ('id', 'name', 'duration_ms', 'popularity', 'disc_number', 'track_number', 'explicit', 'type'))\n",
    "    subset['album_id'] = result['album']['id']\n",
    "    subset['artist_id'] = result['artists'][0]['id']\n",
    "    subset['artist_count'] = len(result['artists'])\n",
    "    subset['played_at'] = recently_played_item['played_at']\n",
    "    return subset"
   ]
  },
  {
   "cell_type": "markdown",
   "id": "730911d1-062a-488a-bb95-23363d86911b",
   "metadata": {},
   "source": [
    "### Datetime handling"
   ]
  },
  {
   "cell_type": "code",
   "execution_count": 26,
   "id": "091f3b7a-4fa0-4458-8441-1e2ec1391f18",
   "metadata": {},
   "outputs": [],
   "source": [
    "utc = datetime.strptime(current_max_played, \"%Y-%m-%dT%H:%M:%S.%fZ\")\n",
    "from_zone = tz.tzutc()\n",
    "to_zone = tz.tzlocal()\n",
    "utc = utc.replace(tzinfo=from_zone)\n",
    "local = utc.astimezone(to_zone)\n",
    "local_unix = int(time.mktime(local.timetuple())*1000)"
   ]
  },
  {
   "cell_type": "markdown",
   "id": "9768144a-9617-4398-8029-7833cb9458d2",
   "metadata": {},
   "source": [
    "### List Json File Names"
   ]
  },
  {
   "cell_type": "code",
   "execution_count": 16,
   "id": "01d5cd53-d168-49d7-a1cf-d9c11ee07374",
   "metadata": {},
   "outputs": [
    {
     "name": "stdout",
     "output_type": "stream",
     "text": [
      "['DuoNewFamily.json', 'Follow.json', 'Identifiers.json', 'Inferences.json', 'Marquee.json', 'Payments.json', 'Playlist1.json', 'Read_Me_First.pdf', 'SearchQueries.json', 'StreamingHistory0.json', 'UserAddress.json', 'Userdata.json', 'YourLibrary.json']\n"
     ]
    }
   ],
   "source": [
    "path = \"C://Users//Brian//Documents//python//spotify//MyData//\"\n",
    "dir_list = os.listdir(path)\n",
    "print(dir_list)"
   ]
  },
  {
   "cell_type": "code",
   "execution_count": 129,
   "id": "2d26bd82-54b1-440b-976c-434f11606629",
   "metadata": {
    "collapsed": true,
    "jupyter": {
     "outputs_hidden": true
    }
   },
   "outputs": [
    {
     "name": "stdout",
     "output_type": "stream",
     "text": [
      "DuoNewFamily\n",
      "Follow\n",
      "Identifiers\n",
      "Inferences\n",
      "Marquee\n",
      "Payments\n",
      "Playlist1\n",
      "Read_Me_First.pdf\n",
      "SearchQueries\n",
      "StreamingHistory0\n",
      "UserAddress\n",
      "Userdata\n",
      "YourLibrary\n"
     ]
    }
   ],
   "source": [
    "# Get the list of all files and directories\n",
    "path = \"C://Users//Brian//Documents//python//spotify//MyData//\"\n",
    "spotify_file_list = os.listdir(path)\n",
    "\n",
    "# prints all files\n",
    "for i in spotify_file_list:\n",
    "    print(i.replace('.json', ''))"
   ]
  },
  {
   "cell_type": "markdown",
   "id": "c61eb92c-ef84-4f16-91bb-ea30cd57ed86",
   "metadata": {},
   "source": [
    "### Simple Query From Spotipy Docs"
   ]
  },
  {
   "cell_type": "code",
   "execution_count": 6,
   "id": "955df9d1-116e-4356-9f84-69d73b701ae3",
   "metadata": {
    "collapsed": true,
    "jupyter": {
     "outputs_hidden": true
    }
   },
   "outputs": [
    {
     "name": "stdout",
     "output_type": "stream",
     "text": [
      "0 Slothrust  –  Pony\n",
      "1 The Steeldrivers  –  East Kentucky Home\n",
      "2 Norman Greenbaum  –  Spirit in the Sky\n",
      "3 Redbone  –  Come and Get Your Love (Rerecorded Version)\n",
      "4 Blue Swede  –  Hooked On A Feeling\n",
      "5 Rupert Holmes  –  Escape (The Pina Colada Song)\n",
      "6 Plague Vendor  –  Ox Blood\n",
      "7 Art Tatum  –  Blue Skies\n",
      "8 The Dillards  –  Dooley\n",
      "9 Matroda  –  Gimme Some Keys\n",
      "10 FJAAK  –  Plan of Escape\n",
      "11 Chris Lorenzo  –  MAMI\n",
      "12 Dreamville  –  Ma Boy\n",
      "13 Ethereal  –  Beef\n",
      "14 Freddie Gibbs  –  Couldn’t Be Done (feat. Kelly Price)\n",
      "15 Quindon Tarver  –  Everybody's Free (To Wear Sunscreen)\n",
      "16 Freddie Gibbs  –  Something to Rap About (feat. Tyler, The Creator)\n",
      "17 Freddie Gibbs  –  Dark Hearted\n",
      "18 Freddie Gibbs  –  PYS (feat. DJ Paul)\n",
      "19 Freddie Gibbs  –  Feel No Pain (feat. Anderson .Paak & Raekwon)\n"
     ]
    }
   ],
   "source": [
    "scope = \"user-library-read\"\n",
    "\n",
    "results = sp.current_user_saved_tracks()\n",
    "for idx, item in enumerate(results['items']):\n",
    "    track = item['track']\n",
    "    print(idx, track['artists'][0]['name'], \" – \", track['name'])"
   ]
  },
  {
   "cell_type": "markdown",
   "id": "63ccdf73-319c-4d1a-ba8e-67347b4be2ba",
   "metadata": {
    "jp-MarkdownHeadingCollapsed": true
   },
   "source": [
    "### Playlist Info"
   ]
  },
  {
   "cell_type": "code",
   "execution_count": null,
   "id": "168b8f4f-99f9-402e-a01f-9cadeda67b08",
   "metadata": {},
   "outputs": [],
   "source": [
    "# print information about playlist names and IDs\n",
    "# print(print_playlist_names(user_id))\n",
    "\n",
    "def print_playlist_names(user_id):\n",
    "    playlists = sp.user_playlists(user_id)\n",
    "    while playlists:\n",
    "        for i, playlist in enumerate(playlists['items']):\n",
    "            print(\"%4d %s %s\" % (i + 1 + playlists['offset'], playlist['uri'],  playlist['name']))\n",
    "        if playlists['next']:\n",
    "            playlists = sp.next(playlists)\n",
    "        else:\n",
    "            playlists = None\n",
    "        \n",
    "\n",
    "\n",
    "# Read JSON File Version\n",
    "\n",
    "def get_playlist_data_old():\n",
    "    playlist_data = get_json_from_file('Playlist1')['playlists']\n",
    "    print('Number of playlists: {}'.format(len(playlist_data)))\n",
    "    print('')\n",
    "    print('List Playlist Names:')\n",
    "    list_index = 0\n",
    "    for i in playlist_data:\n",
    "        print(i['name'],'index:',list_index)\n",
    "        list_index += 1\n",
    "    return playlist_data"
   ]
  },
  {
   "cell_type": "code",
   "execution_count": 111,
   "id": "521ae6fa-4f8f-4a08-bc62-9d25a2c15789",
   "metadata": {
    "scrolled": true
   },
   "outputs": [
    {
     "name": "stdout",
     "output_type": "stream",
     "text": [
      "Number of playlists: 42\n",
      "\n",
      "List Playlist Names:\n",
      "My recommendation playlist index: 0\n",
      "Happy Birthday Mama! index: 1\n",
      "Liked em index: 2\n",
      "Listen List index: 3\n",
      "Love songs index: 4\n",
      "Karaoke Mix index: 5\n",
      "Wedding index: 6\n",
      "Dancing index: 7\n",
      "Bacci Boys index: 8\n",
      "Chilll index: 9\n",
      "Summah index: 10\n",
      "Funky index: 11\n",
      "Random New index: 12\n",
      "eclectric index: 13\n",
      "Persian index: 14\n",
      "Easy Listening index: 15\n",
      "For My Love index: 16\n",
      "nothiing index: 17\n",
      "My Shazam Tracks index: 18\n",
      "Pity Party index: 19\n",
      "nate index: 20\n",
      "you no index: 21\n",
      "scRAP it index: 22\n",
      "\"Psychadelic\" \"Rock\" index: 23\n",
      "Pure Reggae Starbucks CD index: 24\n",
      "Afro Cuban index: 25\n",
      "FUN index: 26\n",
      "Nold Scholl index: 27\n",
      "House jammz index: 28\n",
      "Glitch Hop index: 29\n",
      "Yum Yum index: 30\n",
      "Instrumentals index: 31\n",
      "Ween index: 32\n",
      "Folk index: 33\n",
      "Jazz New index: 34\n",
      "Rock Hard index: 35\n",
      "Random discovered liked index: 36\n",
      "Rock \"Classics\" index: 37\n",
      "Lean on me index: 38\n",
      "Rippitty Rap index: 39\n",
      "Stoopid index: 40\n",
      "Jazz Classic index: 41\n"
     ]
    },
    {
     "data": {
      "text/plain": [
       "{'name': 'Liked em',\n",
       " 'lastModifiedDate': '2023-03-08',\n",
       " 'items': [{'track': {'trackName': '151 Rum',\n",
       "    'artistName': 'JID',\n",
       "    'albumName': 'DiCaprio 2',\n",
       "    'trackUri': 'spotify:track:22WV03i2lBbwNVCE1g671p'},\n",
       "   'episode': None,\n",
       "   'localTrack': None,\n",
       "   'addedDate': '2023-02-07'},\n",
       "  {'track': {'trackName': 'Two Tens (feat. Anderson .Paak)',\n",
       "    'artistName': 'Cordae',\n",
       "    'albumName': 'Two Tens (feat. Anderson .Paak)',\n",
       "    'trackUri': 'spotify:track:6clDsO8HwhHEgJDDp88VdL'},\n",
       "   'episode': None,\n",
       "   'localTrack': None,\n",
       "   'addedDate': '2023-02-07'},\n",
       "  {'track': {'trackName': 'Ma Boy',\n",
       "    'artistName': 'Dreamville',\n",
       "    'albumName': 'Ma Boy',\n",
       "    'trackUri': 'spotify:track:1kn9JsBWIw6qREhDWw0lKb'},\n",
       "   'episode': None,\n",
       "   'localTrack': None,\n",
       "   'addedDate': '2023-02-07'},\n",
       "  {'track': {'trackName': 'Eyes in the Back of My Head',\n",
       "    'artistName': 'Katori Walker',\n",
       "    'albumName': 'Eyes in the Back of My Head',\n",
       "    'trackUri': 'spotify:track:5MrtQggewKtfSzs4akoaD2'},\n",
       "   'episode': None,\n",
       "   'localTrack': None,\n",
       "   'addedDate': '2023-02-07'},\n",
       "  {'track': {'trackName': 'Chucks (feat. Channel Tres)',\n",
       "    'artistName': 'Terrace Martin',\n",
       "    'albumName': 'Chucks (feat. Channel Tres)',\n",
       "    'trackUri': 'spotify:track:3VnDDruJDou1AIVjloQBzh'},\n",
       "   'episode': None,\n",
       "   'localTrack': None,\n",
       "   'addedDate': '2023-02-07'},\n",
       "  {'track': {'trackName': '42 Hundred Choices',\n",
       "    'artistName': 'IDK',\n",
       "    'albumName': 'Is He Real?',\n",
       "    'trackUri': 'spotify:track:5yl7WSp3mot0nepMQvfVi3'},\n",
       "   'episode': None,\n",
       "   'localTrack': None,\n",
       "   'addedDate': '2023-02-08'},\n",
       "  {'track': {'trackName': 'WATERBOYZ (with JID & J. Cole)',\n",
       "    'artistName': 'EARTHGANG',\n",
       "    'albumName': 'GHETTO GODS',\n",
       "    'trackUri': 'spotify:track:1KyXCd04yHni5pMGFwgzuE'},\n",
       "   'episode': None,\n",
       "   'localTrack': None,\n",
       "   'addedDate': '2023-02-08'},\n",
       "  {'track': {'trackName': 'Overdose 2X (feat. 2 Chainz & Nardo Wick)',\n",
       "    'artistName': 'Finesse2tymes',\n",
       "    'albumName': '90 Days Later',\n",
       "    'trackUri': 'spotify:track:5EjkNhYIMegODS5jYYmRGK'},\n",
       "   'episode': None,\n",
       "   'localTrack': None,\n",
       "   'addedDate': '2023-03-05'},\n",
       "  {'track': {'trackName': 'Neighbors Know My Name',\n",
       "    'artistName': '2 Chainz',\n",
       "    'albumName': \"Dope Don't Sell Itself\",\n",
       "    'trackUri': 'spotify:track:4H9pCqPKc11WCbfILZSYTt'},\n",
       "   'episode': None,\n",
       "   'localTrack': None,\n",
       "   'addedDate': '2023-03-05'},\n",
       "  {'track': {'trackName': 'Surround Sound (feat. 21 Savage & Baby Tate)',\n",
       "    'artistName': 'JID',\n",
       "    'albumName': 'The Forever Story',\n",
       "    'trackUri': 'spotify:track:1udwFobQ1JoOdWPQrp2b6u'},\n",
       "   'episode': None,\n",
       "   'localTrack': None,\n",
       "   'addedDate': '2023-03-08'}],\n",
       " 'description': None,\n",
       " 'numberOfFollowers': 0}"
      ]
     },
     "execution_count": 111,
     "metadata": {},
     "output_type": "execute_result"
    }
   ],
   "source": [
    "playlists_data = get_playlist_data()\n",
    "\n",
    "playlists_data[2]"
   ]
  },
  {
   "cell_type": "code",
   "execution_count": null,
   "id": "147564a0-6e84-4511-9b58-e8cbae6bf334",
   "metadata": {},
   "outputs": [],
   "source": []
  }
 ],
 "metadata": {
  "kernelspec": {
   "display_name": "Python 3 (ipykernel)",
   "language": "python",
   "name": "python3"
  },
  "language_info": {
   "codemirror_mode": {
    "name": "ipython",
    "version": 3
   },
   "file_extension": ".py",
   "mimetype": "text/x-python",
   "name": "python",
   "nbconvert_exporter": "python",
   "pygments_lexer": "ipython3",
   "version": "3.11.5"
  }
 },
 "nbformat": 4,
 "nbformat_minor": 5
}
