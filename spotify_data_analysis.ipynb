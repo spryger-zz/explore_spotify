{
 "cells": [
  {
   "cell_type": "markdown",
   "id": "b80803c6-6af2-403b-a1b7-c8b9b5c0ee1d",
   "metadata": {},
   "source": [
    "## questions I'm curious about"
   ]
  },
  {
   "cell_type": "markdown",
   "id": "53e09d91-ccbe-462d-9d89-d681d9b09618",
   "metadata": {},
   "source": [
    "- am I listing to full albums?\n",
    "- what decade do i listen to most?\n",
    "- what are my most listened to genres?\n",
    "- what are my most listened to albums?\n",
    "- are songs I'm listening to on my playlists or in my library?\n",
    "- can I tell someones mood that day based on what they are listening to?"
   ]
  },
  {
   "cell_type": "markdown",
   "id": "d092c4bc-43b2-41af-b928-0222303e860d",
   "metadata": {},
   "source": [
    "## Info I want about every song"
   ]
  },
  {
   "cell_type": "markdown",
   "id": "6a3bf6b1-870d-49ce-b027-457ebbb8ce37",
   "metadata": {},
   "source": [
    "- Track ID\n",
    "- Track Name\n",
    "- Artists ID\n",
    "- Artist Name\n",
    "- Length Of Track\n",
    "- Genres List of Track\n",
    "- End Time of Stream\n",
    "- Time of Stream\n",
    "- % of Song Listened To\n",
    "- Is Explicit\n",
    "- Disc Number"
   ]
  },
  {
   "cell_type": "markdown",
   "id": "448089af-59ac-4e06-b1ed-76087cb69364",
   "metadata": {},
   "source": [
    "## Things I've done so far"
   ]
  },
  {
   "cell_type": "markdown",
   "id": "4fd9ac2b-60ec-4960-bcab-809e5ce4c1ff",
   "metadata": {},
   "source": [
    "- Spotipy authorization and scope.\n",
    "    - Scope defines what data you're allow to pull from that API request\n",
    "    - I set environment variables of my client and secret needed for at least some authorization\n",
    "    - Does all authorization require scope?\n",
    "- Spotify Data Request\n",
    "    - They only retain 1 years worth of streaming data\n",
    "- "
   ]
  },
  {
   "cell_type": "markdown",
   "id": "d9ef68c9-c069-47d0-8e1c-f49c9f3e9333",
   "metadata": {},
   "source": [
    "# Initialize"
   ]
  },
  {
   "cell_type": "code",
   "execution_count": 1,
   "id": "83e7eb0b-2385-4090-ba3a-37825ece9887",
   "metadata": {},
   "outputs": [],
   "source": [
    "import json\n",
    "import os\n",
    "import spotipy\n",
    "from spotipy.oauth2 import SpotifyClientCredentials,SpotifyOAuth\n",
    "import pandas as pd\n",
    "from datetime import date, datetime\n",
    "import time\n",
    "from dateutil import tz"
   ]
  },
  {
   "cell_type": "markdown",
   "id": "fa4c59b6-887d-4811-a3ea-6479a485485e",
   "metadata": {},
   "source": [
    "## Pick your auth version"
   ]
  },
  {
   "cell_type": "code",
   "execution_count": 2,
   "id": "3e97e327-32dc-4f9b-b671-6de30d88398e",
   "metadata": {},
   "outputs": [],
   "source": [
    "user_id = 'brian.cross741'\n",
    "auth_manager = SpotifyClientCredentials()\n",
    "sp = spotipy.Spotify(auth_manager=auth_manager)\n",
    "#sp = spotipy.Spotify(auth_manager=SpotifyOAuth(scope=scope))"
   ]
  },
  {
   "cell_type": "markdown",
   "id": "85010406-46e7-4da2-903d-df9076ba6de6",
   "metadata": {},
   "source": [
    "# Basic Functions"
   ]
  },
  {
   "cell_type": "code",
   "execution_count": 3,
   "id": "c14aa79d-37d5-4551-8a02-87760028be87",
   "metadata": {},
   "outputs": [],
   "source": [
    "# opens json files provided by spotify data retreival\n",
    "def get_json_from_file(spotify_file):\n",
    "    f = open('MyData/{}.json'.format(spotify_file), encoding=\"utf8\")\n",
    "    data = json.load(f)\n",
    "    f.close()\n",
    "    return data\n",
    "\n",
    "# # searches for any string and returns the artist_id for the top response item\n",
    "# def search_for_artist_id(name):\n",
    "#     result = sp.search(name)\n",
    "#     id = result['tracks']['items'][0]['artists'][0]['id']\n",
    "#     return id\n",
    "\n",
    "# # searches for any string and returns the track_id for the top response item\n",
    "# def search_for_track_id(name):\n",
    "#     result = sp.search(name)\n",
    "#     id = result['tracks']['items'][0]['id']\n",
    "#     return id\n",
    "\n",
    "# searches for any string and returns the track_id for the top response item\n",
    "# def search_for_track(track_name=None, artist_name=None):\n",
    "#     search_result = sp.search(q='track:{} artist:{}'.format(track_name,artist_name), type='track')\n",
    "#     subset = parse_track_result(search_result['tracks']['items'][0])    \n",
    "#     return subset\n",
    "\n",
    "\n",
    "def parse_episode_result(item):\n",
    "    subset = dict((k, item[k]) for k in ('id', 'name', 'duration_ms', 'explicit', 'type'))\n",
    "    return subset\n",
    "\n",
    "def search_for_track(track_name=None, artist_name=None):\n",
    "    try:\n",
    "        search_result = sp.search(q='''track:{} artist:{}'''.format(track_name,artist_name), type='track')\n",
    "        subset = parse_track_result(search_result['tracks']['items'][0])\n",
    "    except:\n",
    "        try:\n",
    "            search_result = sp.search(q='''episode:{}'''.format(track_name), type='episode')\n",
    "            subset = parse_episode_result(search_result['episodes']['items'][0])\n",
    "            subset['artist_name'] = artist_name\n",
    "        except:\n",
    "            subset = {'artist_name':artist_name, 'track_name':track_name}\n",
    "    return subset\n",
    "\n",
    "\n",
    "\n",
    "def get_artist_data(id):\n",
    "    result = sp.artist(id)\n",
    "    subset = dict((k, result[k]) for k in ('id', 'name', 'genres', 'popularity'))\n",
    "    subset['followers'] = result['followers']['total']\n",
    "    return subset\n",
    "\n",
    "def get_track_data(id):\n",
    "    result = sp.track(id)\n",
    "    subset = dict((k, result[k]) for k in ('id', 'name', 'duration_ms', 'popularity', 'disc_number', 'track_number', 'explicit', 'type'))\n",
    "    subset['album_id'] = result['album']['id']\n",
    "    subset['artist_id'] = result['artists'][0]['id']\n",
    "    subset['artist_count'] = len(result['artists'])\n",
    "    return subset\n",
    "\n",
    "def get_album_data(id):\n",
    "    result = sp.album(id)\n",
    "    subset = dict((k, result[k]) for k in ('id', 'name', 'album_type', 'release_date', 'release_date_precision', 'popularity', 'total_tracks', 'genres', 'label', 'type'))\n",
    "    return subset\n",
    "    "
   ]
  },
  {
   "cell_type": "markdown",
   "id": "59209f12-18f2-47ff-9f42-e7fbdd569bb9",
   "metadata": {},
   "source": [
    "# Recently Played Functions"
   ]
  },
  {
   "cell_type": "code",
   "execution_count": 4,
   "id": "fc3bf240-f10a-4886-91a8-0c29286ceb0d",
   "metadata": {},
   "outputs": [],
   "source": [
    "\n",
    "###\n",
    "# opens all the recently palyed files and finds the most recent timestamp, converting it to local time\n",
    "# returns unix timestamp and a datetime for the most recently played track in the logs\n",
    "###\n",
    "def get_most_recent_timestamp():\n",
    "    # folder containing saved files of recently played\n",
    "    path = 'recently_played/'\n",
    "    recently_played_files = os.listdir(path)\n",
    "\n",
    "    total_max_played = ''\n",
    "    total_max_played_unix = 0\n",
    "    for i in recently_played_files:\n",
    "        current_max_played = pd.read_csv(path+i)['played_at'].max()\n",
    "        utc = datetime.strptime(current_max_played, \"%Y-%m-%dT%H:%M:%S.%fZ\")\n",
    "        current_max_played_unix = int(time.mktime(utc.timetuple())*1000)\n",
    "    \n",
    "        if current_max_played_unix > total_max_played_unix:\n",
    "            total_max_played_unix = current_max_played_unix\n",
    "            total_max_played = utc\n",
    "    \n",
    "    from_zone = tz.tzutc()\n",
    "    to_zone = tz.tzlocal()\n",
    "    total_max_played = total_max_played.replace(tzinfo=from_zone)\n",
    "    local_total_max_played = total_max_played.astimezone(to_zone)\n",
    "    local_total_max_played_unix = int(time.mktime(local_total_max_played.timetuple())*1000)\n",
    "    return local_total_max_played_unix, local_total_max_played\n",
    "\n",
    "###\n",
    "# runs through the results of recently played and flattens the dictionary\n",
    "# returns a cleaned dictionary of recently played\n",
    "###\n",
    "def parse_track_result(item):\n",
    "    try:\n",
    "        result = item['track']\n",
    "    except:\n",
    "        result = item\n",
    "    subset = dict((k, result[k]) for k in ('id', 'name', 'duration_ms', 'popularity', 'disc_number', 'track_number', 'explicit', 'type'))\n",
    "    subset['album_id'] = result['album']['id']\n",
    "    subset['artist_id'] = result['artists'][0]['id']\n",
    "    subset['artist_count'] = len(result['artists'])\n",
    "    try:\n",
    "        subset['context'] = item['context']['uri']\n",
    "    except:\n",
    "        pass\n",
    "    try:\n",
    "        subset['played_at'] = item['played_at']\n",
    "    except:\n",
    "        pass\n",
    "    return subset\n",
    "\n",
    "###\n",
    "# intakes either None or a unix timestamp which will call all records occurring after it\n",
    "# returns a cleaned dictionary of recently played\n",
    "###\n",
    "def call_recently_played(after_timestamp_unix):\n",
    "    # set permissions, the scope is needed for the API to be allowed to grab this data.\n",
    "    scope = \"user-read-recently-played\"\n",
    "    sp = spotipy.Spotify(auth_manager=SpotifyOAuth(scope=scope))\n",
    "    \n",
    "    # call spotify\n",
    "    recently_played = sp.current_user_recently_played(limit=50, after=after_timestamp_unix)\n",
    "\n",
    "    # parse data and return a shorter, flattened dictionary with track data\n",
    "    recently_played_short = []\n",
    "    for i in recently_played['items']:\n",
    "        subset = parse_track_result(i)\n",
    "        recently_played_short.append(subset)\n",
    "    return recently_played_short\n",
    "\n",
    "###\n",
    "# runs through the recently played directory, finds the most recent timestamp, and calls recently played for the new, unsaved records\n",
    "# returns a cleaned dataframe of non-recorded recently played\n",
    "###\n",
    "def get_new_recently_played():\n",
    "    after_timestamp = get_most_recent_timestamp()[0]\n",
    "    recently_played = call_recently_played(after_timestamp+1000)\n",
    "    df = pd.DataFrame(data=recently_played)\n",
    "    return df\n",
    "\n",
    "###\n",
    "# intakes a dataframe and savesit as a log in the recently played folder\n",
    "# tells you the timestamp used to save\n",
    "###\n",
    "def save_new_recently_played(df):\n",
    "    dt_string = datetime.now().strftime(\"%Y%m%d_%H_%M_%S\")\n",
    "    if len(df) > 0:\n",
    "        df.to_csv(f'recently_played/recently_played_{dt_string}.csv', index=False)\n",
    "        print('saved file: {}'.format(dt_string))"
   ]
  },
  {
   "cell_type": "markdown",
   "id": "933963bd-c146-480e-9dae-de86709b4345",
   "metadata": {},
   "source": [
    "### Save Recently Played"
   ]
  },
  {
   "cell_type": "code",
   "execution_count": 6,
   "id": "783b4102-d895-46a7-a052-f523607ce096",
   "metadata": {},
   "outputs": [
    {
     "data": {
      "text/plain": [
       "(1697629141000,\n",
       " datetime.datetime(2023, 10, 18, 7, 39, 1, 795000, tzinfo=tzlocal()))"
      ]
     },
     "execution_count": 6,
     "metadata": {},
     "output_type": "execute_result"
    }
   ],
   "source": [
    "get_most_recent_timestamp()"
   ]
  },
  {
   "cell_type": "code",
   "execution_count": 7,
   "id": "19e4612b-cc69-4703-9fed-48c9d680d488",
   "metadata": {},
   "outputs": [],
   "source": [
    "scope = \"user-read-recently-played\"\n",
    "# scope = 'user-read-playback-state'\n",
    "sp = spotipy.Spotify(auth_manager=SpotifyOAuth(scope=scope))\n",
    "recently_played = sp.current_user_recently_played(limit=50, after=get_most_recent_timestamp()[0]+10000)"
   ]
  },
  {
   "cell_type": "code",
   "execution_count": 8,
   "id": "addcb4a9-b4ab-498a-957a-a16cbcf03ffa",
   "metadata": {},
   "outputs": [],
   "source": [
    "recently_played['items'][0]['context']"
   ]
  },
  {
   "cell_type": "code",
   "execution_count": 10,
   "id": "f267ce28-2ca9-4514-af6d-00c09c04c110",
   "metadata": {},
   "outputs": [],
   "source": [
    "new_recently_played = get_new_recently_played()"
   ]
  },
  {
   "cell_type": "code",
   "execution_count": 11,
   "id": "59f6f8bf-b26a-4c3f-a11f-c270b94d1a16",
   "metadata": {},
   "outputs": [
    {
     "data": {
      "text/plain": [
       "50"
      ]
     },
     "execution_count": 11,
     "metadata": {},
     "output_type": "execute_result"
    }
   ],
   "source": [
    "len(new_recently_played)"
   ]
  },
  {
   "cell_type": "code",
   "execution_count": 13,
   "id": "2ae4877d-eb79-4410-98cb-10f3cc5ff724",
   "metadata": {},
   "outputs": [
    {
     "data": {
      "text/html": [
       "<div>\n",
       "<style scoped>\n",
       "    .dataframe tbody tr th:only-of-type {\n",
       "        vertical-align: middle;\n",
       "    }\n",
       "\n",
       "    .dataframe tbody tr th {\n",
       "        vertical-align: top;\n",
       "    }\n",
       "\n",
       "    .dataframe thead th {\n",
       "        text-align: right;\n",
       "    }\n",
       "</style>\n",
       "<table border=\"1\" class=\"dataframe\">\n",
       "  <thead>\n",
       "    <tr style=\"text-align: right;\">\n",
       "      <th></th>\n",
       "      <th>id</th>\n",
       "      <th>name</th>\n",
       "      <th>duration_ms</th>\n",
       "      <th>popularity</th>\n",
       "      <th>disc_number</th>\n",
       "      <th>track_number</th>\n",
       "      <th>explicit</th>\n",
       "      <th>type</th>\n",
       "      <th>album_id</th>\n",
       "      <th>artist_id</th>\n",
       "      <th>artist_count</th>\n",
       "      <th>played_at</th>\n",
       "    </tr>\n",
       "  </thead>\n",
       "  <tbody>\n",
       "    <tr>\n",
       "      <th>45</th>\n",
       "      <td>5VBo8z9x2dK1C5TB634LwA</td>\n",
       "      <td>Mambo No.8</td>\n",
       "      <td>128133</td>\n",
       "      <td>18</td>\n",
       "      <td>1</td>\n",
       "      <td>7</td>\n",
       "      <td>False</td>\n",
       "      <td>track</td>\n",
       "      <td>4gIaN0sSqN7fjDq9NG4vFp</td>\n",
       "      <td>1ZKhPkCXXgtiGgALn4OYtT</td>\n",
       "      <td>1</td>\n",
       "      <td>2023-10-18T13:20:50.530Z</td>\n",
       "    </tr>\n",
       "    <tr>\n",
       "      <th>46</th>\n",
       "      <td>66ND8DY2EczHltZ2snI3qW</td>\n",
       "      <td>Taurus In The Arena Of Life</td>\n",
       "      <td>257200</td>\n",
       "      <td>25</td>\n",
       "      <td>1</td>\n",
       "      <td>4</td>\n",
       "      <td>False</td>\n",
       "      <td>track</td>\n",
       "      <td>03zH4bkGb2jSZAQIVW2px1</td>\n",
       "      <td>1W8TbFzNS15VwsempfY12H</td>\n",
       "      <td>1</td>\n",
       "      <td>2023-10-18T13:15:14.797Z</td>\n",
       "    </tr>\n",
       "    <tr>\n",
       "      <th>47</th>\n",
       "      <td>6pCQ5u1P1GGOXllx6H4FhY</td>\n",
       "      <td>Don't Be Afraid, The Clown's Afraid Too</td>\n",
       "      <td>565466</td>\n",
       "      <td>25</td>\n",
       "      <td>1</td>\n",
       "      <td>3</td>\n",
       "      <td>False</td>\n",
       "      <td>track</td>\n",
       "      <td>03zH4bkGb2jSZAQIVW2px1</td>\n",
       "      <td>1W8TbFzNS15VwsempfY12H</td>\n",
       "      <td>1</td>\n",
       "      <td>2023-10-18T12:45:34.697Z</td>\n",
       "    </tr>\n",
       "    <tr>\n",
       "      <th>48</th>\n",
       "      <td>57EMqntPq6sptkSbc5lyKi</td>\n",
       "      <td>Adagio Ma Non Troppo</td>\n",
       "      <td>503440</td>\n",
       "      <td>28</td>\n",
       "      <td>1</td>\n",
       "      <td>2</td>\n",
       "      <td>False</td>\n",
       "      <td>track</td>\n",
       "      <td>03zH4bkGb2jSZAQIVW2px1</td>\n",
       "      <td>1W8TbFzNS15VwsempfY12H</td>\n",
       "      <td>1</td>\n",
       "      <td>2023-10-18T12:35:44.582Z</td>\n",
       "    </tr>\n",
       "    <tr>\n",
       "      <th>49</th>\n",
       "      <td>3fcKZiegoVsBmVuGkyvcWv</td>\n",
       "      <td>The Shoes of the Fisherman's Wife Are Some Jiv...</td>\n",
       "      <td>574426</td>\n",
       "      <td>37</td>\n",
       "      <td>1</td>\n",
       "      <td>1</td>\n",
       "      <td>False</td>\n",
       "      <td>track</td>\n",
       "      <td>03zH4bkGb2jSZAQIVW2px1</td>\n",
       "      <td>1W8TbFzNS15VwsempfY12H</td>\n",
       "      <td>1</td>\n",
       "      <td>2023-10-18T12:27:21.623Z</td>\n",
       "    </tr>\n",
       "  </tbody>\n",
       "</table>\n",
       "</div>"
      ],
      "text/plain": [
       "                        id                                               name  \\\n",
       "45  5VBo8z9x2dK1C5TB634LwA                                         Mambo No.8   \n",
       "46  66ND8DY2EczHltZ2snI3qW                        Taurus In The Arena Of Life   \n",
       "47  6pCQ5u1P1GGOXllx6H4FhY            Don't Be Afraid, The Clown's Afraid Too   \n",
       "48  57EMqntPq6sptkSbc5lyKi                               Adagio Ma Non Troppo   \n",
       "49  3fcKZiegoVsBmVuGkyvcWv  The Shoes of the Fisherman's Wife Are Some Jiv...   \n",
       "\n",
       "    duration_ms  popularity  disc_number  track_number  explicit   type  \\\n",
       "45       128133          18            1             7     False  track   \n",
       "46       257200          25            1             4     False  track   \n",
       "47       565466          25            1             3     False  track   \n",
       "48       503440          28            1             2     False  track   \n",
       "49       574426          37            1             1     False  track   \n",
       "\n",
       "                  album_id               artist_id  artist_count  \\\n",
       "45  4gIaN0sSqN7fjDq9NG4vFp  1ZKhPkCXXgtiGgALn4OYtT             1   \n",
       "46  03zH4bkGb2jSZAQIVW2px1  1W8TbFzNS15VwsempfY12H             1   \n",
       "47  03zH4bkGb2jSZAQIVW2px1  1W8TbFzNS15VwsempfY12H             1   \n",
       "48  03zH4bkGb2jSZAQIVW2px1  1W8TbFzNS15VwsempfY12H             1   \n",
       "49  03zH4bkGb2jSZAQIVW2px1  1W8TbFzNS15VwsempfY12H             1   \n",
       "\n",
       "                   played_at  \n",
       "45  2023-10-18T13:20:50.530Z  \n",
       "46  2023-10-18T13:15:14.797Z  \n",
       "47  2023-10-18T12:45:34.697Z  \n",
       "48  2023-10-18T12:35:44.582Z  \n",
       "49  2023-10-18T12:27:21.623Z  "
      ]
     },
     "execution_count": 13,
     "metadata": {},
     "output_type": "execute_result"
    }
   ],
   "source": [
    "new_recently_played.tail()"
   ]
  },
  {
   "cell_type": "code",
   "execution_count": 14,
   "id": "d593136e-d9a0-4676-8ec7-ac536c8d5b3c",
   "metadata": {},
   "outputs": [
    {
     "name": "stdout",
     "output_type": "stream",
     "text": [
      "saved file: 20231018_19_06_47\n"
     ]
    }
   ],
   "source": [
    "save_new_recently_played(new_recently_played)"
   ]
  },
  {
   "cell_type": "markdown",
   "id": "f8a4c1c3-5c36-4d85-861b-824eb13e69c5",
   "metadata": {
    "jp-MarkdownHeadingCollapsed": true
   },
   "source": [
    "# Expand Streaming Data"
   ]
  },
  {
   "cell_type": "code",
   "execution_count": 131,
   "id": "f19a8ba4-8513-462b-b895-d9796689a1c6",
   "metadata": {},
   "outputs": [],
   "source": [
    "# search_result = sp.search(q='episode:{}'.format('MBMBaM 624: Reince Your Own Priebus'), type='episode')"
   ]
  },
  {
   "cell_type": "code",
   "execution_count": 15,
   "id": "b9c7de98-91cc-4d7b-beaf-904d321d3d11",
   "metadata": {},
   "outputs": [],
   "source": [
    "streaming_data = get_json_from_file('StreamingHistory0')"
   ]
  },
  {
   "cell_type": "code",
   "execution_count": 16,
   "id": "a2234d7e-b283-4dc1-ab4a-5835ed799d26",
   "metadata": {},
   "outputs": [
    {
     "data": {
      "text/plain": [
       "7886"
      ]
     },
     "execution_count": 16,
     "metadata": {},
     "output_type": "execute_result"
    }
   ],
   "source": [
    "len(streaming_data)"
   ]
  },
  {
   "cell_type": "markdown",
   "id": "dfeb844c-f07a-4217-957a-9cb869508b2c",
   "metadata": {},
   "source": [
    "### Searching to expand streaming data"
   ]
  },
  {
   "cell_type": "code",
   "execution_count": 181,
   "id": "e9c91966-07de-483b-ac10-5cbc778726d4",
   "metadata": {},
   "outputs": [
    {
     "name": "stdout",
     "output_type": "stream",
     "text": [
      "saving 5500\n",
      "saving 6000\n",
      "saving 6500\n",
      "saving 7000\n",
      "saving 7500\n",
      "0:13:28.306981\n"
     ]
    }
   ],
   "source": [
    "# honestly this is really sloppy and the iterating and saving part should be overhauled.\n",
    "\n",
    "result_list = []\n",
    "iteration = 5000\n",
    "start = datetime.now()\n",
    "for track in streaming_data[5000:]:\n",
    "    iteration += 1\n",
    "    artist_name = track['artistName']\n",
    "    track_name = track['trackName']\n",
    "    end_time = track['endTime']\n",
    "    ms_played = track['msPlayed']\n",
    "\n",
    "    # search spotify using the track and artist name\n",
    "    result = search_for_track(track_name=track_name, artist_name=artist_name)\n",
    "    result['duration_ms'] = ms_played\n",
    "    result['played_at'] = end_time\n",
    "    result_list.append(result)\n",
    "    if iteration % 500 == 0:\n",
    "        print('saving {}'.format(iteration))\n",
    "        df_streaming_data = pd.DataFrame(data=result_list)\n",
    "        df_streaming_data.to_csv('searched_history/raw_searches/streaming_data_searched_{}.csv'.format(iteration+1))\n",
    "    else:\n",
    "        pass\n",
    "end = datetime.now()\n",
    "print(end - start)\n",
    "df_streaming_data = pd.DataFrame(data=result_list)\n",
    "df_streaming_data.to_csv('searched_history/raw_searches/streaming_data_searched_{}.csv'.format(iteration+1))"
   ]
  },
  {
   "cell_type": "markdown",
   "id": "a808b6d1-af5f-4521-8cb0-8b591505f4b4",
   "metadata": {
    "jp-MarkdownHeadingCollapsed": true
   },
   "source": [
    "### Combining streaming data files into on"
   ]
  },
  {
   "cell_type": "code",
   "execution_count": 196,
   "id": "70622f37-4a87-45c0-b59d-31ffd684bb10",
   "metadata": {},
   "outputs": [
    {
     "name": "stdout",
     "output_type": "stream",
     "text": [
      "['streaming_data_searched_1000.csv', 'streaming_data_searched_1500.csv', 'streaming_data_searched_2000.csv', 'streaming_data_searched_2500.csv', 'streaming_data_searched_3000.csv', 'streaming_data_searched_3500.csv', 'streaming_data_searched_4000.csv', 'streaming_data_searched_4500.csv', 'streaming_data_searched_500.csv', 'streaming_data_searched_5000.csv', 'streaming_data_searched_5501.csv', 'streaming_data_searched_6001.csv', 'streaming_data_searched_6501.csv', 'streaming_data_searched_7001.csv', 'streaming_data_searched_7501.csv', 'streaming_data_searched_7887.csv']\n"
     ]
    }
   ],
   "source": [
    "path = \"searched_history\"\n",
    "dir_list = os.listdir(path)\n",
    "print(dir_list)\n",
    "\n",
    "stream_df = pd.DataFrame()\n",
    "\n",
    "for i in dir_list:\n",
    "    read_file = pd.read_csv(path+'/'+i)\n",
    "    read_file.drop('Unnamed: 0',axis=1,inplace=True)\n",
    "    stream_df = pd.concat([stream_df,read_file])\n",
    "stream_df.drop_duplicates(inplace=True)"
   ]
  },
  {
   "cell_type": "code",
   "execution_count": 211,
   "id": "06c140af-362f-47c6-b361-692a5d23bebd",
   "metadata": {},
   "outputs": [],
   "source": [
    "stream_tracks = stream_df[stream_df['type'] == 'track']\n",
    "stream_episodes = stream_df[stream_df['type'] == 'episode']\n",
    "stream_errors = stream_df[stream_df['type'].isnull()]"
   ]
  },
  {
   "cell_type": "code",
   "execution_count": 214,
   "id": "b3485e0b-88be-4457-90e3-efecd8a7ba54",
   "metadata": {},
   "outputs": [],
   "source": [
    "stream_tracks.to_csv('searched_history/streaming_history_tracks.csv',index=False)\n",
    "stream_episodes.to_csv('searched_history/streaming_history_episodes.csv',index=False)\n",
    "stream_errors.to_csv('searched_history/streaming_history_errors.csv',index=False)"
   ]
  },
  {
   "cell_type": "markdown",
   "id": "0d7b6ad1-fba7-4303-a708-c816787b294f",
   "metadata": {},
   "source": [
    "# Track Object"
   ]
  },
  {
   "cell_type": "markdown",
   "id": "fdbc7a09-88fb-4121-9fbd-2b90cb874802",
   "metadata": {},
   "source": [
    "### Helpers"
   ]
  },
  {
   "cell_type": "code",
   "execution_count": null,
   "id": "112908e5-5bd9-499a-a50d-fe2104a4bede",
   "metadata": {},
   "outputs": [],
   "source": [
    "subset = dict((k, result[k]) for k in ('id', 'name', 'duration_ms', 'popularity', 'disc_number', 'track_number', 'explicit', 'type'))\n",
    "\n",
    "\n",
    "result['album']\n",
    "result['album']['album_type']\n",
    "result['album']['id']\n",
    "result['album']['name']\n",
    "result['album']['release_date']\n",
    "result['album']['release_date_precision']\n",
    "result['album']['total_tracks']\n",
    "result['album']['type']\n",
    "\n",
    "result['artists']\n",
    "result['artists'][artist_order]['name']\n",
    "result['artists'][artist_order]['id']\n",
    "result['artists'][artist_order]['type']\n",
    "\n",
    "result['disc_number']\n",
    "result['track_number']\n",
    "result['duration_ms']\n",
    "result['explicit']\n",
    "result['id']\n",
    "result['name']\n",
    "result['popularity']\n",
    "result['type']"
   ]
  },
  {
   "cell_type": "markdown",
   "id": "89475fb6-7cad-4fbf-8278-f7844eeb33b7",
   "metadata": {},
   "source": [
    "## Class"
   ]
  },
  {
   "cell_type": "code",
   "execution_count": 97,
   "id": "77688d4e-bbdc-48d3-b2b3-8143ca1fcf6a",
   "metadata": {},
   "outputs": [],
   "source": [
    "class track:\n",
    "    def __init__(self, id):\n",
    "        self.id = id\n",
    "        self.data = sp.track(id)\n",
    "        self.album = sp.album(self.data['album']['id'])\n",
    "\n",
    "    def __repr__(self):\n",
    "        return '\"{}\" by {}'.format(self.data['name'],self.data['artists'][0]['name'])\n"
   ]
  },
  {
   "cell_type": "markdown",
   "id": "fa133282-39d0-48cf-94e7-a76c0366a966",
   "metadata": {},
   "source": [
    "__Well what do I do with a class once I have it?__\n",
    "\n",
    "I think maybe I should just work with the data in a single table?\n",
    "But it's hard to because I don't know what the data model should be.\n",
    "\n",
    "### Thoughts on Data Schema and Metrics\n",
    "\n",
    "__Genre Issue:__\n",
    "- Where does it come from?\n",
    "    - Genre can come from artist or album\n",
    "    - If it's on the album then get it from the album (album has genre but sometimes it's null)\n",
    "    - If it's artist level genre, then how can you blend genres across artists?\n",
    "        - Rank most common genre\n",
    "        - Rank most common genre, favoring first artist\n",
    "        - Rank most common genre, favoring first genre order\n",
    "        - Filter for top 3 genres, match all of them\n",
    "        - Generate list by taking top genre from each artist then using those as the genre list, or expand to include all genres.\n",
    "        - If the genre orders match, then genre should remain in that order placement (I don't actually like that)\n",
    "- How to narrow down from a single list of genres\n",
    "    - Take first genre\n",
    "    - Merge first and second genre\n",
    "    - Second Genre (for hierarchy)\n",
    "    - Third Genre (for hierarchy)\n",
    "- Should I just look up genre from another source?\n",
    "- I need to assign the genre to each track because artists have their own genres, separate from tracks and albums.\n",
    "\n",
    "__Artist Issue:__\n",
    "- Who even is the artist if there are multiple artists listed?\n",
    "    - Take first artist (best for analytics)??\n",
    "    - Merge first and second artist\n",
    "    - Second Genre (for hierarchy)\n",
    "    - Third Genre (for hierarchy)\n",
    "\n",
    "__Metrics__\n",
    "\n",
    "Well what do you want?\n",
    "- streams over time\n",
    "- most streamed artist\n",
    "- most streamed album\n",
    "- most streamed genre\n",
    "- distribution of artist popularity\n",
    "- distibution of track popularity\n",
    "- genre streams over time\n",
    "- streams\n",
    "- which artists have the most diverse album genres\n",
    "- most listened to album\n",
    "\n",
    "\n",
    "__Issues with Data Model__\n",
    "\n",
    "There seem to be so many different ways tom combine the following objects:\n",
    "- stream\n",
    "- track\n",
    "- artist\n",
    "- album\n",
    "- playlist\n",
    "\n",
    "Everything is relational, it depends on the question you are asking that determines the data needed.\n",
    "\n",
    "The Spotify API tries to give enough data for what you need, but not give you everything.\n",
    "\n",
    "__Data Model__\n",
    "- stream\n",
    "- track 1:many stream\n",
    "- artist many:many track\n",
    "- album 1:1 track\n",
    "- playlist 1\n",
    "\n",
    "__Alternate Data Model__\n",
    "- album\n",
    "- artist many:many album\n",
    "\n",
    "### What do users do?\n",
    "- They listen to tracks\n",
    "- tracks have albums\n",
    "- albums have artists\n",
    "- tracks have an artist and a feature(s) when they are singles.\n",
    "    - QA Note: Do the artists on single albums exactly match the artist on the track?\n",
    "- tracks have collaborators when they aren't\n",
    "- If the album is an anthology, the artist on the track won't match the artist on the album\n",
    "    - QA Note: How often do track artists not match album artists\n",
    " \n",
    "- Why does it matter what album the track is on?\n",
    "    - Most streamed album metric\n",
    "    - Did you stream the whole album in a row\n",
    "    - What percentage of the album did you stream in a day"
   ]
  },
  {
   "cell_type": "code",
   "execution_count": null,
   "id": "df048e80-3623-472a-b017-22b3a9e05635",
   "metadata": {},
   "outputs": [],
   "source": []
  },
  {
   "cell_type": "code",
   "execution_count": 98,
   "id": "98739356-c802-4669-b83d-c1878e4edfc5",
   "metadata": {},
   "outputs": [],
   "source": [
    "my_track = track('6JjSoJ2laV4ZbKNb9nybvh')"
   ]
  },
  {
   "cell_type": "code",
   "execution_count": 107,
   "id": "bbbbb51c-b188-40b6-8541-015f4dfbe75d",
   "metadata": {
    "scrolled": true
   },
   "outputs": [
    {
     "data": {
      "text/plain": [
       "{'album_type': 'single',\n",
       " 'artists': [{'external_urls': {'spotify': 'https://open.spotify.com/artist/7tm9Tuc70geXOOyKhtZHIj'},\n",
       "   'href': 'https://api.spotify.com/v1/artists/7tm9Tuc70geXOOyKhtZHIj',\n",
       "   'id': '7tm9Tuc70geXOOyKhtZHIj',\n",
       "   'name': 'Chris Lorenzo',\n",
       "   'type': 'artist',\n",
       "   'uri': 'spotify:artist:7tm9Tuc70geXOOyKhtZHIj'},\n",
       "  {'external_urls': {'spotify': 'https://open.spotify.com/artist/1AHswQqsDNmu1xaE8KpBne'},\n",
       "   'href': 'https://api.spotify.com/v1/artists/1AHswQqsDNmu1xaE8KpBne',\n",
       "   'id': '1AHswQqsDNmu1xaE8KpBne',\n",
       "   'name': 'COBRAH',\n",
       "   'type': 'artist',\n",
       "   'uri': 'spotify:artist:1AHswQqsDNmu1xaE8KpBne'}],\n",
       " 'available_markets': ['AR',\n",
       "  'AU',\n",
       "  'AT',\n",
       "  'BE',\n",
       "  'BO',\n",
       "  'BR',\n",
       "  'BG',\n",
       "  'CA',\n",
       "  'CL',\n",
       "  'CO',\n",
       "  'CR',\n",
       "  'CY',\n",
       "  'CZ',\n",
       "  'DK',\n",
       "  'DO',\n",
       "  'DE',\n",
       "  'EC',\n",
       "  'EE',\n",
       "  'SV',\n",
       "  'FI',\n",
       "  'FR',\n",
       "  'GR',\n",
       "  'GT',\n",
       "  'HN',\n",
       "  'HK',\n",
       "  'HU',\n",
       "  'IS',\n",
       "  'IE',\n",
       "  'IT',\n",
       "  'LV',\n",
       "  'LT',\n",
       "  'LU',\n",
       "  'MY',\n",
       "  'MT',\n",
       "  'MX',\n",
       "  'NL',\n",
       "  'NZ',\n",
       "  'NI',\n",
       "  'NO',\n",
       "  'PA',\n",
       "  'PY',\n",
       "  'PE',\n",
       "  'PH',\n",
       "  'PL',\n",
       "  'PT',\n",
       "  'SG',\n",
       "  'SK',\n",
       "  'ES',\n",
       "  'SE',\n",
       "  'CH',\n",
       "  'TW',\n",
       "  'TR',\n",
       "  'UY',\n",
       "  'US',\n",
       "  'GB',\n",
       "  'AD',\n",
       "  'LI',\n",
       "  'MC',\n",
       "  'ID',\n",
       "  'JP',\n",
       "  'TH',\n",
       "  'VN',\n",
       "  'RO',\n",
       "  'IL',\n",
       "  'ZA',\n",
       "  'SA',\n",
       "  'AE',\n",
       "  'BH',\n",
       "  'QA',\n",
       "  'OM',\n",
       "  'KW',\n",
       "  'EG',\n",
       "  'MA',\n",
       "  'DZ',\n",
       "  'TN',\n",
       "  'LB',\n",
       "  'JO',\n",
       "  'PS',\n",
       "  'IN',\n",
       "  'BY',\n",
       "  'KZ',\n",
       "  'MD',\n",
       "  'UA',\n",
       "  'AL',\n",
       "  'BA',\n",
       "  'HR',\n",
       "  'ME',\n",
       "  'MK',\n",
       "  'RS',\n",
       "  'SI',\n",
       "  'KR',\n",
       "  'BD',\n",
       "  'PK',\n",
       "  'LK',\n",
       "  'GH',\n",
       "  'KE',\n",
       "  'NG',\n",
       "  'TZ',\n",
       "  'UG',\n",
       "  'AG',\n",
       "  'AM',\n",
       "  'BS',\n",
       "  'BB',\n",
       "  'BZ',\n",
       "  'BT',\n",
       "  'BW',\n",
       "  'BF',\n",
       "  'CV',\n",
       "  'CW',\n",
       "  'DM',\n",
       "  'FJ',\n",
       "  'GM',\n",
       "  'GE',\n",
       "  'GD',\n",
       "  'GW',\n",
       "  'GY',\n",
       "  'HT',\n",
       "  'JM',\n",
       "  'KI',\n",
       "  'LS',\n",
       "  'LR',\n",
       "  'MW',\n",
       "  'MV',\n",
       "  'ML',\n",
       "  'MH',\n",
       "  'FM',\n",
       "  'NA',\n",
       "  'NR',\n",
       "  'NE',\n",
       "  'PW',\n",
       "  'PG',\n",
       "  'WS',\n",
       "  'SM',\n",
       "  'ST',\n",
       "  'SN',\n",
       "  'SC',\n",
       "  'SL',\n",
       "  'SB',\n",
       "  'KN',\n",
       "  'LC',\n",
       "  'VC',\n",
       "  'SR',\n",
       "  'TL',\n",
       "  'TO',\n",
       "  'TT',\n",
       "  'TV',\n",
       "  'VU',\n",
       "  'AZ',\n",
       "  'BN',\n",
       "  'BI',\n",
       "  'KH',\n",
       "  'CM',\n",
       "  'TD',\n",
       "  'KM',\n",
       "  'GQ',\n",
       "  'SZ',\n",
       "  'GA',\n",
       "  'GN',\n",
       "  'KG',\n",
       "  'LA',\n",
       "  'MO',\n",
       "  'MR',\n",
       "  'MN',\n",
       "  'NP',\n",
       "  'RW',\n",
       "  'TG',\n",
       "  'UZ',\n",
       "  'ZW',\n",
       "  'BJ',\n",
       "  'MG',\n",
       "  'MU',\n",
       "  'MZ',\n",
       "  'AO',\n",
       "  'CI',\n",
       "  'DJ',\n",
       "  'ZM',\n",
       "  'CD',\n",
       "  'CG',\n",
       "  'IQ',\n",
       "  'LY',\n",
       "  'TJ',\n",
       "  'VE',\n",
       "  'ET',\n",
       "  'XK'],\n",
       " 'copyrights': [{'text': '2022 Late Checkout', 'type': 'C'},\n",
       "  {'text': '2022 Late Checkout', 'type': 'P'}],\n",
       " 'external_ids': {'upc': '795397382883'},\n",
       " 'external_urls': {'spotify': 'https://open.spotify.com/album/6fdfCmP6hJg0gqFobszTYB'},\n",
       " 'genres': [],\n",
       " 'href': 'https://api.spotify.com/v1/albums/6fdfCmP6hJg0gqFobszTYB',\n",
       " 'id': '6fdfCmP6hJg0gqFobszTYB',\n",
       " 'images': [{'height': 640,\n",
       "   'url': 'https://i.scdn.co/image/ab67616d0000b273cf869fb170589a410a5099d1',\n",
       "   'width': 640},\n",
       "  {'height': 300,\n",
       "   'url': 'https://i.scdn.co/image/ab67616d00001e02cf869fb170589a410a5099d1',\n",
       "   'width': 300},\n",
       "  {'height': 64,\n",
       "   'url': 'https://i.scdn.co/image/ab67616d00004851cf869fb170589a410a5099d1',\n",
       "   'width': 64}],\n",
       " 'label': 'Late Checkout',\n",
       " 'name': 'MAMI',\n",
       " 'popularity': 57,\n",
       " 'release_date': '2022-07-22',\n",
       " 'release_date_precision': 'day',\n",
       " 'total_tracks': 1,\n",
       " 'tracks': {'href': 'https://api.spotify.com/v1/albums/6fdfCmP6hJg0gqFobszTYB/tracks?offset=0&limit=50',\n",
       "  'items': [{'artists': [{'external_urls': {'spotify': 'https://open.spotify.com/artist/7tm9Tuc70geXOOyKhtZHIj'},\n",
       "      'href': 'https://api.spotify.com/v1/artists/7tm9Tuc70geXOOyKhtZHIj',\n",
       "      'id': '7tm9Tuc70geXOOyKhtZHIj',\n",
       "      'name': 'Chris Lorenzo',\n",
       "      'type': 'artist',\n",
       "      'uri': 'spotify:artist:7tm9Tuc70geXOOyKhtZHIj'},\n",
       "     {'external_urls': {'spotify': 'https://open.spotify.com/artist/1AHswQqsDNmu1xaE8KpBne'},\n",
       "      'href': 'https://api.spotify.com/v1/artists/1AHswQqsDNmu1xaE8KpBne',\n",
       "      'id': '1AHswQqsDNmu1xaE8KpBne',\n",
       "      'name': 'COBRAH',\n",
       "      'type': 'artist',\n",
       "      'uri': 'spotify:artist:1AHswQqsDNmu1xaE8KpBne'}],\n",
       "    'available_markets': ['AR',\n",
       "     'AU',\n",
       "     'AT',\n",
       "     'BE',\n",
       "     'BO',\n",
       "     'BR',\n",
       "     'BG',\n",
       "     'CA',\n",
       "     'CL',\n",
       "     'CO',\n",
       "     'CR',\n",
       "     'CY',\n",
       "     'CZ',\n",
       "     'DK',\n",
       "     'DO',\n",
       "     'DE',\n",
       "     'EC',\n",
       "     'EE',\n",
       "     'SV',\n",
       "     'FI',\n",
       "     'FR',\n",
       "     'GR',\n",
       "     'GT',\n",
       "     'HN',\n",
       "     'HK',\n",
       "     'HU',\n",
       "     'IS',\n",
       "     'IE',\n",
       "     'IT',\n",
       "     'LV',\n",
       "     'LT',\n",
       "     'LU',\n",
       "     'MY',\n",
       "     'MT',\n",
       "     'MX',\n",
       "     'NL',\n",
       "     'NZ',\n",
       "     'NI',\n",
       "     'NO',\n",
       "     'PA',\n",
       "     'PY',\n",
       "     'PE',\n",
       "     'PH',\n",
       "     'PL',\n",
       "     'PT',\n",
       "     'SG',\n",
       "     'SK',\n",
       "     'ES',\n",
       "     'SE',\n",
       "     'CH',\n",
       "     'TW',\n",
       "     'TR',\n",
       "     'UY',\n",
       "     'US',\n",
       "     'GB',\n",
       "     'AD',\n",
       "     'LI',\n",
       "     'MC',\n",
       "     'ID',\n",
       "     'JP',\n",
       "     'TH',\n",
       "     'VN',\n",
       "     'RO',\n",
       "     'IL',\n",
       "     'ZA',\n",
       "     'SA',\n",
       "     'AE',\n",
       "     'BH',\n",
       "     'QA',\n",
       "     'OM',\n",
       "     'KW',\n",
       "     'EG',\n",
       "     'MA',\n",
       "     'DZ',\n",
       "     'TN',\n",
       "     'LB',\n",
       "     'JO',\n",
       "     'PS',\n",
       "     'IN',\n",
       "     'BY',\n",
       "     'KZ',\n",
       "     'MD',\n",
       "     'UA',\n",
       "     'AL',\n",
       "     'BA',\n",
       "     'HR',\n",
       "     'ME',\n",
       "     'MK',\n",
       "     'RS',\n",
       "     'SI',\n",
       "     'KR',\n",
       "     'BD',\n",
       "     'PK',\n",
       "     'LK',\n",
       "     'GH',\n",
       "     'KE',\n",
       "     'NG',\n",
       "     'TZ',\n",
       "     'UG',\n",
       "     'AG',\n",
       "     'AM',\n",
       "     'BS',\n",
       "     'BB',\n",
       "     'BZ',\n",
       "     'BT',\n",
       "     'BW',\n",
       "     'BF',\n",
       "     'CV',\n",
       "     'CW',\n",
       "     'DM',\n",
       "     'FJ',\n",
       "     'GM',\n",
       "     'GE',\n",
       "     'GD',\n",
       "     'GW',\n",
       "     'GY',\n",
       "     'HT',\n",
       "     'JM',\n",
       "     'KI',\n",
       "     'LS',\n",
       "     'LR',\n",
       "     'MW',\n",
       "     'MV',\n",
       "     'ML',\n",
       "     'MH',\n",
       "     'FM',\n",
       "     'NA',\n",
       "     'NR',\n",
       "     'NE',\n",
       "     'PW',\n",
       "     'PG',\n",
       "     'WS',\n",
       "     'SM',\n",
       "     'ST',\n",
       "     'SN',\n",
       "     'SC',\n",
       "     'SL',\n",
       "     'SB',\n",
       "     'KN',\n",
       "     'LC',\n",
       "     'VC',\n",
       "     'SR',\n",
       "     'TL',\n",
       "     'TO',\n",
       "     'TT',\n",
       "     'TV',\n",
       "     'VU',\n",
       "     'AZ',\n",
       "     'BN',\n",
       "     'BI',\n",
       "     'KH',\n",
       "     'CM',\n",
       "     'TD',\n",
       "     'KM',\n",
       "     'GQ',\n",
       "     'SZ',\n",
       "     'GA',\n",
       "     'GN',\n",
       "     'KG',\n",
       "     'LA',\n",
       "     'MO',\n",
       "     'MR',\n",
       "     'MN',\n",
       "     'NP',\n",
       "     'RW',\n",
       "     'TG',\n",
       "     'UZ',\n",
       "     'ZW',\n",
       "     'BJ',\n",
       "     'MG',\n",
       "     'MU',\n",
       "     'MZ',\n",
       "     'AO',\n",
       "     'CI',\n",
       "     'DJ',\n",
       "     'ZM',\n",
       "     'CD',\n",
       "     'CG',\n",
       "     'IQ',\n",
       "     'LY',\n",
       "     'TJ',\n",
       "     'VE',\n",
       "     'ET',\n",
       "     'XK'],\n",
       "    'disc_number': 1,\n",
       "    'duration_ms': 247896,\n",
       "    'explicit': True,\n",
       "    'external_urls': {'spotify': 'https://open.spotify.com/track/6JjSoJ2laV4ZbKNb9nybvh'},\n",
       "    'href': 'https://api.spotify.com/v1/tracks/6JjSoJ2laV4ZbKNb9nybvh',\n",
       "    'id': '6JjSoJ2laV4ZbKNb9nybvh',\n",
       "    'is_local': False,\n",
       "    'name': 'MAMI',\n",
       "    'preview_url': 'https://p.scdn.co/mp3-preview/0ef024f6bbc681e0c5c4e98f0fc3128230bb4376?cid=930c5cbd41d94bad90bbd8eacd556bc6',\n",
       "    'track_number': 1,\n",
       "    'type': 'track',\n",
       "    'uri': 'spotify:track:6JjSoJ2laV4ZbKNb9nybvh'}],\n",
       "  'limit': 50,\n",
       "  'next': None,\n",
       "  'offset': 0,\n",
       "  'previous': None,\n",
       "  'total': 1},\n",
       " 'type': 'album',\n",
       " 'uri': 'spotify:album:6fdfCmP6hJg0gqFobszTYB'}"
      ]
     },
     "execution_count": 107,
     "metadata": {},
     "output_type": "execute_result"
    }
   ],
   "source": [
    "my_track.album#['genres']"
   ]
  },
  {
   "cell_type": "code",
   "execution_count": 105,
   "id": "296dedeb-789e-4d9a-bb77-0d1cb8a9a881",
   "metadata": {},
   "outputs": [
    {
     "data": {
      "text/plain": [
       "['album_type',\n",
       " 'artists',\n",
       " 'available_markets',\n",
       " 'copyrights',\n",
       " 'external_ids',\n",
       " 'external_urls',\n",
       " 'genres',\n",
       " 'href',\n",
       " 'id',\n",
       " 'images',\n",
       " 'label',\n",
       " 'name',\n",
       " 'popularity',\n",
       " 'release_date',\n",
       " 'release_date_precision',\n",
       " 'total_tracks',\n",
       " 'tracks',\n",
       " 'type',\n",
       " 'uri']"
      ]
     },
     "execution_count": 105,
     "metadata": {},
     "output_type": "execute_result"
    }
   ],
   "source": [
    "list(my_track.album)"
   ]
  },
  {
   "cell_type": "code",
   "execution_count": 89,
   "id": "6ab319d9-4680-4f20-800d-208e0d010ea9",
   "metadata": {},
   "outputs": [
    {
     "name": "stdout",
     "output_type": "stream",
     "text": [
      "\"MAMI\" by Chris Lorenzo\n"
     ]
    }
   ],
   "source": [
    "print(my_track)"
   ]
  },
  {
   "cell_type": "code",
   "execution_count": 91,
   "id": "def6e6f7-2452-4377-bb23-35f4880f83a3",
   "metadata": {},
   "outputs": [
    {
     "data": {
      "text/plain": [
       "'track'"
      ]
     },
     "execution_count": 91,
     "metadata": {},
     "output_type": "execute_result"
    }
   ],
   "source": [
    "result['type']"
   ]
  },
  {
   "cell_type": "markdown",
   "id": "8a871957-c10b-4a40-871b-7212452cceaf",
   "metadata": {},
   "source": [
    "# Issues"
   ]
  },
  {
   "cell_type": "markdown",
   "id": "c007ff40-a980-440c-979d-820e4fdbe93e",
   "metadata": {},
   "source": [
    "Recently played isn't returning records after a milisecond time stamp, I think it works more on a 12hr basis. Probably best to call this a couple or times per day"
   ]
  },
  {
   "cell_type": "markdown",
   "id": "a30cf430-07e0-436d-abda-67d0d95472fb",
   "metadata": {
    "jp-MarkdownHeadingCollapsed": true
   },
   "source": [
    "# Archive"
   ]
  },
  {
   "cell_type": "markdown",
   "id": "bfedd6ac-c21a-48cf-9efe-e4d240b60c81",
   "metadata": {},
   "source": [
    "### get all artists from streaming history"
   ]
  },
  {
   "cell_type": "code",
   "execution_count": 94,
   "id": "44f4caf9-0f97-47d6-bc5c-8ad55e144ac3",
   "metadata": {},
   "outputs": [],
   "source": [
    "result_list = []\n",
    "iteration = 0\n",
    "start = datetime.now()\n",
    "for track in streaming_data:\n",
    "    iteration += 1\n",
    "    artist_name = track['artistName']\n",
    "    # track_name = track['trackName']\n",
    "    # end_time = track['endTime']\n",
    "    # ms_played = track['msPlayed']\n",
    "    if artist_name not in result_list:\n",
    "        result_list.append(artist_name)"
   ]
  },
  {
   "cell_type": "code",
   "execution_count": null,
   "id": "5f3aaf0d-a204-43a7-b273-33c53297a863",
   "metadata": {},
   "outputs": [],
   "source": [
    "podcasts = ['My Brother, My Brother And Me',\n",
    " 'The Empty Bowl',\n",
    " 'Marketplace',\n",
    " 'The Always Sunny Podcast',\n",
    " 'The Besties',\n",
    " 'This Is Important',\n",
    " 'SmartLess',\n",
    " 'The Journal.',\n",
    " 'Whiskey Ginger with Andrew Santino',\n",
    " 'Code Switch']"
   ]
  },
  {
   "cell_type": "markdown",
   "id": "c09ad97e-2624-47fc-bd3f-88851e0708e2",
   "metadata": {},
   "source": [
    "### Parse items old"
   ]
  },
  {
   "cell_type": "code",
   "execution_count": null,
   "id": "9b5a9a65-bb68-456e-b626-3191dcc689ac",
   "metadata": {},
   "outputs": [],
   "source": [
    "###\n",
    "# runs through the results of recently played and flattens the dictionary\n",
    "# returns a cleaned dictionary of recently played\n",
    "###\n",
    "def parse_recently_played(recently_played_item):\n",
    "    result = recently_played_item['track']\n",
    "    subset = dict((k, result[k]) for k in ('id', 'name', 'duration_ms', 'popularity', 'disc_number', 'track_number', 'explicit', 'type'))\n",
    "    subset['album_id'] = result['album']['id']\n",
    "    subset['artist_id'] = result['artists'][0]['id']\n",
    "    subset['artist_count'] = len(result['artists'])\n",
    "    subset['played_at'] = recently_played_item['played_at']\n",
    "    return subset"
   ]
  },
  {
   "cell_type": "markdown",
   "id": "730911d1-062a-488a-bb95-23363d86911b",
   "metadata": {},
   "source": [
    "### Datetime handling"
   ]
  },
  {
   "cell_type": "code",
   "execution_count": 26,
   "id": "091f3b7a-4fa0-4458-8441-1e2ec1391f18",
   "metadata": {},
   "outputs": [],
   "source": [
    "utc = datetime.strptime(current_max_played, \"%Y-%m-%dT%H:%M:%S.%fZ\")\n",
    "from_zone = tz.tzutc()\n",
    "to_zone = tz.tzlocal()\n",
    "utc = utc.replace(tzinfo=from_zone)\n",
    "local = utc.astimezone(to_zone)\n",
    "local_unix = int(time.mktime(local.timetuple())*1000)"
   ]
  },
  {
   "cell_type": "markdown",
   "id": "9768144a-9617-4398-8029-7833cb9458d2",
   "metadata": {},
   "source": [
    "### List Json File Names"
   ]
  },
  {
   "cell_type": "code",
   "execution_count": 16,
   "id": "01d5cd53-d168-49d7-a1cf-d9c11ee07374",
   "metadata": {},
   "outputs": [
    {
     "name": "stdout",
     "output_type": "stream",
     "text": [
      "['DuoNewFamily.json', 'Follow.json', 'Identifiers.json', 'Inferences.json', 'Marquee.json', 'Payments.json', 'Playlist1.json', 'Read_Me_First.pdf', 'SearchQueries.json', 'StreamingHistory0.json', 'UserAddress.json', 'Userdata.json', 'YourLibrary.json']\n"
     ]
    }
   ],
   "source": [
    "path = \"C://Users//Brian//Documents//python//spotify//MyData//\"\n",
    "dir_list = os.listdir(path)\n",
    "print(dir_list)"
   ]
  },
  {
   "cell_type": "code",
   "execution_count": 129,
   "id": "2d26bd82-54b1-440b-976c-434f11606629",
   "metadata": {
    "collapsed": true,
    "jupyter": {
     "outputs_hidden": true
    }
   },
   "outputs": [
    {
     "name": "stdout",
     "output_type": "stream",
     "text": [
      "DuoNewFamily\n",
      "Follow\n",
      "Identifiers\n",
      "Inferences\n",
      "Marquee\n",
      "Payments\n",
      "Playlist1\n",
      "Read_Me_First.pdf\n",
      "SearchQueries\n",
      "StreamingHistory0\n",
      "UserAddress\n",
      "Userdata\n",
      "YourLibrary\n"
     ]
    }
   ],
   "source": [
    "# Get the list of all files and directories\n",
    "path = \"C://Users//Brian//Documents//python//spotify//MyData//\"\n",
    "spotify_file_list = os.listdir(path)\n",
    "\n",
    "# prints all files\n",
    "for i in spotify_file_list:\n",
    "    print(i.replace('.json', ''))"
   ]
  },
  {
   "cell_type": "markdown",
   "id": "c61eb92c-ef84-4f16-91bb-ea30cd57ed86",
   "metadata": {},
   "source": [
    "### Simple Query From Spotipy Docs"
   ]
  },
  {
   "cell_type": "code",
   "execution_count": 6,
   "id": "955df9d1-116e-4356-9f84-69d73b701ae3",
   "metadata": {
    "collapsed": true,
    "jupyter": {
     "outputs_hidden": true
    }
   },
   "outputs": [
    {
     "name": "stdout",
     "output_type": "stream",
     "text": [
      "0 Slothrust  –  Pony\n",
      "1 The Steeldrivers  –  East Kentucky Home\n",
      "2 Norman Greenbaum  –  Spirit in the Sky\n",
      "3 Redbone  –  Come and Get Your Love (Rerecorded Version)\n",
      "4 Blue Swede  –  Hooked On A Feeling\n",
      "5 Rupert Holmes  –  Escape (The Pina Colada Song)\n",
      "6 Plague Vendor  –  Ox Blood\n",
      "7 Art Tatum  –  Blue Skies\n",
      "8 The Dillards  –  Dooley\n",
      "9 Matroda  –  Gimme Some Keys\n",
      "10 FJAAK  –  Plan of Escape\n",
      "11 Chris Lorenzo  –  MAMI\n",
      "12 Dreamville  –  Ma Boy\n",
      "13 Ethereal  –  Beef\n",
      "14 Freddie Gibbs  –  Couldn’t Be Done (feat. Kelly Price)\n",
      "15 Quindon Tarver  –  Everybody's Free (To Wear Sunscreen)\n",
      "16 Freddie Gibbs  –  Something to Rap About (feat. Tyler, The Creator)\n",
      "17 Freddie Gibbs  –  Dark Hearted\n",
      "18 Freddie Gibbs  –  PYS (feat. DJ Paul)\n",
      "19 Freddie Gibbs  –  Feel No Pain (feat. Anderson .Paak & Raekwon)\n"
     ]
    }
   ],
   "source": [
    "scope = \"user-library-read\"\n",
    "\n",
    "results = sp.current_user_saved_tracks()\n",
    "for idx, item in enumerate(results['items']):\n",
    "    track = item['track']\n",
    "    print(idx, track['artists'][0]['name'], \" – \", track['name'])"
   ]
  },
  {
   "cell_type": "markdown",
   "id": "63ccdf73-319c-4d1a-ba8e-67347b4be2ba",
   "metadata": {},
   "source": [
    "### Playlist Info"
   ]
  },
  {
   "cell_type": "code",
   "execution_count": null,
   "id": "168b8f4f-99f9-402e-a01f-9cadeda67b08",
   "metadata": {},
   "outputs": [],
   "source": [
    "# print information about playlist names and IDs\n",
    "# print(print_playlist_names(user_id))\n",
    "\n",
    "def print_playlist_names(user_id):\n",
    "    playlists = sp.user_playlists(user_id)\n",
    "    while playlists:\n",
    "        for i, playlist in enumerate(playlists['items']):\n",
    "            print(\"%4d %s %s\" % (i + 1 + playlists['offset'], playlist['uri'],  playlist['name']))\n",
    "        if playlists['next']:\n",
    "            playlists = sp.next(playlists)\n",
    "        else:\n",
    "            playlists = None\n",
    "        \n",
    "\n",
    "\n",
    "# Read JSON File Version\n",
    "\n",
    "def get_playlist_data_old():\n",
    "    playlist_data = get_json_from_file('Playlist1')['playlists']\n",
    "    print('Number of playlists: {}'.format(len(playlist_data)))\n",
    "    print('')\n",
    "    print('List Playlist Names:')\n",
    "    list_index = 0\n",
    "    for i in playlist_data:\n",
    "        print(i['name'],'index:',list_index)\n",
    "        list_index += 1\n",
    "    return playlist_data"
   ]
  },
  {
   "cell_type": "code",
   "execution_count": 111,
   "id": "521ae6fa-4f8f-4a08-bc62-9d25a2c15789",
   "metadata": {
    "scrolled": true
   },
   "outputs": [
    {
     "name": "stdout",
     "output_type": "stream",
     "text": [
      "Number of playlists: 42\n",
      "\n",
      "List Playlist Names:\n",
      "My recommendation playlist index: 0\n",
      "Happy Birthday Mama! index: 1\n",
      "Liked em index: 2\n",
      "Listen List index: 3\n",
      "Love songs index: 4\n",
      "Karaoke Mix index: 5\n",
      "Wedding index: 6\n",
      "Dancing index: 7\n",
      "Bacci Boys index: 8\n",
      "Chilll index: 9\n",
      "Summah index: 10\n",
      "Funky index: 11\n",
      "Random New index: 12\n",
      "eclectric index: 13\n",
      "Persian index: 14\n",
      "Easy Listening index: 15\n",
      "For My Love index: 16\n",
      "nothiing index: 17\n",
      "My Shazam Tracks index: 18\n",
      "Pity Party index: 19\n",
      "nate index: 20\n",
      "you no index: 21\n",
      "scRAP it index: 22\n",
      "\"Psychadelic\" \"Rock\" index: 23\n",
      "Pure Reggae Starbucks CD index: 24\n",
      "Afro Cuban index: 25\n",
      "FUN index: 26\n",
      "Nold Scholl index: 27\n",
      "House jammz index: 28\n",
      "Glitch Hop index: 29\n",
      "Yum Yum index: 30\n",
      "Instrumentals index: 31\n",
      "Ween index: 32\n",
      "Folk index: 33\n",
      "Jazz New index: 34\n",
      "Rock Hard index: 35\n",
      "Random discovered liked index: 36\n",
      "Rock \"Classics\" index: 37\n",
      "Lean on me index: 38\n",
      "Rippitty Rap index: 39\n",
      "Stoopid index: 40\n",
      "Jazz Classic index: 41\n"
     ]
    },
    {
     "data": {
      "text/plain": [
       "{'name': 'Liked em',\n",
       " 'lastModifiedDate': '2023-03-08',\n",
       " 'items': [{'track': {'trackName': '151 Rum',\n",
       "    'artistName': 'JID',\n",
       "    'albumName': 'DiCaprio 2',\n",
       "    'trackUri': 'spotify:track:22WV03i2lBbwNVCE1g671p'},\n",
       "   'episode': None,\n",
       "   'localTrack': None,\n",
       "   'addedDate': '2023-02-07'},\n",
       "  {'track': {'trackName': 'Two Tens (feat. Anderson .Paak)',\n",
       "    'artistName': 'Cordae',\n",
       "    'albumName': 'Two Tens (feat. Anderson .Paak)',\n",
       "    'trackUri': 'spotify:track:6clDsO8HwhHEgJDDp88VdL'},\n",
       "   'episode': None,\n",
       "   'localTrack': None,\n",
       "   'addedDate': '2023-02-07'},\n",
       "  {'track': {'trackName': 'Ma Boy',\n",
       "    'artistName': 'Dreamville',\n",
       "    'albumName': 'Ma Boy',\n",
       "    'trackUri': 'spotify:track:1kn9JsBWIw6qREhDWw0lKb'},\n",
       "   'episode': None,\n",
       "   'localTrack': None,\n",
       "   'addedDate': '2023-02-07'},\n",
       "  {'track': {'trackName': 'Eyes in the Back of My Head',\n",
       "    'artistName': 'Katori Walker',\n",
       "    'albumName': 'Eyes in the Back of My Head',\n",
       "    'trackUri': 'spotify:track:5MrtQggewKtfSzs4akoaD2'},\n",
       "   'episode': None,\n",
       "   'localTrack': None,\n",
       "   'addedDate': '2023-02-07'},\n",
       "  {'track': {'trackName': 'Chucks (feat. Channel Tres)',\n",
       "    'artistName': 'Terrace Martin',\n",
       "    'albumName': 'Chucks (feat. Channel Tres)',\n",
       "    'trackUri': 'spotify:track:3VnDDruJDou1AIVjloQBzh'},\n",
       "   'episode': None,\n",
       "   'localTrack': None,\n",
       "   'addedDate': '2023-02-07'},\n",
       "  {'track': {'trackName': '42 Hundred Choices',\n",
       "    'artistName': 'IDK',\n",
       "    'albumName': 'Is He Real?',\n",
       "    'trackUri': 'spotify:track:5yl7WSp3mot0nepMQvfVi3'},\n",
       "   'episode': None,\n",
       "   'localTrack': None,\n",
       "   'addedDate': '2023-02-08'},\n",
       "  {'track': {'trackName': 'WATERBOYZ (with JID & J. Cole)',\n",
       "    'artistName': 'EARTHGANG',\n",
       "    'albumName': 'GHETTO GODS',\n",
       "    'trackUri': 'spotify:track:1KyXCd04yHni5pMGFwgzuE'},\n",
       "   'episode': None,\n",
       "   'localTrack': None,\n",
       "   'addedDate': '2023-02-08'},\n",
       "  {'track': {'trackName': 'Overdose 2X (feat. 2 Chainz & Nardo Wick)',\n",
       "    'artistName': 'Finesse2tymes',\n",
       "    'albumName': '90 Days Later',\n",
       "    'trackUri': 'spotify:track:5EjkNhYIMegODS5jYYmRGK'},\n",
       "   'episode': None,\n",
       "   'localTrack': None,\n",
       "   'addedDate': '2023-03-05'},\n",
       "  {'track': {'trackName': 'Neighbors Know My Name',\n",
       "    'artistName': '2 Chainz',\n",
       "    'albumName': \"Dope Don't Sell Itself\",\n",
       "    'trackUri': 'spotify:track:4H9pCqPKc11WCbfILZSYTt'},\n",
       "   'episode': None,\n",
       "   'localTrack': None,\n",
       "   'addedDate': '2023-03-05'},\n",
       "  {'track': {'trackName': 'Surround Sound (feat. 21 Savage & Baby Tate)',\n",
       "    'artistName': 'JID',\n",
       "    'albumName': 'The Forever Story',\n",
       "    'trackUri': 'spotify:track:1udwFobQ1JoOdWPQrp2b6u'},\n",
       "   'episode': None,\n",
       "   'localTrack': None,\n",
       "   'addedDate': '2023-03-08'}],\n",
       " 'description': None,\n",
       " 'numberOfFollowers': 0}"
      ]
     },
     "execution_count": 111,
     "metadata": {},
     "output_type": "execute_result"
    }
   ],
   "source": [
    "playlists_data = get_playlist_data()\n",
    "\n",
    "playlists_data[2]"
   ]
  },
  {
   "cell_type": "markdown",
   "id": "5c4e3dc9-0c08-420b-881d-e12bce663598",
   "metadata": {},
   "source": [
    "### Crap"
   ]
  },
  {
   "cell_type": "code",
   "execution_count": 5,
   "id": "cdecc62d-d08d-4aba-8664-e1ff7432d0cb",
   "metadata": {},
   "outputs": [
    {
     "data": {
      "text/plain": [
       "(1697629141000,\n",
       " datetime.datetime(2023, 10, 18, 7, 39, 1, 795000, tzinfo=tzlocal()))"
      ]
     },
     "execution_count": 5,
     "metadata": {},
     "output_type": "execute_result"
    }
   ],
   "source": [
    "get_most_recent_timestamp()"
   ]
  },
  {
   "cell_type": "code",
   "execution_count": 66,
   "id": "7e7da71a-db90-4dda-8c77-9c5bc8ad0864",
   "metadata": {},
   "outputs": [
    {
     "name": "stdout",
     "output_type": "stream",
     "text": [
      "BASIC ARTIST DATA\n",
      "{'id': '1J6XFH9yaFImOmbaAWAx48', 'name': 'R. Guru', 'genres': ['rain'], 'popularity': 53, 'followers': 460}\n",
      "-----------------------------\n",
      "BASIC TRACK DATA\n",
      "{'id': '7D5gkUVhkLbe5e8qG1NqcZ', 'name': 'Brighter', 'duration_ms': 281084, 'popularity': 60, 'disc_number': 1, 'track_number': 1, 'explicit': False, 'type': 'track', 'album_id': '4EAehCii5lZgeewct1LA5p', 'artist_id': '5Pb27ujIyYb33zBqVysBkj', 'artist_count': 1}\n",
      "-----------------------------\n",
      "BASIC ALBUM DATA\n",
      "{'id': '4EAehCii5lZgeewct1LA5p', 'name': 'Bloom', 'album_type': 'album', 'release_date': '2016-01-22', 'release_date_precision': 'day', 'popularity': 74, 'total_tracks': 11, 'genres': [], 'label': 'Sweat It Out', 'type': 'album'}\n"
     ]
    }
   ],
   "source": [
    "print('BASIC ARTIST DATA')    \n",
    "print(get_artist_data('1J6XFH9yaFImOmbaAWAx48'))\n",
    "print('-----------------------------')\n",
    "print('BASIC TRACK DATA')\n",
    "print(get_track_data('7D5gkUVhkLbe5e8qG1NqcZ'))\n",
    "print('-----------------------------')\n",
    "print('BASIC ALBUM DATA')\n",
    "print(get_album_data('4EAehCii5lZgeewct1LA5p'))"
   ]
  }
 ],
 "metadata": {
  "kernelspec": {
   "display_name": "Python 3 (ipykernel)",
   "language": "python",
   "name": "python3"
  },
  "language_info": {
   "codemirror_mode": {
    "name": "ipython",
    "version": 3
   },
   "file_extension": ".py",
   "mimetype": "text/x-python",
   "name": "python",
   "nbconvert_exporter": "python",
   "pygments_lexer": "ipython3",
   "version": "3.11.5"
  }
 },
 "nbformat": 4,
 "nbformat_minor": 5
}
