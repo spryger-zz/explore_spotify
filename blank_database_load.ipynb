{
 "cells": [
  {
   "cell_type": "markdown",
   "id": "04983387-3d3a-4c3c-84ce-4df7985a8f81",
   "metadata": {},
   "source": [
    "# Populate Blank Database with Historical Records"
   ]
  },
  {
   "cell_type": "code",
   "execution_count": 12,
   "id": "ac3350bc-2977-4536-8c93-1349e39046ca",
   "metadata": {},
   "outputs": [],
   "source": [
    "import psycopg2 \n",
    "import numpy as np \n",
    "import psycopg2.extras as extras \n",
    "import pandas as pd \n",
    "from getpass import getpass"
   ]
  },
  {
   "cell_type": "code",
   "execution_count": null,
   "id": "9f96b0a2-5a42-4bb2-be4e-82274e79f678",
   "metadata": {},
   "outputs": [],
   "source": [
    "password = getpass()"
   ]
  },
  {
   "cell_type": "code",
   "execution_count": 22,
   "id": "d9d6c23c-4d3e-4835-8208-3d6e03aa8a4d",
   "metadata": {},
   "outputs": [],
   "source": [
    "conn = psycopg2.connect(database = \"music_hub\",\n",
    "                        user = \"postgres\",\n",
    "                        password = password,\n",
    "                        host = \"localhost\",\n",
    "                        port = \"5432\")"
   ]
  },
  {
   "cell_type": "code",
   "execution_count": 23,
   "id": "201b8c6a-515d-4aef-858d-938544bf1ab7",
   "metadata": {},
   "outputs": [],
   "source": [
    "def execute_values(conn, df, table): \n",
    "  \n",
    "    tuples = [tuple(x) for x in df.to_numpy()] \n",
    "  \n",
    "    cols = ','.join(list(df.columns)) \n",
    "    # SQL query to execute \n",
    "    query = \"INSERT INTO %s(%s) VALUES %%s\" % (table, cols) \n",
    "    cursor = conn.cursor() \n",
    "    try: \n",
    "        extras.execute_values(cursor, query, tuples) \n",
    "        conn.commit() \n",
    "    except (Exception, psycopg2.DatabaseError) as error: \n",
    "        print(\"Error: %s\" % error) \n",
    "        conn.rollback() \n",
    "        cursor.close() \n",
    "        return 1\n",
    "    print(\"the dataframe is inserted\") \n",
    "    cursor.close() "
   ]
  },
  {
   "cell_type": "code",
   "execution_count": 45,
   "id": "56cc9792-553a-416e-a22f-be2c5e757853",
   "metadata": {},
   "outputs": [],
   "source": [
    "streams = pd.read_csv('data_tables/csv/streams.csv')\n",
    "tracks = pd.read_csv('data_tables/csv/tracks.csv')\n",
    "albums = pd.read_csv('data_tables/csv/albums.csv')\n",
    "artists = pd.read_csv('data_tables/csv/artists.csv')\n",
    "\n",
    "albums.rename(columns={\"label\": \"album_label\"},inplace=True)\n",
    "albums.drop(columns=['genres', 'type', 'release_date', 'release_date_precision'],inplace=True)\n",
    "\n",
    "streams.rename(columns={\"id\": \"track_id\", 'name': 'track_name'},inplace=True)\n",
    "streams.drop(columns=['album_id', 'artist_id'],inplace=True)"
   ]
  },
  {
   "cell_type": "code",
   "execution_count": 26,
   "id": "89190fff-9e47-4dda-8c8e-fc991535b361",
   "metadata": {},
   "outputs": [
    {
     "name": "stdout",
     "output_type": "stream",
     "text": [
      "the dataframe is inserted\n"
     ]
    }
   ],
   "source": [
    "execute_values(conn, artists, 'artists')"
   ]
  },
  {
   "cell_type": "code",
   "execution_count": 47,
   "id": "b8571a55-2b5a-46c0-a679-66907fec4703",
   "metadata": {},
   "outputs": [
    {
     "name": "stdout",
     "output_type": "stream",
     "text": [
      "the dataframe is inserted\n"
     ]
    }
   ],
   "source": [
    "execute_values(conn, albums, 'albums')"
   ]
  },
  {
   "cell_type": "code",
   "execution_count": 49,
   "id": "0daf877e-5de0-4448-ba72-be230cd06d99",
   "metadata": {},
   "outputs": [
    {
     "name": "stdout",
     "output_type": "stream",
     "text": [
      "the dataframe is inserted\n"
     ]
    }
   ],
   "source": [
    "execute_values(conn, tracks, 'tracks')"
   ]
  },
  {
   "cell_type": "code",
   "execution_count": 53,
   "id": "8b33ae2b-ea9b-4db0-aa6d-b77cc7bc8752",
   "metadata": {},
   "outputs": [
    {
     "name": "stdout",
     "output_type": "stream",
     "text": [
      "the dataframe is inserted\n"
     ]
    }
   ],
   "source": [
    "execute_values(conn, streams, 'streams')"
   ]
  }
 ],
 "metadata": {
  "kernelspec": {
   "display_name": "Python 3 (ipykernel)",
   "language": "python",
   "name": "python3"
  },
  "language_info": {
   "codemirror_mode": {
    "name": "ipython",
    "version": 3
   },
   "file_extension": ".py",
   "mimetype": "text/x-python",
   "name": "python",
   "nbconvert_exporter": "python",
   "pygments_lexer": "ipython3",
   "version": "3.11.5"
  }
 },
 "nbformat": 4,
 "nbformat_minor": 5
}
