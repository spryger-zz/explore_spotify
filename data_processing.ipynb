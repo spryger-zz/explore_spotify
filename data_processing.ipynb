{
 "cells": [
  {
   "cell_type": "markdown",
   "id": "e595d4b2-c3d6-4e10-983f-ee8eb6058a91",
   "metadata": {},
   "source": [
    "# Possible Endpoints\n",
    "- audio-features\n",
    "- artists\n",
    "- albums\n",
    "- tracks"
   ]
  },
  {
   "cell_type": "code",
   "execution_count": 1,
   "id": "ea25ecb7-d939-45ee-9f91-d268adc39d5c",
   "metadata": {},
   "outputs": [],
   "source": [
    "#System\n",
    "import os\n",
    "import json\n",
    "import zipfile\n",
    "#API\n",
    "import requests\n",
    "#Data Processing\n",
    "from datetime import date, datetime\n",
    "import pandas as pd\n",
    "import numpy as np\n",
    "import math\n",
    "#SQL\n",
    "import psycopg2\n",
    "import psycopg2.extras as extras \n",
    "#Security\n",
    "from getpass import getpass"
   ]
  },
  {
   "cell_type": "code",
   "execution_count": 2,
   "id": "5c63b697-0af4-495c-b208-28e606a0f583",
   "metadata": {},
   "outputs": [],
   "source": [
    "class SpotifyTerminal:\n",
    "    def __init__(self):\n",
    "        AUTH_URL = 'https://accounts.spotify.com/api/token'\n",
    "        \n",
    "        # POST\n",
    "        auth_response = requests.post(AUTH_URL, {\n",
    "            'grant_type': 'client_credentials',\n",
    "            'client_id': os.getenv('SPOTIPY_CLIENT_ID'),\n",
    "            'client_secret': os.getenv('SPOTIPY_CLIENT_SECRET'),\n",
    "        })\n",
    "        \n",
    "        # convert the response to JSON\n",
    "        auth_response_data = auth_response.json()\n",
    "        \n",
    "        # save the access token\n",
    "        access_token = auth_response_data['access_token']\n",
    "        \n",
    "        self.headers = {\n",
    "            'Authorization': 'Bearer {token}'.format(token=access_token)\n",
    "        }\n",
    "        self.init_timestamp = datetime.now().strftime(\"%Y%m%d_%H_%M_%S\")\n",
    "        self.BASE_URL = 'https://api.spotify.com/v1/'\n",
    "\n",
    "    def __repr__(self):\n",
    "        return 'initialized at: {}'.format(self.init_timestamp)\n",
    "\n",
    "    def call_api_id(self, id, endpoint):\n",
    "        # turn a list of IDs into a string for the API\n",
    "        if type(id) == list:\n",
    "            id = '?ids='+'%2C'.join(id)\n",
    "        else:\n",
    "            id = '/' + id\n",
    "            \n",
    "        # actual GET request with proper header\n",
    "        r = requests.get(self.BASE_URL + endpoint + id, headers=self.headers)\n",
    "        # r.status_code\n",
    "        return r\n",
    "\n",
    "    def call_api_search(self, track_name, artist_name):\n",
    "        track_name_formatted = track_name.replace(' ', '%20')\n",
    "        artist_name_formatted = artist_name.replace(' ', '%20')\n",
    "        endpoint = 'search?q=track%3A{}%20artist%3A{}&type=track&limit=1'.format(track_name_formatted, artist_name_formatted)\n",
    "        print(self.BASE_URL + endpoint)\n",
    "        # actual GET request with proper header\n",
    "        r = requests.get(self.BASE_URL + endpoint, headers=self.headers)\n",
    "        # r.status_code\n",
    "        return r\n",
    "\n",
    "\n",
    "# opens json files provided by spotify data retreival\n",
    "def get_json_from_file(json_file):\n",
    "    f = open(json_file, encoding=\"utf8\")\n",
    "    data = json.load(f)\n",
    "    f.close()\n",
    "    return data"
   ]
  },
  {
   "cell_type": "markdown",
   "id": "a92572cf-b16d-4e68-a80c-b7da40c4f8f1",
   "metadata": {},
   "source": [
    "# SQL"
   ]
  },
  {
   "cell_type": "code",
   "execution_count": 3,
   "id": "1954db0d-bfce-4c32-8cf6-bd2773d2d76f",
   "metadata": {},
   "outputs": [],
   "source": [
    "class DatabaseTerminal:\n",
    "    def __init__(self):\n",
    "        self.password = getpass()\n",
    "        \n",
    "    def open(self):\n",
    "        self.conn = psycopg2.connect(database = \"melodybox_db\",\n",
    "                                user = \"badmin\",\n",
    "                                password = self.password,\n",
    "                                host = \"melodybox.c920sk60g6ei.us-east-2.rds.amazonaws.com\",\n",
    "                                port = \"5432\")\n",
    "        # self.conn = psycopg2.connect(database = \"music_hub\",\n",
    "        #                         user = \"postgres\",\n",
    "        #                         password = self.password,\n",
    "        #                         host = \"localhost\",\n",
    "        #                         port = \"5432\")\n",
    "\n",
    "    def close(self):\n",
    "        self.conn.close()\n",
    "  \n",
    "    def query(self, query):\n",
    "        # Returns a dataframe of the query result\n",
    "        cursor = self.conn.cursor() \n",
    "        df_query_result = 0\n",
    "        try:\n",
    "            cursor.execute(query)\n",
    "            query_result = cursor.fetchall()\n",
    "            col_names = [desc[0] for desc in cursor.description]\n",
    "            df_query_result = pd.DataFrame(data=query_result, columns=col_names)\n",
    "        except (Exception, psycopg2.DatabaseError) as error: \n",
    "            print(\"Error: %s\" % error) \n",
    "            cursor.close() \n",
    "        cursor.close()\n",
    "        return df_query_result\n",
    "        \n",
    "    def execute_values(self, df, table): \n",
    "        # Prep Data\n",
    "        tuples = [tuple(x) for x in df.to_numpy()] \n",
    "        cols = ','.join(list(df.columns)) \n",
    "        # SQL query to execute \n",
    "        query = \"INSERT INTO %s(%s) VALUES %%s\" % (table, cols) \n",
    "        cursor = self.conn.cursor() \n",
    "        # Execute\n",
    "        try: \n",
    "            extras.execute_values(cursor, query, tuples) \n",
    "            self.conn.commit() \n",
    "        except (Exception, psycopg2.DatabaseError) as error: \n",
    "            print(\"Error: %s\" % error) \n",
    "            self.conn.rollback() \n",
    "            cursor.close() \n",
    "            return 1\n",
    "        print(\"the dataframe is inserted\") \n",
    "        cursor.close()\n",
    "    \n",
    "        "
   ]
  },
  {
   "cell_type": "code",
   "execution_count": null,
   "id": "3aced3ef-0cae-43b1-aac0-9f315dbde162",
   "metadata": {},
   "outputs": [],
   "source": [
    "#abandoned for now\n",
    "class StreamHistory:\n",
    "    def __init__(self, zip_file_name):\n",
    "        self.zip_file_name = zip_file_name\n",
    "        with zipfile.ZipFile(self.zip_file_name, \"r\") as myzip:\n",
    "            for filename in myzip.namelist():\n",
    "                if 'Streaming_History_Audio' in filename:\n",
    "                    with myzip.open(filename) as f: \n",
    "                        data = f.read()\n",
    "                        d = json.loads(data)\n",
    "                        streaming_data_raw.extend(d)\n",
    "                elif 'StreamingHistory_music' in filename:\n",
    "        df_streams = pd.DataFrame(streaming_data_raw)"
   ]
  },
  {
   "cell_type": "markdown",
   "id": "99ca1791-841a-4808-b2fc-0087f478a6a2",
   "metadata": {
    "jp-MarkdownHeadingCollapsed": true
   },
   "source": [
    "# Get Streaming History"
   ]
  },
  {
   "cell_type": "markdown",
   "id": "6a775224-06bb-43dc-b00a-c0ad182f9a04",
   "metadata": {
    "jp-MarkdownHeadingCollapsed": true
   },
   "source": [
    "### EXTENDED - STREAMS"
   ]
  },
  {
   "cell_type": "code",
   "execution_count": 13,
   "id": "7708f983-703b-4a0f-9b99-881101692a11",
   "metadata": {},
   "outputs": [
    {
     "name": "stdout",
     "output_type": "stream",
     "text": [
      "Number of streams: 80280\n"
     ]
    }
   ],
   "source": [
    "# Location\n",
    "zip_name = 'DATA_DUMP/extended_history_2024-01-19.zip'\n",
    "\n",
    "# Open and append streaming audio hisotry \n",
    "streaming_data_raw = []\n",
    "with zipfile.ZipFile(zip_name, \"r\") as myzip:\n",
    "    for filename in myzip.namelist():\n",
    "        if 'Streaming_History_Audio' in filename:\n",
    "            with myzip.open(filename) as f: \n",
    "                data = f.read()\n",
    "                d = json.loads(data)\n",
    "                streaming_data_raw.extend(d)\n",
    "df_streams = pd.DataFrame(streaming_data_raw)\n",
    "\n",
    "# Create a DataFrame for tracks and streams\n",
    "\n",
    "df_streams['all_uri'] = np.where(df_streams[\"spotify_track_uri\"].isnull(), df_streams[\"spotify_episode_uri\"], df_streams[\"spotify_track_uri\"] )\n",
    "df_streams['track_name'] = np.where(df_streams[\"master_metadata_track_name\"].isnull(), df_streams[\"episode_name\"], df_streams[\"master_metadata_track_name\"] )\n",
    "df_streams['type'] = np.where(df_streams[\"master_metadata_track_name\"].isnull(), 'episode', 'track' )\n",
    "df_streams = df_streams[df_streams['all_uri'].notnull()]\n",
    "df_streams['track_id'] = df_streams.apply(lambda row: row.all_uri[-22:], axis=1)\n",
    "stream_column_rename = {'master_metadata_album_artist_name':'artist_name', \n",
    "                        'master_metadata_album_album_name':'album_name',\n",
    "                        'ms_played':'duration_ms',\n",
    "                        'ts':'played_at'\n",
    "                        }\n",
    "\n",
    "df_streams.rename(columns=stream_column_rename,inplace=True)\n",
    "df_streams['data_source'] = 'extended_history'\n",
    "df_streams = df_streams[[\n",
    "    'track_id',\n",
    "    'track_name',\n",
    "    'artist_name',\n",
    "    'album_name',\n",
    "    'type',\n",
    "    'duration_ms',\n",
    "    'played_at',\n",
    "    'reason_start',\n",
    "    'reason_end',\n",
    "    'shuffle',\n",
    "    'skipped',\n",
    "    'username',\n",
    "    'data_source'\n",
    "           ]]\n",
    "\n",
    "print('Number of streams: {}'.format(len(df_streams)))"
   ]
  },
  {
   "cell_type": "code",
   "execution_count": 14,
   "id": "82582bb9-6a10-4e53-953a-ca63e11ebf6c",
   "metadata": {},
   "outputs": [
    {
     "data": {
      "text/html": [
       "<div>\n",
       "<style scoped>\n",
       "    .dataframe tbody tr th:only-of-type {\n",
       "        vertical-align: middle;\n",
       "    }\n",
       "\n",
       "    .dataframe tbody tr th {\n",
       "        vertical-align: top;\n",
       "    }\n",
       "\n",
       "    .dataframe thead th {\n",
       "        text-align: right;\n",
       "    }\n",
       "</style>\n",
       "<table border=\"1\" class=\"dataframe\">\n",
       "  <thead>\n",
       "    <tr style=\"text-align: right;\">\n",
       "      <th></th>\n",
       "      <th>track_id</th>\n",
       "      <th>track_name</th>\n",
       "      <th>artist_name</th>\n",
       "      <th>album_name</th>\n",
       "      <th>type</th>\n",
       "      <th>duration_ms</th>\n",
       "      <th>played_at</th>\n",
       "      <th>reason_start</th>\n",
       "      <th>reason_end</th>\n",
       "      <th>shuffle</th>\n",
       "      <th>skipped</th>\n",
       "      <th>username</th>\n",
       "      <th>data_source</th>\n",
       "    </tr>\n",
       "  </thead>\n",
       "  <tbody>\n",
       "    <tr>\n",
       "      <th>0</th>\n",
       "      <td>7H6ev70Weq6DdpZyyTmUXk</td>\n",
       "      <td>Say My Name</td>\n",
       "      <td>Destiny's Child</td>\n",
       "      <td>The Writing's On The Wall</td>\n",
       "      <td>track</td>\n",
       "      <td>271256</td>\n",
       "      <td>2016-03-24T21:22:44Z</td>\n",
       "      <td>clickrow</td>\n",
       "      <td>trackdone</td>\n",
       "      <td>False</td>\n",
       "      <td>None</td>\n",
       "      <td>brian.cross741</td>\n",
       "      <td>extended_history</td>\n",
       "    </tr>\n",
       "    <tr>\n",
       "      <th>1</th>\n",
       "      <td>6Iblet1QGgY8TLPZ7GxFPZ</td>\n",
       "      <td>Summertime</td>\n",
       "      <td>DJ Jazzy Jeff &amp; The Fresh Prince</td>\n",
       "      <td>Greatest Hits</td>\n",
       "      <td>track</td>\n",
       "      <td>271907</td>\n",
       "      <td>2016-03-24T21:39:22Z</td>\n",
       "      <td>trackdone</td>\n",
       "      <td>trackdone</td>\n",
       "      <td>False</td>\n",
       "      <td>None</td>\n",
       "      <td>brian.cross741</td>\n",
       "      <td>extended_history</td>\n",
       "    </tr>\n",
       "    <tr>\n",
       "      <th>2</th>\n",
       "      <td>503OTo2dSqe7qk76rgsbep</td>\n",
       "      <td>Still D.R.E.</td>\n",
       "      <td>Dr. Dre</td>\n",
       "      <td>2001</td>\n",
       "      <td>track</td>\n",
       "      <td>136464</td>\n",
       "      <td>2016-03-24T22:03:21Z</td>\n",
       "      <td>trackdone</td>\n",
       "      <td>unexpected-exit-while-paused</td>\n",
       "      <td>False</td>\n",
       "      <td>None</td>\n",
       "      <td>brian.cross741</td>\n",
       "      <td>extended_history</td>\n",
       "    </tr>\n",
       "    <tr>\n",
       "      <th>3</th>\n",
       "      <td>503OTo2dSqe7qk76rgsbep</td>\n",
       "      <td>Still D.R.E.</td>\n",
       "      <td>Dr. Dre</td>\n",
       "      <td>2001</td>\n",
       "      <td>track</td>\n",
       "      <td>134049</td>\n",
       "      <td>2016-03-24T22:05:37Z</td>\n",
       "      <td>appload</td>\n",
       "      <td>trackdone</td>\n",
       "      <td>True</td>\n",
       "      <td>None</td>\n",
       "      <td>brian.cross741</td>\n",
       "      <td>extended_history</td>\n",
       "    </tr>\n",
       "    <tr>\n",
       "      <th>4</th>\n",
       "      <td>6uQKuonTU8VKBz5SHZuQXD</td>\n",
       "      <td>This Is How We Do It</td>\n",
       "      <td>Montell Jordan</td>\n",
       "      <td>This Is How We Do It</td>\n",
       "      <td>track</td>\n",
       "      <td>146004</td>\n",
       "      <td>2016-03-25T12:38:33Z</td>\n",
       "      <td>trackdone</td>\n",
       "      <td>unexpected-exit-while-paused</td>\n",
       "      <td>True</td>\n",
       "      <td>None</td>\n",
       "      <td>brian.cross741</td>\n",
       "      <td>extended_history</td>\n",
       "    </tr>\n",
       "  </tbody>\n",
       "</table>\n",
       "</div>"
      ],
      "text/plain": [
       "                 track_id            track_name  \\\n",
       "0  7H6ev70Weq6DdpZyyTmUXk           Say My Name   \n",
       "1  6Iblet1QGgY8TLPZ7GxFPZ            Summertime   \n",
       "2  503OTo2dSqe7qk76rgsbep          Still D.R.E.   \n",
       "3  503OTo2dSqe7qk76rgsbep          Still D.R.E.   \n",
       "4  6uQKuonTU8VKBz5SHZuQXD  This Is How We Do It   \n",
       "\n",
       "                        artist_name                 album_name   type  \\\n",
       "0                   Destiny's Child  The Writing's On The Wall  track   \n",
       "1  DJ Jazzy Jeff & The Fresh Prince              Greatest Hits  track   \n",
       "2                           Dr. Dre                       2001  track   \n",
       "3                           Dr. Dre                       2001  track   \n",
       "4                    Montell Jordan       This Is How We Do It  track   \n",
       "\n",
       "   duration_ms             played_at reason_start  \\\n",
       "0       271256  2016-03-24T21:22:44Z     clickrow   \n",
       "1       271907  2016-03-24T21:39:22Z    trackdone   \n",
       "2       136464  2016-03-24T22:03:21Z    trackdone   \n",
       "3       134049  2016-03-24T22:05:37Z      appload   \n",
       "4       146004  2016-03-25T12:38:33Z    trackdone   \n",
       "\n",
       "                     reason_end  shuffle skipped        username  \\\n",
       "0                     trackdone    False    None  brian.cross741   \n",
       "1                     trackdone    False    None  brian.cross741   \n",
       "2  unexpected-exit-while-paused    False    None  brian.cross741   \n",
       "3                     trackdone     True    None  brian.cross741   \n",
       "4  unexpected-exit-while-paused     True    None  brian.cross741   \n",
       "\n",
       "        data_source  \n",
       "0  extended_history  \n",
       "1  extended_history  \n",
       "2  extended_history  \n",
       "3  extended_history  \n",
       "4  extended_history  "
      ]
     },
     "execution_count": 14,
     "metadata": {},
     "output_type": "execute_result"
    }
   ],
   "source": [
    "df_streams.head()"
   ]
  },
  {
   "cell_type": "markdown",
   "id": "343af736-db51-4259-a4ed-bc831c4b89a2",
   "metadata": {},
   "source": [
    "### Original - Account Data"
   ]
  },
  {
   "cell_type": "code",
   "execution_count": 80,
   "id": "2f8b81c8-a53f-4b47-b4a5-226e7376e865",
   "metadata": {
    "jupyter": {
     "source_hidden": true
    }
   },
   "outputs": [
    {
     "name": "stdout",
     "output_type": "stream",
     "text": [
      "Number of tracks: 7124\n"
     ]
    }
   ],
   "source": [
    "# Open Streaming History File\n",
    "folder_path = 'DATA_DUMP/account_data_2024-01-19/'\n",
    "file_name = 'StreamingHistory_music_0.json'\n",
    "\n",
    "streaming_data_raw = get_json_from_file(folder_path +  file_name)\n",
    "print('Number of tracks: {}'.format(len(streaming_data_raw)))\n",
    "\n",
    "# Create a DataFrame for tracks and streams\n",
    "df_streams = pd.DataFrame(streaming_data_raw)\n",
    "df_streams['uniqueName'] = df_streams['artistName'] + df_streams['trackName']\n",
    "df_tracks = df_streams[['uniqueName','artistName','trackName']].drop_duplicates().reset_index(drop=True)"
   ]
  },
  {
   "cell_type": "markdown",
   "id": "2b51d809-c36b-4194-af17-b1751b88b93e",
   "metadata": {},
   "source": [
    "# Get Existing DB Data"
   ]
  },
  {
   "cell_type": "code",
   "execution_count": 4,
   "id": "9b69918a-1edb-4562-a0e5-e8375b7908fd",
   "metadata": {},
   "outputs": [
    {
     "name": "stdin",
     "output_type": "stream",
     "text": [
      " ········\n"
     ]
    }
   ],
   "source": [
    "db = DatabaseTerminal()\n",
    "db.open()\n",
    "\n",
    "df_sql_tracks = db.query('SELECT id FROM main.tracks')\n",
    "df_sql_artists = db.query('SELECT id FROM main.artists')\n",
    "df_sql_albums = db.query('SELECT id FROM main.albums')\n",
    "df_sql_genres = db.query('SELECT raw_genre, main_genre FROM builder.genres')\n",
    "\n",
    "db.close()"
   ]
  },
  {
   "cell_type": "markdown",
   "id": "54a9d911-05eb-4c3b-be5a-90d33a2cc5d0",
   "metadata": {},
   "source": [
    "### Check Missing Tracks"
   ]
  },
  {
   "cell_type": "code",
   "execution_count": 15,
   "id": "8950af4b-77e0-4d65-a6cc-f0de51d3c9b0",
   "metadata": {},
   "outputs": [
    {
     "name": "stdout",
     "output_type": "stream",
     "text": [
      "total streams: 80280\n",
      "total tracks: 25744\n",
      "total episodes: 2796\n",
      "total tracks existing: 0\n",
      "total tracks missing: 28540\n"
     ]
    }
   ],
   "source": [
    "print('total streams: {}'.format(len(df_streams)))\n",
    "print('total tracks: {}'.format(df_streams[df_streams['type']=='track']['track_id'].nunique()))\n",
    "print('total episodes: {}'.format(df_streams[df_streams['type']=='episode']['track_id'].nunique()))\n",
    "print('total tracks existing: {}'.format(df_streams[df_streams['track_id'].isin(df_sql_tracks['id'])]['track_id'].nunique()))\n",
    "print('total tracks missing: {}'.format(df_streams[~df_streams['track_id'].isin(df_sql_tracks['id'])]['track_id'].nunique()))"
   ]
  },
  {
   "cell_type": "code",
   "execution_count": 16,
   "id": "8585fbd8-3f3b-4a17-a5a2-9944de6b1a23",
   "metadata": {},
   "outputs": [
    {
     "name": "stdout",
     "output_type": "stream",
     "text": [
      "28540\n"
     ]
    }
   ],
   "source": [
    "missing_tracks = list(df_streams[~df_streams['track_id'].isin(df_sql_tracks['id'])]['track_id'].drop_duplicates())\n",
    "print(len(missing_tracks))"
   ]
  },
  {
   "cell_type": "markdown",
   "id": "2d8a454b-8d74-4d50-b7bd-a37c55a4ca7e",
   "metadata": {},
   "source": [
    "# Call API"
   ]
  },
  {
   "cell_type": "markdown",
   "id": "b2fff525-9fba-4673-9d17-c9bff4a94a00",
   "metadata": {},
   "source": [
    "### Call API Using Track ID"
   ]
  },
  {
   "cell_type": "code",
   "execution_count": 17,
   "id": "e01522d3-d85e-4c9c-a7a6-54537e64f6d4",
   "metadata": {},
   "outputs": [],
   "source": [
    "def parse_album_result(item):\n",
    "    subset = dict((k, item[k]) for k in ('id', 'name', 'album_type', 'release_date', 'release_date_precision', 'popularity', 'total_tracks', 'label'))\n",
    "    return subset\n",
    "\n",
    "def parse_artist_result(item):\n",
    "    # collect the total number of genres for each artist\n",
    "    item['genre_count'] = len(item['genres'])\n",
    "\n",
    "    # create fields for the top 5 genres\n",
    "    if len(item['genres']) > 4:\n",
    "        item['genre_5'] = item['genres'][4]\n",
    "    else:\n",
    "        item['genre_5'] = None\n",
    "    \n",
    "    if len(item['genres']) > 3:\n",
    "        item['genre_4'] = item['genres'][3]\n",
    "    else:\n",
    "        item['genre_4'] = None\n",
    "    \n",
    "    if len(item['genres']) > 2:\n",
    "        item['genre_3'] = item['genres'][2]\n",
    "    else:\n",
    "        item['genre_3'] = None\n",
    "    \n",
    "    if len(item['genres']) > 1:\n",
    "        item['genre_2'] = item['genres'][1]\n",
    "    else:\n",
    "        item['genre_2'] = None\n",
    "    \n",
    "    if len(item['genres']) > 0:\n",
    "        item['genre_1'] = item['genres'][0]\n",
    "    else:\n",
    "        item['genre_1'] = None\n",
    "\n",
    "    item['followers'] = item['followers']['total']\n",
    "    \n",
    "    subset = dict((k, item[k]) for k in ('id','name','popularity','followers','genre_count','genre_1','genre_2','genre_3','genre_4','genre_5'))\n",
    "    return subset\n",
    "\n",
    "def parse_track_result(item):\n",
    "    try:\n",
    "        result = item['track']\n",
    "    except:\n",
    "        result = item\n",
    "    subset = dict((k, result[k]) for k in ('id', 'name', 'duration_ms', 'popularity', 'disc_number', 'track_number', 'explicit', 'type'))\n",
    "    subset['album_id'] = result['album']['id']\n",
    "    subset['artist_id'] = result['artists'][0]['id']\n",
    "    subset['artist_count'] = len(result['artists'])\n",
    "    try:\n",
    "        subset['context'] = item['context']['uri']\n",
    "    except:\n",
    "        pass\n",
    "    try:\n",
    "        subset['played_at'] = item['played_at']\n",
    "    except:\n",
    "        pass\n",
    "    return subset\n",
    "\n",
    "\n",
    "def get_new_table_data(search_list, table_type):\n",
    "    # table_type can be ['artists','albums','tracks']\n",
    "    #LIST FRACTION is the number of times the length of the list can be divided by either 50 or 20\n",
    "    #ARTISTS and TRACKS have a call limit of 50 at a time, and ALBUMS is 20\n",
    "    if table_type == 'artists' or table_type == 'tracks' or table_type == 'episodes':\n",
    "        list_fraction = math.ceil(len(search_list) / 50)\n",
    "    elif table_type == 'albums':\n",
    "        list_fraction = math.ceil(len(search_list) / 20)\n",
    "    \n",
    "    #INITIALIZE\n",
    "    sp = SpotifyTerminal()\n",
    "    iteration = 0\n",
    "    final = []\n",
    "\n",
    "    #ITERATE\n",
    "    for search_list_group in np.array_split(search_list, list_fraction):\n",
    "        search_list_group = search_list_group.tolist()\n",
    "        \n",
    "        #CALL OPERATION\n",
    "        result = sp.call_api_id(search_list_group, table_type)\n",
    "        \n",
    "        #EXCEPTION FOR ERRORS\n",
    "        if result.status_code != 200:\n",
    "            print('bad call on iteration: {}'.format(iteration))\n",
    "            print('    status code: {}'.format(result.status_code))\n",
    "            break\n",
    "            \n",
    "        #PARSE AND APPEND\n",
    "        for i in result.json()[table_type]:\n",
    "            if i is not None:\n",
    "                if table_type == 'tracks':\n",
    "                    result_clean = parse_track_result(i)\n",
    "                    final.append(result_clean)\n",
    "                elif table_type == 'artists':\n",
    "                    result_clean = parse_artist_result(i)\n",
    "                    final.append(result_clean)\n",
    "                elif table_type == 'albums':\n",
    "                    result_clean = parse_album_result(i)\n",
    "                    final.append(result_clean)\n",
    "            else:\n",
    "                pass\n",
    "        iteration += 1\n",
    "    return final"
   ]
  },
  {
   "cell_type": "code",
   "execution_count": 18,
   "id": "f1fcaf6f-1c7d-4b12-8e76-16d5dcc5bf98",
   "metadata": {},
   "outputs": [],
   "source": [
    "new_track_data = get_new_table_data(list(missing_tracks), 'tracks')\n",
    "df_tracks = pd.DataFrame(new_track_data)"
   ]
  },
  {
   "cell_type": "code",
   "execution_count": 19,
   "id": "a44c575f-3ee9-4949-9fb6-b4623cc4aacc",
   "metadata": {},
   "outputs": [
    {
     "data": {
      "text/plain": [
       "25744"
      ]
     },
     "execution_count": 19,
     "metadata": {},
     "output_type": "execute_result"
    }
   ],
   "source": [
    "len(new_track_data)"
   ]
  },
  {
   "cell_type": "markdown",
   "id": "a0f01dfe-c552-4c73-ad96-27964076ed37",
   "metadata": {},
   "source": [
    "### Expand to Artists and Albums"
   ]
  },
  {
   "cell_type": "markdown",
   "id": "a7080361-c6d4-4576-ade5-1f8fc6232699",
   "metadata": {},
   "source": [
    "TEMPORARY\n",
    "df_tracks = pd.read_csv('quicksave.csv')\n",
    "df_tracks.drop('Unnamed: 0',axis=1,inplace=True)"
   ]
  },
  {
   "cell_type": "code",
   "execution_count": 20,
   "id": "d9882e63-0bca-4bfd-9f92-6f1aa8276a06",
   "metadata": {},
   "outputs": [
    {
     "name": "stdout",
     "output_type": "stream",
     "text": [
      "Number of artists: 5821\n",
      "Number of albums: 12223\n",
      "total artists existing: 0\n",
      "total artists missing: 5821\n",
      "total albums existing: 0\n",
      "total albums missing: 12223\n"
     ]
    }
   ],
   "source": [
    "print('Number of artists: {}'.format(df_tracks['artist_id'].nunique()))\n",
    "print('Number of albums: {}'.format(df_tracks['album_id'].nunique()))\n",
    "print('total artists existing: {}'.format(df_tracks[df_tracks['artist_id'].isin(df_sql_artists['id'])]['artist_id'].nunique()))\n",
    "print('total artists missing: {}'.format(df_tracks[~df_tracks['artist_id'].isin(df_sql_artists['id'])]['artist_id'].nunique()))\n",
    "print('total albums existing: {}'.format(df_tracks[df_tracks['album_id'].isin(df_sql_albums['id'])]['album_id'].nunique()))\n",
    "print('total albums missing: {}'.format(df_tracks[~df_tracks['album_id'].isin(df_sql_albums['id'])]['album_id'].nunique()))"
   ]
  },
  {
   "cell_type": "code",
   "execution_count": 21,
   "id": "c1eb5b93-86df-45b2-8745-fa3064af271d",
   "metadata": {},
   "outputs": [],
   "source": [
    "missing_artists = list(df_tracks[~df_tracks['artist_id'].isin(df_sql_artists['id'])]['artist_id'].drop_duplicates())\n",
    "missing_albums = list(df_tracks[~df_tracks['album_id'].isin(df_sql_albums['id'])]['album_id'].drop_duplicates())"
   ]
  },
  {
   "cell_type": "code",
   "execution_count": 22,
   "id": "0849b89d-e3f0-4337-a112-dd4e62006bc2",
   "metadata": {},
   "outputs": [],
   "source": [
    "new_artist_data = get_new_table_data(list(missing_artists), 'artists')\n",
    "df_artists = pd.DataFrame(new_artist_data)\n",
    "df_artists = df_artists[['id','name','popularity','genre_count','genre_1','genre_2','genre_3','genre_4','genre_5','followers']]"
   ]
  },
  {
   "cell_type": "code",
   "execution_count": 25,
   "id": "ef9dfdb1-dc58-4f77-b43d-5260279f720e",
   "metadata": {},
   "outputs": [],
   "source": [
    "new_album_data = get_new_table_data(list(missing_albums), 'albums')\n",
    "df_albums = pd.DataFrame(new_album_data)\n",
    "df_albums.rename(columns={'label':'album_label',inplace=True)\n",
    "df_albums = df_albums[['id','name','album_type','release_date','release_date_precision','popularity','total_tracks','album_label']]"
   ]
  },
  {
   "cell_type": "code",
   "execution_count": 57,
   "id": "f7c617a0-ae6d-43a8-92f1-758a78b340cf",
   "metadata": {},
   "outputs": [],
   "source": [
    "df_tracks = df_tracks[['id','name','disc_number','track_number','explicit','duration_ms','album_id','artist_id','artist_count','popularity']]"
   ]
  },
  {
   "cell_type": "code",
   "execution_count": 62,
   "id": "1cbe16a2-6fbc-41fe-875a-b148e42403ad",
   "metadata": {},
   "outputs": [],
   "source": [
    "df_streams.rename(columns={'type':'track_type'},inplace=True)\n",
    "my_list = ['track_id','track_name','artist_name','album_name','track_type','duration_ms','played_at','reason_start','reason_end','shuffle','skipped','username','data_source']\n",
    "df_streams = df_streams[['track_id','track_name','artist_name','album_name','track_type','duration_ms','played_at','reason_start','reason_end','shuffle','skipped','username','data_source']]\n",
    "df_streams = df_streams[df_streams['track_id'].isin(df_tracks['id'])]"
   ]
  },
  {
   "cell_type": "code",
   "execution_count": 69,
   "id": "4aa4f97a-f3bf-4421-bc98-75301abdfd8a",
   "metadata": {
    "scrolled": true
   },
   "outputs": [
    {
     "ename": "KeyboardInterrupt",
     "evalue": "Interrupted by user",
     "output_type": "error",
     "traceback": [
      "\u001b[1;31m---------------------------------------------------------------------------\u001b[0m",
      "\u001b[1;31mKeyboardInterrupt\u001b[0m                         Traceback (most recent call last)",
      "Cell \u001b[1;32mIn[69], line 1\u001b[0m\n\u001b[1;32m----> 1\u001b[0m db \u001b[38;5;241m=\u001b[39m \u001b[43mDatabaseTerminal\u001b[49m\u001b[43m(\u001b[49m\u001b[43m)\u001b[49m\n\u001b[0;32m      2\u001b[0m db\u001b[38;5;241m.\u001b[39mopen()\n\u001b[0;32m      3\u001b[0m db\u001b[38;5;241m.\u001b[39mexecute_values(df_albums, \u001b[38;5;124m'\u001b[39m\u001b[38;5;124mmain.albums\u001b[39m\u001b[38;5;124m'\u001b[39m)\n",
      "Cell \u001b[1;32mIn[33], line 3\u001b[0m, in \u001b[0;36mDatabaseTerminal.__init__\u001b[1;34m(self)\u001b[0m\n\u001b[0;32m      2\u001b[0m \u001b[38;5;28;01mdef\u001b[39;00m \u001b[38;5;21m__init__\u001b[39m(\u001b[38;5;28mself\u001b[39m):\n\u001b[1;32m----> 3\u001b[0m     \u001b[38;5;28mself\u001b[39m\u001b[38;5;241m.\u001b[39mpassword \u001b[38;5;241m=\u001b[39m \u001b[43mgetpass\u001b[49m\u001b[43m(\u001b[49m\u001b[43m)\u001b[49m\n",
      "File \u001b[1;32m~\\AppData\\Local\\Programs\\Python\\Python311\\Lib\\site-packages\\ipykernel\\kernelbase.py:1185\u001b[0m, in \u001b[0;36mKernel.getpass\u001b[1;34m(self, prompt, stream)\u001b[0m\n\u001b[0;32m   1178\u001b[0m     \u001b[38;5;28;01mimport\u001b[39;00m \u001b[38;5;21;01mwarnings\u001b[39;00m\n\u001b[0;32m   1180\u001b[0m     warnings\u001b[38;5;241m.\u001b[39mwarn(\n\u001b[0;32m   1181\u001b[0m         \u001b[38;5;124m\"\u001b[39m\u001b[38;5;124mThe `stream` parameter of `getpass.getpass` will have no effect when using ipykernel\u001b[39m\u001b[38;5;124m\"\u001b[39m,\n\u001b[0;32m   1182\u001b[0m         \u001b[38;5;167;01mUserWarning\u001b[39;00m,\n\u001b[0;32m   1183\u001b[0m         stacklevel\u001b[38;5;241m=\u001b[39m\u001b[38;5;241m2\u001b[39m,\n\u001b[0;32m   1184\u001b[0m     )\n\u001b[1;32m-> 1185\u001b[0m \u001b[38;5;28;01mreturn\u001b[39;00m \u001b[38;5;28;43mself\u001b[39;49m\u001b[38;5;241;43m.\u001b[39;49m\u001b[43m_input_request\u001b[49m\u001b[43m(\u001b[49m\n\u001b[0;32m   1186\u001b[0m \u001b[43m    \u001b[49m\u001b[43mprompt\u001b[49m\u001b[43m,\u001b[49m\n\u001b[0;32m   1187\u001b[0m \u001b[43m    \u001b[49m\u001b[38;5;28;43mself\u001b[39;49m\u001b[38;5;241;43m.\u001b[39;49m\u001b[43m_parent_ident\u001b[49m\u001b[43m[\u001b[49m\u001b[38;5;124;43m\"\u001b[39;49m\u001b[38;5;124;43mshell\u001b[39;49m\u001b[38;5;124;43m\"\u001b[39;49m\u001b[43m]\u001b[49m\u001b[43m,\u001b[49m\n\u001b[0;32m   1188\u001b[0m \u001b[43m    \u001b[49m\u001b[38;5;28;43mself\u001b[39;49m\u001b[38;5;241;43m.\u001b[39;49m\u001b[43mget_parent\u001b[49m\u001b[43m(\u001b[49m\u001b[38;5;124;43m\"\u001b[39;49m\u001b[38;5;124;43mshell\u001b[39;49m\u001b[38;5;124;43m\"\u001b[39;49m\u001b[43m)\u001b[49m\u001b[43m,\u001b[49m\n\u001b[0;32m   1189\u001b[0m \u001b[43m    \u001b[49m\u001b[43mpassword\u001b[49m\u001b[38;5;241;43m=\u001b[39;49m\u001b[38;5;28;43;01mTrue\u001b[39;49;00m\u001b[43m,\u001b[49m\n\u001b[0;32m   1190\u001b[0m \u001b[43m\u001b[49m\u001b[43m)\u001b[49m\n",
      "File \u001b[1;32m~\\AppData\\Local\\Programs\\Python\\Python311\\Lib\\site-packages\\ipykernel\\kernelbase.py:1245\u001b[0m, in \u001b[0;36mKernel._input_request\u001b[1;34m(self, prompt, ident, parent, password)\u001b[0m\n\u001b[0;32m   1242\u001b[0m \u001b[38;5;28;01mexcept\u001b[39;00m \u001b[38;5;167;01mKeyboardInterrupt\u001b[39;00m:\n\u001b[0;32m   1243\u001b[0m     \u001b[38;5;66;03m# re-raise KeyboardInterrupt, to truncate traceback\u001b[39;00m\n\u001b[0;32m   1244\u001b[0m     msg \u001b[38;5;241m=\u001b[39m \u001b[38;5;124m\"\u001b[39m\u001b[38;5;124mInterrupted by user\u001b[39m\u001b[38;5;124m\"\u001b[39m\n\u001b[1;32m-> 1245\u001b[0m     \u001b[38;5;28;01mraise\u001b[39;00m \u001b[38;5;167;01mKeyboardInterrupt\u001b[39;00m(msg) \u001b[38;5;28;01mfrom\u001b[39;00m \u001b[38;5;28;01mNone\u001b[39;00m\n\u001b[0;32m   1246\u001b[0m \u001b[38;5;28;01mexcept\u001b[39;00m \u001b[38;5;167;01mException\u001b[39;00m:\n\u001b[0;32m   1247\u001b[0m     \u001b[38;5;28mself\u001b[39m\u001b[38;5;241m.\u001b[39mlog\u001b[38;5;241m.\u001b[39mwarning(\u001b[38;5;124m\"\u001b[39m\u001b[38;5;124mInvalid Message:\u001b[39m\u001b[38;5;124m\"\u001b[39m, exc_info\u001b[38;5;241m=\u001b[39m\u001b[38;5;28;01mTrue\u001b[39;00m)\n",
      "\u001b[1;31mKeyboardInterrupt\u001b[0m: Interrupted by user"
     ]
    }
   ],
   "source": [
    "db = DatabaseTerminal()\n",
    "db.open()\n",
    "db.execute_values(df_albums, 'main.albums')\n",
    "db.execute_values(df_artists, 'main.artists')\n",
    "db.execute_values(df_tracks, 'main.tracks')\n",
    "db.execute_values(df_streams, 'main.streams')\n",
    "db.close()"
   ]
  },
  {
   "cell_type": "code",
   "execution_count": 73,
   "id": "9fb9750a-e1f8-4425-b8b9-62c7e66f7f24",
   "metadata": {},
   "outputs": [],
   "source": [
    "db.close()"
   ]
  },
  {
   "cell_type": "markdown",
   "id": "3a92a477-2c0a-47ae-b124-f0f411c65569",
   "metadata": {},
   "source": [
    "# New"
   ]
  },
  {
   "cell_type": "markdown",
   "id": "2dbf95cf-8009-4b9b-864b-1a8da7b54f8f",
   "metadata": {
    "jp-MarkdownHeadingCollapsed": true
   },
   "source": [
    "# Archive"
   ]
  },
  {
   "cell_type": "code",
   "execution_count": null,
   "id": "e4d2e457-291c-4599-838e-83e0e08f85c6",
   "metadata": {},
   "outputs": [],
   "source": [
    "except (Exception, psycopg2.DatabaseError) as error: \n",
    "            print(\"Error: %s\" % error) \n",
    "            self.conn.rollback() \n",
    "            self.cursor.close() "
   ]
  },
  {
   "cell_type": "code",
   "execution_count": 207,
   "id": "8146ff6c-30ae-4473-a933-fa11f4f168b9",
   "metadata": {},
   "outputs": [
    {
     "data": {
      "text/plain": [
       "51689"
      ]
     },
     "execution_count": 207,
     "metadata": {},
     "output_type": "execute_result"
    }
   ],
   "source": [
    "len(new_track_data_clean)"
   ]
  },
  {
   "cell_type": "code",
   "execution_count": 175,
   "id": "58a43f7a-db2e-400a-9ce1-d0a353844257",
   "metadata": {
    "scrolled": true
   },
   "outputs": [],
   "source": [
    "new_track_data_clean = []\n",
    "iteration_tracker = []\n",
    "iteration=0\n",
    "for i in new_track_data:\n",
    "    iteration_tracker.append(iteration)\n",
    "    if i  is not None:\n",
    "        new_track_data_clean.append(parse_track_result(i))\n",
    "    iteration+=1\n",
    "    # if iteration==2:\n",
    "    #     break"
   ]
  },
  {
   "cell_type": "code",
   "execution_count": 176,
   "id": "849731d4-36fd-4e18-95ed-52c7f82df653",
   "metadata": {},
   "outputs": [
    {
     "data": {
      "text/plain": [
       "60533"
      ]
     },
     "execution_count": 176,
     "metadata": {},
     "output_type": "execute_result"
    }
   ],
   "source": [
    "max(iteration_tracker)"
   ]
  },
  {
   "cell_type": "code",
   "execution_count": 177,
   "id": "aa296aca-6dd4-4196-8198-b85c9c3d582c",
   "metadata": {},
   "outputs": [
    {
     "data": {
      "text/plain": [
       "[{'album': {'album_type': 'album',\n",
       "   'artists': [{'external_urls': {'spotify': 'https://open.spotify.com/artist/0zokIKbH4c7crvZP9Xel1Y'},\n",
       "     'href': 'https://api.spotify.com/v1/artists/0zokIKbH4c7crvZP9Xel1Y',\n",
       "     'id': '0zokIKbH4c7crvZP9Xel1Y',\n",
       "     'name': 'Richard Pryor',\n",
       "     'type': 'artist',\n",
       "     'uri': 'spotify:artist:0zokIKbH4c7crvZP9Xel1Y'}],\n",
       "   'available_markets': [],\n",
       "   'external_urls': {'spotify': 'https://open.spotify.com/album/2Zd4GXXqVsZiUA5vMJPGtq'},\n",
       "   'href': 'https://api.spotify.com/v1/albums/2Zd4GXXqVsZiUA5vMJPGtq',\n",
       "   'id': '2Zd4GXXqVsZiUA5vMJPGtq',\n",
       "   'images': [{'height': 640,\n",
       "     'url': 'https://i.scdn.co/image/ab67616d0000b273d616556599bf047d6ef91134',\n",
       "     'width': 640},\n",
       "    {'height': 300,\n",
       "     'url': 'https://i.scdn.co/image/ab67616d00001e02d616556599bf047d6ef91134',\n",
       "     'width': 300},\n",
       "    {'height': 64,\n",
       "     'url': 'https://i.scdn.co/image/ab67616d00004851d616556599bf047d6ef91134',\n",
       "     'width': 64}],\n",
       "   'name': 'The Anthology: 1968-1992',\n",
       "   'release_date': '2001-10-02',\n",
       "   'release_date_precision': 'day',\n",
       "   'total_tracks': 26,\n",
       "   'type': 'album',\n",
       "   'uri': 'spotify:album:2Zd4GXXqVsZiUA5vMJPGtq'},\n",
       "  'artists': [{'external_urls': {'spotify': 'https://open.spotify.com/artist/0zokIKbH4c7crvZP9Xel1Y'},\n",
       "    'href': 'https://api.spotify.com/v1/artists/0zokIKbH4c7crvZP9Xel1Y',\n",
       "    'id': '0zokIKbH4c7crvZP9Xel1Y',\n",
       "    'name': 'Richard Pryor',\n",
       "    'type': 'artist',\n",
       "    'uri': 'spotify:artist:0zokIKbH4c7crvZP9Xel1Y'}],\n",
       "  'available_markets': [],\n",
       "  'disc_number': 1,\n",
       "  'duration_ms': 113893,\n",
       "  'explicit': True,\n",
       "  'external_ids': {'isrc': 'USRE10101686'},\n",
       "  'external_urls': {'spotify': 'https://open.spotify.com/track/5VOS8q6SByertQVAKem8hx'},\n",
       "  'href': 'https://api.spotify.com/v1/tracks/5VOS8q6SByertQVAKem8hx',\n",
       "  'id': '5VOS8q6SByertQVAKem8hx',\n",
       "  'is_local': False,\n",
       "  'name': 'Exorcist',\n",
       "  'popularity': 0,\n",
       "  'preview_url': None,\n",
       "  'track_number': 6,\n",
       "  'type': 'track',\n",
       "  'uri': 'spotify:track:5VOS8q6SByertQVAKem8hx'},\n",
       " None]"
      ]
     },
     "execution_count": 177,
     "metadata": {},
     "output_type": "execute_result"
    }
   ],
   "source": [
    "new_track_data[2203:2205]"
   ]
  },
  {
   "cell_type": "code",
   "execution_count": 178,
   "id": "668545ea-bfb3-47e7-860c-aac1a816d8fb",
   "metadata": {},
   "outputs": [
    {
     "data": {
      "text/plain": [
       "[{'id': '5VOS8q6SByertQVAKem8hx',\n",
       "  'name': 'Exorcist',\n",
       "  'duration_ms': 113893,\n",
       "  'popularity': 0,\n",
       "  'disc_number': 1,\n",
       "  'track_number': 6,\n",
       "  'explicit': True,\n",
       "  'type': 'track',\n",
       "  'album_id': '2Zd4GXXqVsZiUA5vMJPGtq',\n",
       "  'artist_id': '0zokIKbH4c7crvZP9Xel1Y',\n",
       "  'artist_count': 1},\n",
       " {'id': '7DOE1ATnFN3qcRMklFvqKh',\n",
       "  'name': 'My Chain',\n",
       "  'duration_ms': 238560,\n",
       "  'popularity': 7,\n",
       "  'disc_number': 1,\n",
       "  'track_number': 2,\n",
       "  'explicit': True,\n",
       "  'type': 'track',\n",
       "  'album_id': '77dd1df26ZbsefOUCVDk3n',\n",
       "  'artist_id': '13y7CgLHjMVRMDqxdx0Xdo',\n",
       "  'artist_count': 2}]"
      ]
     },
     "execution_count": 178,
     "metadata": {},
     "output_type": "execute_result"
    }
   ],
   "source": [
    "new_track_data_clean[2203:2205]"
   ]
  },
  {
   "cell_type": "code",
   "execution_count": null,
   "id": "3f95df72-75ce-4a8e-ad1a-370c5053cae1",
   "metadata": {},
   "outputs": [],
   "source": [
    "sp = SpotifyTerminal()\n",
    "tracks_list = []\n",
    "\n",
    "\n",
    "for index, row in df_tracks.iterrows():\n",
    "    r = sp.call_api_id(row['id'], 'tracks')\n",
    "    if r.status_code != 200:\n",
    "        print('bad call on iteration: {}'.format(index))\n",
    "        print('    status code: {}'.format(r.status_code))\n",
    "        break\n",
    "    elif len(r.json()['tracks']['items']) > 0:\n",
    "        track_parsed = sp.parse_track_result(r.json()['tracks']['items'][0])\n",
    "        track_parsed['uniqueName'] = row['artistName'] + row['trackName']\n",
    "        tracks_list.append(track_parsed)\n",
    "    else:\n",
    "        print('could not find {}'.format(row['artistName'] + row['trackName']))\n",
    "        pass"
   ]
  },
  {
   "cell_type": "markdown",
   "id": "aadb3234-89e6-4c70-a4e8-2921f777ffaa",
   "metadata": {
    "jp-MarkdownHeadingCollapsed": true
   },
   "source": [
    "# Call API Using Track Name and Artist Name"
   ]
  },
  {
   "cell_type": "code",
   "execution_count": 97,
   "id": "dfe792e6-26ea-40cb-bddb-e7bd7c9774f3",
   "metadata": {
    "scrolled": true
   },
   "outputs": [
    {
     "name": "stdout",
     "output_type": "stream",
     "text": [
      "https://api.spotify.com/v1/search?q=track%3AA%20Singularity%20-%20Re-Imagined%20by%20Carina%20Round%20artist%3APuscifer&type=track&limit=1\n",
      "https://api.spotify.com/v1/search?q=track%3ASlip%20Slidin'%20Away%20artist%3APaul%20Simon&type=track&limit=1\n",
      "https://api.spotify.com/v1/search?q=track%3ADragonaut%20artist%3ASleep&type=track&limit=1\n",
      "https://api.spotify.com/v1/search?q=track%3AThe%20Mission%20-%20M%20Is%20For%20Milla%20Mix%20artist%3APuscifer&type=track&limit=1\n",
      "https://api.spotify.com/v1/search?q=track%3AMomma%20Sed%20(Alive%20At%20Club%20Nokia)%20-%20Live%20artist%3APuscifer&type=track&limit=1\n",
      "could not find PusciferMomma Sed (Alive At Club Nokia) - Live\n",
      "https://api.spotify.com/v1/search?q=track%3AVagina%20Mine%20(Alive%20At%20Club%20Nokia)%20-%20Live%20artist%3APuscifer&type=track&limit=1\n",
      "could not find PusciferVagina Mine (Alive At Club Nokia) - Live\n",
      "https://api.spotify.com/v1/search?q=track%3APotions%20-%20Deliverance%20Mix%20artist%3APuscifer&type=track&limit=1\n",
      "https://api.spotify.com/v1/search?q=track%3AThe%20Humbling%20River%20artist%3APuscifer&type=track&limit=1\n",
      "https://api.spotify.com/v1/search?q=track%3AOblivion%20artist%3AMastodon&type=track&limit=1\n",
      "https://api.spotify.com/v1/search?q=track%3AThe%20Stone%20artist%3AASHES%20dIVIDE&type=track&limit=1\n",
      "https://api.spotify.com/v1/search?q=track%3ASame%20Problems?%20artist%3AA$AP%20Rocky&type=track&limit=1\n",
      "https://api.spotify.com/v1/search?q=track%3APussy%20&%20Millions%20(feat.%20Travis%20Scott)%20artist%3ADrake&type=track&limit=1\n",
      "https://api.spotify.com/v1/search?q=track%3Aa%20lot%20artist%3A21%20Savage&type=track&limit=1\n",
      "https://api.spotify.com/v1/search?q=track%3AIt's%20A%20Vibe%20artist%3A2%20Chainz&type=track&limit=1\n",
      "could not find 2 ChainzIt's A Vibe\n",
      "https://api.spotify.com/v1/search?q=track%3AX%20(with%202%20Chainz%20&%20Saudi)%20artist%3AScHoolboy%20Q&type=track&limit=1\n",
      "https://api.spotify.com/v1/search?q=track%3A4%20AM%20artist%3A2%20Chainz&type=track&limit=1\n",
      "https://api.spotify.com/v1/search?q=track%3AOG%20Kush%20Diet%20artist%3A2%20Chainz&type=track&limit=1\n",
      "https://api.spotify.com/v1/search?q=track%3ABailan%20artist%3A2%20Chainz&type=track&limit=1\n",
      "https://api.spotify.com/v1/search?q=track%3AThe%20Remedy%20artist%3APuscifer&type=track&limit=1\n",
      "https://api.spotify.com/v1/search?q=track%3AMomma%20Sed%20artist%3APuscifer&type=track&limit=1\n",
      "https://api.spotify.com/v1/search?q=track%3ACuntry%20Boner%20-%20Evil%20Joe%20Barresi%20Mix%20artist%3APuscifer&type=track&limit=1\n",
      "https://api.spotify.com/v1/search?q=track%3AI%20Don't%20Do%20Drugs%20-%20Y2K%20Remix%20artist%3ADoja%20Cat&type=track&limit=1\n",
      "https://api.spotify.com/v1/search?q=track%3ANonsense%20artist%3ASabrina%20Carpenter&type=track&limit=1\n",
      "https://api.spotify.com/v1/search?q=track%3AGet%20Into%20It%20(Yuh)%20artist%3ADoja%20Cat&type=track&limit=1\n",
      "https://api.spotify.com/v1/search?q=track%3APlease%20Me%20artist%3ACardi%20B&type=track&limit=1\n",
      "https://api.spotify.com/v1/search?q=track%3AShirt%20artist%3ASZA&type=track&limit=1\n",
      "https://api.spotify.com/v1/search?q=track%3AHere%20to%20Stay%20artist%3AKorn&type=track&limit=1\n",
      "https://api.spotify.com/v1/search?q=track%3AFeiticeira%20artist%3ADeftones&type=track&limit=1\n",
      "https://api.spotify.com/v1/search?q=track%3AMake%20Believe%20artist%3AKorn&type=track&limit=1\n",
      "https://api.spotify.com/v1/search?q=track%3ABlack%20artist%3ASevendust&type=track&limit=1\n",
      "https://api.spotify.com/v1/search?q=track%3ABack%20to%20School%20(Mini%20Maggit)%20artist%3ADeftones&type=track&limit=1\n",
      "https://api.spotify.com/v1/search?q=track%3ADenial%20artist%3ASevendust&type=track&limit=1\n",
      "https://api.spotify.com/v1/search?q=track%3ASave%20Your%20Tears%20(Remix)%20(with%20Ariana%20Grande)%20-%20Bonus%20Track%20artist%3AThe%20Weeknd&type=track&limit=1\n",
      "https://api.spotify.com/v1/search?q=track%3Apositions%20artist%3AAriana%20Grande&type=track&limit=1\n",
      "https://api.spotify.com/v1/search?q=track%3AOne%20Last%20Time%20artist%3AAriana%20Grande&type=track&limit=1\n",
      "https://api.spotify.com/v1/search?q=track%3Athe%20BLACK%20seminole.%20artist%3ALil%20Yachty&type=track&limit=1\n",
      "https://api.spotify.com/v1/search?q=track%3ASong%20to%20Say%20Goodbye%20artist%3APlacebo&type=track&limit=1\n",
      "https://api.spotify.com/v1/search?q=track%3AA%20Salty%20Salute%20artist%3AGuided%20By%20Voices&type=track&limit=1\n",
      "https://api.spotify.com/v1/search?q=track%3ABad%20Habit%20artist%3ASteve%20Lacy&type=track&limit=1\n",
      "https://api.spotify.com/v1/search?q=track%3APharmacist%20artist%3AAlvvays&type=track&limit=1\n",
      "https://api.spotify.com/v1/search?q=track%3AAfter%20The%20Earthquake%20artist%3AAlvvays&type=track&limit=1\n",
      "https://api.spotify.com/v1/search?q=track%3AGalaxy%20artist%3AJID&type=track&limit=1\n",
      "https://api.spotify.com/v1/search?q=track%3ACan’t%20Punk%20Me%20(feat.%20EARTHGANG)%20artist%3AJID&type=track&limit=1\n",
      "https://api.spotify.com/v1/search?q=track%3ARaydar%20artist%3AJID&type=track&limit=1\n",
      "https://api.spotify.com/v1/search?q=track%3AGettin’%20to%20the%20Point%20artist%3APanda%20Bear&type=track&limit=1\n",
      "https://api.spotify.com/v1/search?q=track%3AGo%20On%20artist%3APanda%20Bear&type=track&limit=1\n",
      "https://api.spotify.com/v1/search?q=track%3Araining%20for%20hours%20artist%3Aame&type=track&limit=1\n",
      "https://api.spotify.com/v1/search?q=track%3Alluvia%20en%20primavera%20artist%3AWeather%20Modifier&type=track&limit=1\n",
      "https://api.spotify.com/v1/search?q=track%3AFarifax%20Rain%20artist%3AFlows%20of%20Sleep&type=track&limit=1\n",
      "https://api.spotify.com/v1/search?q=track%3APluie%20de%20méditation%20artist%3APluie%20Nordique&type=track&limit=1\n",
      "https://api.spotify.com/v1/search?q=track%3ARainy%20Mood%20artist%3ASleepy%20Mood&type=track&limit=1\n",
      "https://api.spotify.com/v1/search?q=track%3ARain%20Again%20artist%3AMeryl%20Stream&type=track&limit=1\n",
      "https://api.spotify.com/v1/search?q=track%3Alluvia%20lenta%20artist%3AAmba%20Naturale&type=track&limit=1\n",
      "https://api.spotify.com/v1/search?q=track%3AForgotten%20Skies%20artist%3Acloudcity&type=track&limit=1\n",
      "https://api.spotify.com/v1/search?q=track%3ADreamy%20Rain%20artist%3ARainded&type=track&limit=1\n",
      "https://api.spotify.com/v1/search?q=track%3ARainy%20Hour%20artist%3ASkyyy&type=track&limit=1\n",
      "https://api.spotify.com/v1/search?q=track%3ASonidos%20suaves%20de%20lluvia%20artist%3AMighty%20Nature%20X&type=track&limit=1\n",
      "https://api.spotify.com/v1/search?q=track%3AMonsoon%20artist%3ASofia%20Rain&type=track&limit=1\n",
      "https://api.spotify.com/v1/search?q=track%3AAlways%20Raining%20artist%3ATono&type=track&limit=1\n",
      "https://api.spotify.com/v1/search?q=track%3ARain%20Factory%20artist%3ARelaxing%20Sound%20Factory&type=track&limit=1\n",
      "https://api.spotify.com/v1/search?q=track%3ASteady%20Soft%20Rain%20-%20Fade%20artist%3ATurquoise%20Turmoil&type=track&limit=1\n",
      "https://api.spotify.com/v1/search?q=track%3ALotus%20Rain%20artist%3AAdio&type=track&limit=1\n",
      "https://api.spotify.com/v1/search?q=track%3Aslumber%20drops%20artist%3Aoh,%20the%20joy.&type=track&limit=1\n",
      "https://api.spotify.com/v1/search?q=track%3AЯ%20люблю%20дождь%20artist%3AНебесный%20душ&type=track&limit=1\n"
     ]
    },
    {
     "ename": "KeyboardInterrupt",
     "evalue": "",
     "output_type": "error",
     "traceback": [
      "\u001b[1;31m---------------------------------------------------------------------------\u001b[0m",
      "\u001b[1;31mKeyboardInterrupt\u001b[0m                         Traceback (most recent call last)",
      "Cell \u001b[1;32mIn[97], line 4\u001b[0m\n\u001b[0;32m      2\u001b[0m tracks_list \u001b[38;5;241m=\u001b[39m []\n\u001b[0;32m      3\u001b[0m \u001b[38;5;28;01mfor\u001b[39;00m index, row \u001b[38;5;129;01min\u001b[39;00m df_tracks\u001b[38;5;241m.\u001b[39miterrows():\n\u001b[1;32m----> 4\u001b[0m     r \u001b[38;5;241m=\u001b[39m \u001b[43msp\u001b[49m\u001b[38;5;241;43m.\u001b[39;49m\u001b[43mcall_api_search\u001b[49m\u001b[43m(\u001b[49m\u001b[43mrow\u001b[49m\u001b[43m[\u001b[49m\u001b[38;5;124;43m'\u001b[39;49m\u001b[38;5;124;43mtrackName\u001b[39;49m\u001b[38;5;124;43m'\u001b[39;49m\u001b[43m]\u001b[49m\u001b[43m,\u001b[49m\u001b[43mrow\u001b[49m\u001b[43m[\u001b[49m\u001b[38;5;124;43m'\u001b[39;49m\u001b[38;5;124;43martistName\u001b[39;49m\u001b[38;5;124;43m'\u001b[39;49m\u001b[43m]\u001b[49m\u001b[43m)\u001b[49m\n\u001b[0;32m      5\u001b[0m     \u001b[38;5;28;01mif\u001b[39;00m r\u001b[38;5;241m.\u001b[39mstatus_code \u001b[38;5;241m!=\u001b[39m \u001b[38;5;241m200\u001b[39m:\n\u001b[0;32m      6\u001b[0m         \u001b[38;5;28mprint\u001b[39m(\u001b[38;5;124m'\u001b[39m\u001b[38;5;124mbad call on iteration: \u001b[39m\u001b[38;5;132;01m{}\u001b[39;00m\u001b[38;5;124m'\u001b[39m\u001b[38;5;241m.\u001b[39mformat(index))\n",
      "Cell \u001b[1;32mIn[41], line 45\u001b[0m, in \u001b[0;36mspotify_terminal.call_api_search\u001b[1;34m(self, track_name, artist_name)\u001b[0m\n\u001b[0;32m     43\u001b[0m \u001b[38;5;28mprint\u001b[39m(\u001b[38;5;28mself\u001b[39m\u001b[38;5;241m.\u001b[39mBASE_URL \u001b[38;5;241m+\u001b[39m endpoint)\n\u001b[0;32m     44\u001b[0m \u001b[38;5;66;03m# actual GET request with proper header\u001b[39;00m\n\u001b[1;32m---> 45\u001b[0m r \u001b[38;5;241m=\u001b[39m \u001b[43mrequests\u001b[49m\u001b[38;5;241;43m.\u001b[39;49m\u001b[43mget\u001b[49m\u001b[43m(\u001b[49m\u001b[38;5;28;43mself\u001b[39;49m\u001b[38;5;241;43m.\u001b[39;49m\u001b[43mBASE_URL\u001b[49m\u001b[43m \u001b[49m\u001b[38;5;241;43m+\u001b[39;49m\u001b[43m \u001b[49m\u001b[43mendpoint\u001b[49m\u001b[43m,\u001b[49m\u001b[43m \u001b[49m\u001b[43mheaders\u001b[49m\u001b[38;5;241;43m=\u001b[39;49m\u001b[38;5;28;43mself\u001b[39;49m\u001b[38;5;241;43m.\u001b[39;49m\u001b[43mheaders\u001b[49m\u001b[43m)\u001b[49m\n\u001b[0;32m     46\u001b[0m \u001b[38;5;66;03m# r.status_code\u001b[39;00m\n\u001b[0;32m     47\u001b[0m \u001b[38;5;28;01mreturn\u001b[39;00m r\n",
      "File \u001b[1;32m~\\AppData\\Local\\Programs\\Python\\Python311\\Lib\\site-packages\\requests\\api.py:73\u001b[0m, in \u001b[0;36mget\u001b[1;34m(url, params, **kwargs)\u001b[0m\n\u001b[0;32m     62\u001b[0m \u001b[38;5;28;01mdef\u001b[39;00m \u001b[38;5;21mget\u001b[39m(url, params\u001b[38;5;241m=\u001b[39m\u001b[38;5;28;01mNone\u001b[39;00m, \u001b[38;5;241m*\u001b[39m\u001b[38;5;241m*\u001b[39mkwargs):\n\u001b[0;32m     63\u001b[0m \u001b[38;5;250m    \u001b[39m\u001b[38;5;124mr\u001b[39m\u001b[38;5;124;03m\"\"\"Sends a GET request.\u001b[39;00m\n\u001b[0;32m     64\u001b[0m \n\u001b[0;32m     65\u001b[0m \u001b[38;5;124;03m    :param url: URL for the new :class:`Request` object.\u001b[39;00m\n\u001b[1;32m   (...)\u001b[0m\n\u001b[0;32m     70\u001b[0m \u001b[38;5;124;03m    :rtype: requests.Response\u001b[39;00m\n\u001b[0;32m     71\u001b[0m \u001b[38;5;124;03m    \"\"\"\u001b[39;00m\n\u001b[1;32m---> 73\u001b[0m     \u001b[38;5;28;01mreturn\u001b[39;00m \u001b[43mrequest\u001b[49m\u001b[43m(\u001b[49m\u001b[38;5;124;43m\"\u001b[39;49m\u001b[38;5;124;43mget\u001b[39;49m\u001b[38;5;124;43m\"\u001b[39;49m\u001b[43m,\u001b[49m\u001b[43m \u001b[49m\u001b[43murl\u001b[49m\u001b[43m,\u001b[49m\u001b[43m \u001b[49m\u001b[43mparams\u001b[49m\u001b[38;5;241;43m=\u001b[39;49m\u001b[43mparams\u001b[49m\u001b[43m,\u001b[49m\u001b[43m \u001b[49m\u001b[38;5;241;43m*\u001b[39;49m\u001b[38;5;241;43m*\u001b[39;49m\u001b[43mkwargs\u001b[49m\u001b[43m)\u001b[49m\n",
      "File \u001b[1;32m~\\AppData\\Local\\Programs\\Python\\Python311\\Lib\\site-packages\\requests\\api.py:59\u001b[0m, in \u001b[0;36mrequest\u001b[1;34m(method, url, **kwargs)\u001b[0m\n\u001b[0;32m     55\u001b[0m \u001b[38;5;66;03m# By using the 'with' statement we are sure the session is closed, thus we\u001b[39;00m\n\u001b[0;32m     56\u001b[0m \u001b[38;5;66;03m# avoid leaving sockets open which can trigger a ResourceWarning in some\u001b[39;00m\n\u001b[0;32m     57\u001b[0m \u001b[38;5;66;03m# cases, and look like a memory leak in others.\u001b[39;00m\n\u001b[0;32m     58\u001b[0m \u001b[38;5;28;01mwith\u001b[39;00m sessions\u001b[38;5;241m.\u001b[39mSession() \u001b[38;5;28;01mas\u001b[39;00m session:\n\u001b[1;32m---> 59\u001b[0m     \u001b[38;5;28;01mreturn\u001b[39;00m \u001b[43msession\u001b[49m\u001b[38;5;241;43m.\u001b[39;49m\u001b[43mrequest\u001b[49m\u001b[43m(\u001b[49m\u001b[43mmethod\u001b[49m\u001b[38;5;241;43m=\u001b[39;49m\u001b[43mmethod\u001b[49m\u001b[43m,\u001b[49m\u001b[43m \u001b[49m\u001b[43murl\u001b[49m\u001b[38;5;241;43m=\u001b[39;49m\u001b[43murl\u001b[49m\u001b[43m,\u001b[49m\u001b[43m \u001b[49m\u001b[38;5;241;43m*\u001b[39;49m\u001b[38;5;241;43m*\u001b[39;49m\u001b[43mkwargs\u001b[49m\u001b[43m)\u001b[49m\n",
      "File \u001b[1;32m~\\AppData\\Local\\Programs\\Python\\Python311\\Lib\\site-packages\\requests\\sessions.py:589\u001b[0m, in \u001b[0;36mSession.request\u001b[1;34m(self, method, url, params, data, headers, cookies, files, auth, timeout, allow_redirects, proxies, hooks, stream, verify, cert, json)\u001b[0m\n\u001b[0;32m    584\u001b[0m send_kwargs \u001b[38;5;241m=\u001b[39m {\n\u001b[0;32m    585\u001b[0m     \u001b[38;5;124m\"\u001b[39m\u001b[38;5;124mtimeout\u001b[39m\u001b[38;5;124m\"\u001b[39m: timeout,\n\u001b[0;32m    586\u001b[0m     \u001b[38;5;124m\"\u001b[39m\u001b[38;5;124mallow_redirects\u001b[39m\u001b[38;5;124m\"\u001b[39m: allow_redirects,\n\u001b[0;32m    587\u001b[0m }\n\u001b[0;32m    588\u001b[0m send_kwargs\u001b[38;5;241m.\u001b[39mupdate(settings)\n\u001b[1;32m--> 589\u001b[0m resp \u001b[38;5;241m=\u001b[39m \u001b[38;5;28;43mself\u001b[39;49m\u001b[38;5;241;43m.\u001b[39;49m\u001b[43msend\u001b[49m\u001b[43m(\u001b[49m\u001b[43mprep\u001b[49m\u001b[43m,\u001b[49m\u001b[43m \u001b[49m\u001b[38;5;241;43m*\u001b[39;49m\u001b[38;5;241;43m*\u001b[39;49m\u001b[43msend_kwargs\u001b[49m\u001b[43m)\u001b[49m\n\u001b[0;32m    591\u001b[0m \u001b[38;5;28;01mreturn\u001b[39;00m resp\n",
      "File \u001b[1;32m~\\AppData\\Local\\Programs\\Python\\Python311\\Lib\\site-packages\\requests\\sessions.py:703\u001b[0m, in \u001b[0;36mSession.send\u001b[1;34m(self, request, **kwargs)\u001b[0m\n\u001b[0;32m    700\u001b[0m start \u001b[38;5;241m=\u001b[39m preferred_clock()\n\u001b[0;32m    702\u001b[0m \u001b[38;5;66;03m# Send the request\u001b[39;00m\n\u001b[1;32m--> 703\u001b[0m r \u001b[38;5;241m=\u001b[39m \u001b[43madapter\u001b[49m\u001b[38;5;241;43m.\u001b[39;49m\u001b[43msend\u001b[49m\u001b[43m(\u001b[49m\u001b[43mrequest\u001b[49m\u001b[43m,\u001b[49m\u001b[43m \u001b[49m\u001b[38;5;241;43m*\u001b[39;49m\u001b[38;5;241;43m*\u001b[39;49m\u001b[43mkwargs\u001b[49m\u001b[43m)\u001b[49m\n\u001b[0;32m    705\u001b[0m \u001b[38;5;66;03m# Total elapsed time of the request (approximately)\u001b[39;00m\n\u001b[0;32m    706\u001b[0m elapsed \u001b[38;5;241m=\u001b[39m preferred_clock() \u001b[38;5;241m-\u001b[39m start\n",
      "File \u001b[1;32m~\\AppData\\Local\\Programs\\Python\\Python311\\Lib\\site-packages\\requests\\adapters.py:486\u001b[0m, in \u001b[0;36mHTTPAdapter.send\u001b[1;34m(self, request, stream, timeout, verify, cert, proxies)\u001b[0m\n\u001b[0;32m    483\u001b[0m     timeout \u001b[38;5;241m=\u001b[39m TimeoutSauce(connect\u001b[38;5;241m=\u001b[39mtimeout, read\u001b[38;5;241m=\u001b[39mtimeout)\n\u001b[0;32m    485\u001b[0m \u001b[38;5;28;01mtry\u001b[39;00m:\n\u001b[1;32m--> 486\u001b[0m     resp \u001b[38;5;241m=\u001b[39m \u001b[43mconn\u001b[49m\u001b[38;5;241;43m.\u001b[39;49m\u001b[43murlopen\u001b[49m\u001b[43m(\u001b[49m\n\u001b[0;32m    487\u001b[0m \u001b[43m        \u001b[49m\u001b[43mmethod\u001b[49m\u001b[38;5;241;43m=\u001b[39;49m\u001b[43mrequest\u001b[49m\u001b[38;5;241;43m.\u001b[39;49m\u001b[43mmethod\u001b[49m\u001b[43m,\u001b[49m\n\u001b[0;32m    488\u001b[0m \u001b[43m        \u001b[49m\u001b[43murl\u001b[49m\u001b[38;5;241;43m=\u001b[39;49m\u001b[43murl\u001b[49m\u001b[43m,\u001b[49m\n\u001b[0;32m    489\u001b[0m \u001b[43m        \u001b[49m\u001b[43mbody\u001b[49m\u001b[38;5;241;43m=\u001b[39;49m\u001b[43mrequest\u001b[49m\u001b[38;5;241;43m.\u001b[39;49m\u001b[43mbody\u001b[49m\u001b[43m,\u001b[49m\n\u001b[0;32m    490\u001b[0m \u001b[43m        \u001b[49m\u001b[43mheaders\u001b[49m\u001b[38;5;241;43m=\u001b[39;49m\u001b[43mrequest\u001b[49m\u001b[38;5;241;43m.\u001b[39;49m\u001b[43mheaders\u001b[49m\u001b[43m,\u001b[49m\n\u001b[0;32m    491\u001b[0m \u001b[43m        \u001b[49m\u001b[43mredirect\u001b[49m\u001b[38;5;241;43m=\u001b[39;49m\u001b[38;5;28;43;01mFalse\u001b[39;49;00m\u001b[43m,\u001b[49m\n\u001b[0;32m    492\u001b[0m \u001b[43m        \u001b[49m\u001b[43massert_same_host\u001b[49m\u001b[38;5;241;43m=\u001b[39;49m\u001b[38;5;28;43;01mFalse\u001b[39;49;00m\u001b[43m,\u001b[49m\n\u001b[0;32m    493\u001b[0m \u001b[43m        \u001b[49m\u001b[43mpreload_content\u001b[49m\u001b[38;5;241;43m=\u001b[39;49m\u001b[38;5;28;43;01mFalse\u001b[39;49;00m\u001b[43m,\u001b[49m\n\u001b[0;32m    494\u001b[0m \u001b[43m        \u001b[49m\u001b[43mdecode_content\u001b[49m\u001b[38;5;241;43m=\u001b[39;49m\u001b[38;5;28;43;01mFalse\u001b[39;49;00m\u001b[43m,\u001b[49m\n\u001b[0;32m    495\u001b[0m \u001b[43m        \u001b[49m\u001b[43mretries\u001b[49m\u001b[38;5;241;43m=\u001b[39;49m\u001b[38;5;28;43mself\u001b[39;49m\u001b[38;5;241;43m.\u001b[39;49m\u001b[43mmax_retries\u001b[49m\u001b[43m,\u001b[49m\n\u001b[0;32m    496\u001b[0m \u001b[43m        \u001b[49m\u001b[43mtimeout\u001b[49m\u001b[38;5;241;43m=\u001b[39;49m\u001b[43mtimeout\u001b[49m\u001b[43m,\u001b[49m\n\u001b[0;32m    497\u001b[0m \u001b[43m        \u001b[49m\u001b[43mchunked\u001b[49m\u001b[38;5;241;43m=\u001b[39;49m\u001b[43mchunked\u001b[49m\u001b[43m,\u001b[49m\n\u001b[0;32m    498\u001b[0m \u001b[43m    \u001b[49m\u001b[43m)\u001b[49m\n\u001b[0;32m    500\u001b[0m \u001b[38;5;28;01mexcept\u001b[39;00m (ProtocolError, \u001b[38;5;167;01mOSError\u001b[39;00m) \u001b[38;5;28;01mas\u001b[39;00m err:\n\u001b[0;32m    501\u001b[0m     \u001b[38;5;28;01mraise\u001b[39;00m \u001b[38;5;167;01mConnectionError\u001b[39;00m(err, request\u001b[38;5;241m=\u001b[39mrequest)\n",
      "File \u001b[1;32m~\\AppData\\Local\\Programs\\Python\\Python311\\Lib\\site-packages\\urllib3\\connectionpool.py:790\u001b[0m, in \u001b[0;36mHTTPConnectionPool.urlopen\u001b[1;34m(self, method, url, body, headers, retries, redirect, assert_same_host, timeout, pool_timeout, release_conn, chunked, body_pos, preload_content, decode_content, **response_kw)\u001b[0m\n\u001b[0;32m    787\u001b[0m response_conn \u001b[38;5;241m=\u001b[39m conn \u001b[38;5;28;01mif\u001b[39;00m \u001b[38;5;129;01mnot\u001b[39;00m release_conn \u001b[38;5;28;01melse\u001b[39;00m \u001b[38;5;28;01mNone\u001b[39;00m\n\u001b[0;32m    789\u001b[0m \u001b[38;5;66;03m# Make the request on the HTTPConnection object\u001b[39;00m\n\u001b[1;32m--> 790\u001b[0m response \u001b[38;5;241m=\u001b[39m \u001b[38;5;28;43mself\u001b[39;49m\u001b[38;5;241;43m.\u001b[39;49m\u001b[43m_make_request\u001b[49m\u001b[43m(\u001b[49m\n\u001b[0;32m    791\u001b[0m \u001b[43m    \u001b[49m\u001b[43mconn\u001b[49m\u001b[43m,\u001b[49m\n\u001b[0;32m    792\u001b[0m \u001b[43m    \u001b[49m\u001b[43mmethod\u001b[49m\u001b[43m,\u001b[49m\n\u001b[0;32m    793\u001b[0m \u001b[43m    \u001b[49m\u001b[43murl\u001b[49m\u001b[43m,\u001b[49m\n\u001b[0;32m    794\u001b[0m \u001b[43m    \u001b[49m\u001b[43mtimeout\u001b[49m\u001b[38;5;241;43m=\u001b[39;49m\u001b[43mtimeout_obj\u001b[49m\u001b[43m,\u001b[49m\n\u001b[0;32m    795\u001b[0m \u001b[43m    \u001b[49m\u001b[43mbody\u001b[49m\u001b[38;5;241;43m=\u001b[39;49m\u001b[43mbody\u001b[49m\u001b[43m,\u001b[49m\n\u001b[0;32m    796\u001b[0m \u001b[43m    \u001b[49m\u001b[43mheaders\u001b[49m\u001b[38;5;241;43m=\u001b[39;49m\u001b[43mheaders\u001b[49m\u001b[43m,\u001b[49m\n\u001b[0;32m    797\u001b[0m \u001b[43m    \u001b[49m\u001b[43mchunked\u001b[49m\u001b[38;5;241;43m=\u001b[39;49m\u001b[43mchunked\u001b[49m\u001b[43m,\u001b[49m\n\u001b[0;32m    798\u001b[0m \u001b[43m    \u001b[49m\u001b[43mretries\u001b[49m\u001b[38;5;241;43m=\u001b[39;49m\u001b[43mretries\u001b[49m\u001b[43m,\u001b[49m\n\u001b[0;32m    799\u001b[0m \u001b[43m    \u001b[49m\u001b[43mresponse_conn\u001b[49m\u001b[38;5;241;43m=\u001b[39;49m\u001b[43mresponse_conn\u001b[49m\u001b[43m,\u001b[49m\n\u001b[0;32m    800\u001b[0m \u001b[43m    \u001b[49m\u001b[43mpreload_content\u001b[49m\u001b[38;5;241;43m=\u001b[39;49m\u001b[43mpreload_content\u001b[49m\u001b[43m,\u001b[49m\n\u001b[0;32m    801\u001b[0m \u001b[43m    \u001b[49m\u001b[43mdecode_content\u001b[49m\u001b[38;5;241;43m=\u001b[39;49m\u001b[43mdecode_content\u001b[49m\u001b[43m,\u001b[49m\n\u001b[0;32m    802\u001b[0m \u001b[43m    \u001b[49m\u001b[38;5;241;43m*\u001b[39;49m\u001b[38;5;241;43m*\u001b[39;49m\u001b[43mresponse_kw\u001b[49m\u001b[43m,\u001b[49m\n\u001b[0;32m    803\u001b[0m \u001b[43m\u001b[49m\u001b[43m)\u001b[49m\n\u001b[0;32m    805\u001b[0m \u001b[38;5;66;03m# Everything went great!\u001b[39;00m\n\u001b[0;32m    806\u001b[0m clean_exit \u001b[38;5;241m=\u001b[39m \u001b[38;5;28;01mTrue\u001b[39;00m\n",
      "File \u001b[1;32m~\\AppData\\Local\\Programs\\Python\\Python311\\Lib\\site-packages\\urllib3\\connectionpool.py:536\u001b[0m, in \u001b[0;36mHTTPConnectionPool._make_request\u001b[1;34m(self, conn, method, url, body, headers, retries, timeout, chunked, response_conn, preload_content, decode_content, enforce_content_length)\u001b[0m\n\u001b[0;32m    534\u001b[0m \u001b[38;5;66;03m# Receive the response from the server\u001b[39;00m\n\u001b[0;32m    535\u001b[0m \u001b[38;5;28;01mtry\u001b[39;00m:\n\u001b[1;32m--> 536\u001b[0m     response \u001b[38;5;241m=\u001b[39m \u001b[43mconn\u001b[49m\u001b[38;5;241;43m.\u001b[39;49m\u001b[43mgetresponse\u001b[49m\u001b[43m(\u001b[49m\u001b[43m)\u001b[49m\n\u001b[0;32m    537\u001b[0m \u001b[38;5;28;01mexcept\u001b[39;00m (BaseSSLError, \u001b[38;5;167;01mOSError\u001b[39;00m) \u001b[38;5;28;01mas\u001b[39;00m e:\n\u001b[0;32m    538\u001b[0m     \u001b[38;5;28mself\u001b[39m\u001b[38;5;241m.\u001b[39m_raise_timeout(err\u001b[38;5;241m=\u001b[39me, url\u001b[38;5;241m=\u001b[39murl, timeout_value\u001b[38;5;241m=\u001b[39mread_timeout)\n",
      "File \u001b[1;32m~\\AppData\\Local\\Programs\\Python\\Python311\\Lib\\site-packages\\urllib3\\connection.py:461\u001b[0m, in \u001b[0;36mHTTPConnection.getresponse\u001b[1;34m(self)\u001b[0m\n\u001b[0;32m    458\u001b[0m \u001b[38;5;28;01mfrom\u001b[39;00m \u001b[38;5;21;01m.\u001b[39;00m\u001b[38;5;21;01mresponse\u001b[39;00m \u001b[38;5;28;01mimport\u001b[39;00m HTTPResponse\n\u001b[0;32m    460\u001b[0m \u001b[38;5;66;03m# Get the response from http.client.HTTPConnection\u001b[39;00m\n\u001b[1;32m--> 461\u001b[0m httplib_response \u001b[38;5;241m=\u001b[39m \u001b[38;5;28;43msuper\u001b[39;49m\u001b[43m(\u001b[49m\u001b[43m)\u001b[49m\u001b[38;5;241;43m.\u001b[39;49m\u001b[43mgetresponse\u001b[49m\u001b[43m(\u001b[49m\u001b[43m)\u001b[49m\n\u001b[0;32m    463\u001b[0m \u001b[38;5;28;01mtry\u001b[39;00m:\n\u001b[0;32m    464\u001b[0m     assert_header_parsing(httplib_response\u001b[38;5;241m.\u001b[39mmsg)\n",
      "File \u001b[1;32m~\\AppData\\Local\\Programs\\Python\\Python311\\Lib\\http\\client.py:1378\u001b[0m, in \u001b[0;36mHTTPConnection.getresponse\u001b[1;34m(self)\u001b[0m\n\u001b[0;32m   1376\u001b[0m \u001b[38;5;28;01mtry\u001b[39;00m:\n\u001b[0;32m   1377\u001b[0m     \u001b[38;5;28;01mtry\u001b[39;00m:\n\u001b[1;32m-> 1378\u001b[0m         \u001b[43mresponse\u001b[49m\u001b[38;5;241;43m.\u001b[39;49m\u001b[43mbegin\u001b[49m\u001b[43m(\u001b[49m\u001b[43m)\u001b[49m\n\u001b[0;32m   1379\u001b[0m     \u001b[38;5;28;01mexcept\u001b[39;00m \u001b[38;5;167;01mConnectionError\u001b[39;00m:\n\u001b[0;32m   1380\u001b[0m         \u001b[38;5;28mself\u001b[39m\u001b[38;5;241m.\u001b[39mclose()\n",
      "File \u001b[1;32m~\\AppData\\Local\\Programs\\Python\\Python311\\Lib\\http\\client.py:318\u001b[0m, in \u001b[0;36mHTTPResponse.begin\u001b[1;34m(self)\u001b[0m\n\u001b[0;32m    316\u001b[0m \u001b[38;5;66;03m# read until we get a non-100 response\u001b[39;00m\n\u001b[0;32m    317\u001b[0m \u001b[38;5;28;01mwhile\u001b[39;00m \u001b[38;5;28;01mTrue\u001b[39;00m:\n\u001b[1;32m--> 318\u001b[0m     version, status, reason \u001b[38;5;241m=\u001b[39m \u001b[38;5;28;43mself\u001b[39;49m\u001b[38;5;241;43m.\u001b[39;49m\u001b[43m_read_status\u001b[49m\u001b[43m(\u001b[49m\u001b[43m)\u001b[49m\n\u001b[0;32m    319\u001b[0m     \u001b[38;5;28;01mif\u001b[39;00m status \u001b[38;5;241m!=\u001b[39m CONTINUE:\n\u001b[0;32m    320\u001b[0m         \u001b[38;5;28;01mbreak\u001b[39;00m\n",
      "File \u001b[1;32m~\\AppData\\Local\\Programs\\Python\\Python311\\Lib\\http\\client.py:279\u001b[0m, in \u001b[0;36mHTTPResponse._read_status\u001b[1;34m(self)\u001b[0m\n\u001b[0;32m    278\u001b[0m \u001b[38;5;28;01mdef\u001b[39;00m \u001b[38;5;21m_read_status\u001b[39m(\u001b[38;5;28mself\u001b[39m):\n\u001b[1;32m--> 279\u001b[0m     line \u001b[38;5;241m=\u001b[39m \u001b[38;5;28mstr\u001b[39m(\u001b[38;5;28mself\u001b[39m\u001b[38;5;241m.\u001b[39mfp\u001b[38;5;241m.\u001b[39mreadline(_MAXLINE \u001b[38;5;241m+\u001b[39m \u001b[38;5;241m1\u001b[39m), \u001b[38;5;124m\"\u001b[39m\u001b[38;5;124miso-8859-1\u001b[39m\u001b[38;5;124m\"\u001b[39m)\n\u001b[0;32m    280\u001b[0m     \u001b[38;5;28;01mif\u001b[39;00m \u001b[38;5;28mlen\u001b[39m(line) \u001b[38;5;241m>\u001b[39m _MAXLINE:\n\u001b[0;32m    281\u001b[0m         \u001b[38;5;28;01mraise\u001b[39;00m LineTooLong(\u001b[38;5;124m\"\u001b[39m\u001b[38;5;124mstatus line\u001b[39m\u001b[38;5;124m\"\u001b[39m)\n",
      "File \u001b[1;32m~\\AppData\\Local\\Programs\\Python\\Python311\\Lib\\socket.py:706\u001b[0m, in \u001b[0;36mSocketIO.readinto\u001b[1;34m(self, b)\u001b[0m\n\u001b[0;32m    704\u001b[0m \u001b[38;5;28;01mwhile\u001b[39;00m \u001b[38;5;28;01mTrue\u001b[39;00m:\n\u001b[0;32m    705\u001b[0m     \u001b[38;5;28;01mtry\u001b[39;00m:\n\u001b[1;32m--> 706\u001b[0m         \u001b[38;5;28;01mreturn\u001b[39;00m \u001b[38;5;28;43mself\u001b[39;49m\u001b[38;5;241;43m.\u001b[39;49m\u001b[43m_sock\u001b[49m\u001b[38;5;241;43m.\u001b[39;49m\u001b[43mrecv_into\u001b[49m\u001b[43m(\u001b[49m\u001b[43mb\u001b[49m\u001b[43m)\u001b[49m\n\u001b[0;32m    707\u001b[0m     \u001b[38;5;28;01mexcept\u001b[39;00m timeout:\n\u001b[0;32m    708\u001b[0m         \u001b[38;5;28mself\u001b[39m\u001b[38;5;241m.\u001b[39m_timeout_occurred \u001b[38;5;241m=\u001b[39m \u001b[38;5;28;01mTrue\u001b[39;00m\n",
      "File \u001b[1;32m~\\AppData\\Local\\Programs\\Python\\Python311\\Lib\\ssl.py:1311\u001b[0m, in \u001b[0;36mSSLSocket.recv_into\u001b[1;34m(self, buffer, nbytes, flags)\u001b[0m\n\u001b[0;32m   1307\u001b[0m     \u001b[38;5;28;01mif\u001b[39;00m flags \u001b[38;5;241m!=\u001b[39m \u001b[38;5;241m0\u001b[39m:\n\u001b[0;32m   1308\u001b[0m         \u001b[38;5;28;01mraise\u001b[39;00m \u001b[38;5;167;01mValueError\u001b[39;00m(\n\u001b[0;32m   1309\u001b[0m           \u001b[38;5;124m\"\u001b[39m\u001b[38;5;124mnon-zero flags not allowed in calls to recv_into() on \u001b[39m\u001b[38;5;132;01m%s\u001b[39;00m\u001b[38;5;124m\"\u001b[39m \u001b[38;5;241m%\u001b[39m\n\u001b[0;32m   1310\u001b[0m           \u001b[38;5;28mself\u001b[39m\u001b[38;5;241m.\u001b[39m\u001b[38;5;18m__class__\u001b[39m)\n\u001b[1;32m-> 1311\u001b[0m     \u001b[38;5;28;01mreturn\u001b[39;00m \u001b[38;5;28;43mself\u001b[39;49m\u001b[38;5;241;43m.\u001b[39;49m\u001b[43mread\u001b[49m\u001b[43m(\u001b[49m\u001b[43mnbytes\u001b[49m\u001b[43m,\u001b[49m\u001b[43m \u001b[49m\u001b[43mbuffer\u001b[49m\u001b[43m)\u001b[49m\n\u001b[0;32m   1312\u001b[0m \u001b[38;5;28;01melse\u001b[39;00m:\n\u001b[0;32m   1313\u001b[0m     \u001b[38;5;28;01mreturn\u001b[39;00m \u001b[38;5;28msuper\u001b[39m()\u001b[38;5;241m.\u001b[39mrecv_into(buffer, nbytes, flags)\n",
      "File \u001b[1;32m~\\AppData\\Local\\Programs\\Python\\Python311\\Lib\\ssl.py:1167\u001b[0m, in \u001b[0;36mSSLSocket.read\u001b[1;34m(self, len, buffer)\u001b[0m\n\u001b[0;32m   1165\u001b[0m \u001b[38;5;28;01mtry\u001b[39;00m:\n\u001b[0;32m   1166\u001b[0m     \u001b[38;5;28;01mif\u001b[39;00m buffer \u001b[38;5;129;01mis\u001b[39;00m \u001b[38;5;129;01mnot\u001b[39;00m \u001b[38;5;28;01mNone\u001b[39;00m:\n\u001b[1;32m-> 1167\u001b[0m         \u001b[38;5;28;01mreturn\u001b[39;00m \u001b[38;5;28;43mself\u001b[39;49m\u001b[38;5;241;43m.\u001b[39;49m\u001b[43m_sslobj\u001b[49m\u001b[38;5;241;43m.\u001b[39;49m\u001b[43mread\u001b[49m\u001b[43m(\u001b[49m\u001b[38;5;28;43mlen\u001b[39;49m\u001b[43m,\u001b[49m\u001b[43m \u001b[49m\u001b[43mbuffer\u001b[49m\u001b[43m)\u001b[49m\n\u001b[0;32m   1168\u001b[0m     \u001b[38;5;28;01melse\u001b[39;00m:\n\u001b[0;32m   1169\u001b[0m         \u001b[38;5;28;01mreturn\u001b[39;00m \u001b[38;5;28mself\u001b[39m\u001b[38;5;241m.\u001b[39m_sslobj\u001b[38;5;241m.\u001b[39mread(\u001b[38;5;28mlen\u001b[39m)\n",
      "\u001b[1;31mKeyboardInterrupt\u001b[0m: "
     ]
    }
   ],
   "source": [
    "sp = SpotifyTerminal()\n",
    "tracks_list = []\n",
    "for index, row in df_tracks.iterrows():\n",
    "    r = sp.call_api_search(row['trackName'],row['artistName'])\n",
    "    if r.status_code != 200:\n",
    "        print('bad call on iteration: {}'.format(index))\n",
    "        print('    status code: {}'.format(r.status_code))\n",
    "        break\n",
    "    elif len(r.json()['tracks']['items']) > 0:\n",
    "        track_parsed = sp.parse_track_result(r.json()['tracks']['items'][0])\n",
    "        track_parsed['uniqueName'] = row['artistName'] + row['trackName']\n",
    "        tracks_list.append(track_parsed)\n",
    "    else:\n",
    "        print('could not find {}'.format(row['artistName'] + row['trackName']))\n",
    "        pass"
   ]
  },
  {
   "cell_type": "code",
   "execution_count": 95,
   "id": "eef9ecb2-e932-4b08-b7f5-c83c2e770565",
   "metadata": {},
   "outputs": [
    {
     "data": {
      "text/plain": [
       "[{'id': '79YU92loMkeK28GhVFAHsc',\n",
       "  'name': 'A Singularity - Re-Imagined by Carina Round',\n",
       "  'duration_ms': 290837,\n",
       "  'popularity': 25,\n",
       "  'disc_number': 1,\n",
       "  'track_number': 9,\n",
       "  'explicit': False,\n",
       "  'type': 'track',\n",
       "  'album_id': '2mgxGlqxz7sknQDovNf6bx',\n",
       "  'artist_id': '2pAajGWerK3ghwToNWFENS',\n",
       "  'artist_count': 2,\n",
       "  'uniqueName': 'PusciferA Singularity - Re-Imagined by Carina Round'},\n",
       " {'id': '0zb2kpEQMnqJPiLACKMiFM',\n",
       "  'name': \"Slip Slidin' Away\",\n",
       "  'duration_ms': 285053,\n",
       "  'popularity': 58,\n",
       "  'disc_number': 1,\n",
       "  'track_number': 7,\n",
       "  'explicit': False,\n",
       "  'type': 'track',\n",
       "  'album_id': '4kdOH3s9cRL9YykvHFpSlD',\n",
       "  'artist_id': '2CvCyf1gEVhI0mX6aFXmVI',\n",
       "  'artist_count': 1,\n",
       "  'uniqueName': \"Paul SimonSlip Slidin' Away\"},\n",
       " {'id': '6qLgGLeawKyhMFJ848XtYD',\n",
       "  'name': 'Dragonaut',\n",
       "  'duration_ms': 343160,\n",
       "  'popularity': 52,\n",
       "  'disc_number': 1,\n",
       "  'track_number': 1,\n",
       "  'explicit': False,\n",
       "  'type': 'track',\n",
       "  'album_id': '6L7ENQZtfSKVAq1CIRZSxs',\n",
       "  'artist_id': '4Mt6w4tDGiPgV5q6JWPlrI',\n",
       "  'artist_count': 1,\n",
       "  'uniqueName': 'SleepDragonaut'},\n",
       " {'id': '5ZvQ0NgpIs4UlSMkg0e1Vm',\n",
       "  'name': 'The Mission (M Is For Milla Mix)',\n",
       "  'duration_ms': 224426,\n",
       "  'popularity': 50,\n",
       "  'disc_number': 1,\n",
       "  'track_number': 8,\n",
       "  'explicit': False,\n",
       "  'type': 'track',\n",
       "  'album_id': '7eTCej47mOrnPiXSiKPG8e',\n",
       "  'artist_id': '2pAajGWerK3ghwToNWFENS',\n",
       "  'artist_count': 1,\n",
       "  'uniqueName': 'PusciferThe Mission - M Is For Milla Mix'}]"
      ]
     },
     "execution_count": 95,
     "metadata": {},
     "output_type": "execute_result"
    }
   ],
   "source": [
    "tracks_list"
   ]
  },
  {
   "cell_type": "code",
   "execution_count": 93,
   "id": "b47a24a7-aa78-49fe-84e0-4bbdcf8641ff",
   "metadata": {},
   "outputs": [
    {
     "data": {
      "text/plain": [
       "uniqueName    PusciferMomma Sed (Alive At Club Nokia) - Live\n",
       "artistName                                          Puscifer\n",
       "trackName             Momma Sed (Alive At Club Nokia) - Live\n",
       "Name: 4, dtype: object"
      ]
     },
     "execution_count": 93,
     "metadata": {},
     "output_type": "execute_result"
    }
   ],
   "source": [
    "row"
   ]
  },
  {
   "cell_type": "code",
   "execution_count": 92,
   "id": "f27a4027-edef-4555-9292-d897795f3042",
   "metadata": {},
   "outputs": [
    {
     "data": {
      "text/plain": [
       "{'tracks': {'href': 'https://api.spotify.com/v1/search?query=track%3AMomma+Sed+%28Alive+At+Club+Nokia%29+-+Live+artist%3APuscifer&type=track&offset=0&limit=1',\n",
       "  'items': [],\n",
       "  'limit': 1,\n",
       "  'next': None,\n",
       "  'offset': 0,\n",
       "  'previous': None,\n",
       "  'total': 0}}"
      ]
     },
     "execution_count": 92,
     "metadata": {},
     "output_type": "execute_result"
    }
   ],
   "source": [
    "r.json()"
   ]
  },
  {
   "cell_type": "code",
   "execution_count": 43,
   "id": "5edb7538-3305-41ee-9b23-e5c2588b3bde",
   "metadata": {},
   "outputs": [
    {
     "name": "stdout",
     "output_type": "stream",
     "text": [
      "https://api.spotify.com/v1/search?q=track%3ADinner%20Bell%20artist%3AThey%20Might%20Be%20Giants&type=track&limit=1\n"
     ]
    }
   ],
   "source": [
    "sp = spotify_terminal()\n",
    "r = sp.call_api_search('Dinner Bell','They Might Be Giants')\n",
    "track_item = r.json()['tracks']['items'][0]\n",
    "track_parsed = sp.parse_track_result(track_item)"
   ]
  },
  {
   "cell_type": "code",
   "execution_count": 44,
   "id": "423c714b-689e-4185-ab2d-1ab5f291b1a5",
   "metadata": {},
   "outputs": [
    {
     "data": {
      "text/plain": [
       "{'id': '0z6nT8XjlV0nrx35LxDki0',\n",
       " 'name': 'Dinner Bell',\n",
       " 'duration_ms': 128893,\n",
       " 'popularity': 34,\n",
       " 'disc_number': 1,\n",
       " 'track_number': 9,\n",
       " 'explicit': False,\n",
       " 'type': 'track',\n",
       " 'album_id': '5HswYyErxPHfQtHhNlzhnR',\n",
       " 'artist_id': '6zB02lwP6L6ZH32nggQiJT',\n",
       " 'artist_count': 1}"
      ]
     },
     "execution_count": 44,
     "metadata": {},
     "output_type": "execute_result"
    }
   ],
   "source": [
    "track_parsed"
   ]
  },
  {
   "cell_type": "code",
   "execution_count": 39,
   "id": "7a4ef9f8-d5e8-4f8f-8a50-4b6e7f8ce9fc",
   "metadata": {
    "scrolled": true
   },
   "outputs": [
    {
     "data": {
      "text/plain": [
       "dict"
      ]
     },
     "execution_count": 39,
     "metadata": {},
     "output_type": "execute_result"
    }
   ],
   "source": [
    "type(track_item)"
   ]
  },
  {
   "cell_type": "code",
   "execution_count": 30,
   "id": "e0dd9a31-7f28-4375-8d4f-bdaf9a90f355",
   "metadata": {
    "scrolled": true
   },
   "outputs": [
    {
     "data": {
      "text/plain": [
       "'Artists Only - 2005 Remaster'"
      ]
     },
     "execution_count": 30,
     "metadata": {},
     "output_type": "execute_result"
    }
   ],
   "source": [
    "r.json()['tracks']['items'][0]['name']"
   ]
  },
  {
   "cell_type": "code",
   "execution_count": 13,
   "id": "9fadcd4c-8d5c-4d98-b1b4-ff29bd5c9153",
   "metadata": {},
   "outputs": [],
   "source": [
    "r = sp.call_api(['6wsqVwoiVH2kde4k4KKAFU','2wGSgTmgSF3xjRrHkTc25R'],'audio-features')"
   ]
  },
  {
   "cell_type": "code",
   "execution_count": 15,
   "id": "4dc03881-3868-40bf-a14c-a11d0608db31",
   "metadata": {},
   "outputs": [
    {
     "data": {
      "text/plain": [
       "{'audio_features': [{'danceability': 0.927,\n",
       "   'energy': 0.619,\n",
       "   'key': 5,\n",
       "   'loudness': -4.441,\n",
       "   'mode': 0,\n",
       "   'speechiness': 0.0539,\n",
       "   'acousticness': 0.0186,\n",
       "   'instrumentalness': 0,\n",
       "   'liveness': 0.104,\n",
       "   'valence': 0.817,\n",
       "   'tempo': 117.995,\n",
       "   'type': 'audio_features',\n",
       "   'id': '6wsqVwoiVH2kde4k4KKAFU',\n",
       "   'uri': 'spotify:track:6wsqVwoiVH2kde4k4KKAFU',\n",
       "   'track_href': 'https://api.spotify.com/v1/tracks/6wsqVwoiVH2kde4k4KKAFU',\n",
       "   'analysis_url': 'https://api.spotify.com/v1/audio-analysis/6wsqVwoiVH2kde4k4KKAFU',\n",
       "   'duration_ms': 211582,\n",
       "   'time_signature': 4},\n",
       "  {'danceability': 0.802,\n",
       "   'energy': 0.785,\n",
       "   'key': 9,\n",
       "   'loudness': -4.781,\n",
       "   'mode': 1,\n",
       "   'speechiness': 0.207,\n",
       "   'acousticness': 0.14,\n",
       "   'instrumentalness': 0,\n",
       "   'liveness': 0.123,\n",
       "   'valence': 0.435,\n",
       "   'tempo': 99.998,\n",
       "   'type': 'audio_features',\n",
       "   'id': '2wGSgTmgSF3xjRrHkTc25R',\n",
       "   'uri': 'spotify:track:2wGSgTmgSF3xjRrHkTc25R',\n",
       "   'track_href': 'https://api.spotify.com/v1/tracks/2wGSgTmgSF3xjRrHkTc25R',\n",
       "   'analysis_url': 'https://api.spotify.com/v1/audio-analysis/2wGSgTmgSF3xjRrHkTc25R',\n",
       "   'duration_ms': 206400,\n",
       "   'time_signature': 4}]}"
      ]
     },
     "execution_count": 15,
     "metadata": {},
     "output_type": "execute_result"
    }
   ],
   "source": [
    "r.json()"
   ]
  },
  {
   "cell_type": "code",
   "execution_count": null,
   "id": "d07cebfc-b7ca-4744-a831-2200931ebcfb",
   "metadata": {},
   "outputs": [],
   "source": []
  }
 ],
 "metadata": {
  "kernelspec": {
   "display_name": "Python 3 (ipykernel)",
   "language": "python",
   "name": "python3"
  },
  "language_info": {
   "codemirror_mode": {
    "name": "ipython",
    "version": 3
   },
   "file_extension": ".py",
   "mimetype": "text/x-python",
   "name": "python",
   "nbconvert_exporter": "python",
   "pygments_lexer": "ipython3",
   "version": "3.11.5"
  }
 },
 "nbformat": 4,
 "nbformat_minor": 5
}
